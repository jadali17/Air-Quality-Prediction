{
 "cells": [
  {
   "cell_type": "code",
   "execution_count": 1,
   "metadata": {},
   "outputs": [],
   "source": [
    "import os\n",
    "import pandas as pd\n",
    "import numpy as np\n",
    "import re\n",
    "import seaborn as sns\n",
    "import matplotlib.pyplot as plt\n",
    "from matplotlib import pyplot\n",
    "from scipy import stats"
   ]
  },
  {
   "cell_type": "markdown",
   "metadata": {},
   "source": [
    "## 1) Loading in the data"
   ]
  },
  {
   "cell_type": "code",
   "execution_count": 2,
   "metadata": {},
   "outputs": [
    {
     "data": {
      "text/html": [
       "<div>\n",
       "<style scoped>\n",
       "    .dataframe tbody tr th:only-of-type {\n",
       "        vertical-align: middle;\n",
       "    }\n",
       "\n",
       "    .dataframe tbody tr th {\n",
       "        vertical-align: top;\n",
       "    }\n",
       "\n",
       "    .dataframe thead th {\n",
       "        text-align: right;\n",
       "    }\n",
       "</style>\n",
       "<table border=\"1\" class=\"dataframe\">\n",
       "  <thead>\n",
       "    <tr style=\"text-align: right;\">\n",
       "      <th></th>\n",
       "      <th>Start</th>\n",
       "      <th>PM10</th>\n",
       "    </tr>\n",
       "  </thead>\n",
       "  <tbody>\n",
       "    <tr>\n",
       "      <th>0</th>\n",
       "      <td>2015-01-01 00:00:00</td>\n",
       "      <td>28.4</td>\n",
       "    </tr>\n",
       "    <tr>\n",
       "      <th>1</th>\n",
       "      <td>2015-01-01 01:00:00</td>\n",
       "      <td>8.5</td>\n",
       "    </tr>\n",
       "    <tr>\n",
       "      <th>2</th>\n",
       "      <td>2015-01-01 02:00:00</td>\n",
       "      <td>8.7</td>\n",
       "    </tr>\n",
       "    <tr>\n",
       "      <th>3</th>\n",
       "      <td>2015-01-01 03:00:00</td>\n",
       "      <td>10.5</td>\n",
       "    </tr>\n",
       "    <tr>\n",
       "      <th>4</th>\n",
       "      <td>2015-01-01 04:00:00</td>\n",
       "      <td>12.1</td>\n",
       "    </tr>\n",
       "  </tbody>\n",
       "</table>\n",
       "</div>"
      ],
      "text/plain": [
       "                Start  PM10\n",
       "0 2015-01-01 00:00:00  28.4\n",
       "1 2015-01-01 01:00:00   8.5\n",
       "2 2015-01-01 02:00:00   8.7\n",
       "3 2015-01-01 03:00:00  10.5\n",
       "4 2015-01-01 04:00:00  12.1"
      ]
     },
     "execution_count": 2,
     "metadata": {},
     "output_type": "execute_result"
    }
   ],
   "source": [
    "dataPath = 'Data/2016-2019(One station)/shair-8781-1-6-1.csv'\n",
    "airQualityData=pd.read_csv(dataPath, header=14,sep=';').rename(columns={'Start':'Start','Slut':'Stop'})\n",
    "airQualityData.rename(columns = lambda x: re.sub('NOX.*','NOX',x), inplace = True)\n",
    "airQualityData.rename(columns = lambda x: re.sub('PM10.*','PM10',x), inplace = True)\n",
    "airQualityData.rename(columns = lambda x: re.sub('PM2.5.*','PM2_5',x), inplace = True)\n",
    "airQualityData.rename(columns = lambda x: re.sub('NO2.*','NO2',x), inplace = True)\n",
    "airQualityData.rename(columns = lambda x: re.sub('O3.*','O3',x), inplace = True)\n",
    "airQualityData.rename(columns = lambda x: re.sub('Black Carbon.*','Black Carbon',x), inplace = True)\n",
    "airQualityData['Start'] = pd.to_datetime(airQualityData['Start'])\n",
    "airQualityData= airQualityData.drop('Stop',axis=1)\n",
    "one_feature=airQualityData.drop(columns=['Black Carbon','NO2','NOX','O3','PM2_5'])\n",
    "one_feature.head(5)"
   ]
  },
  {
   "cell_type": "markdown",
   "metadata": {},
   "source": [
    "## 2) Creating the train and testing set"
   ]
  },
  {
   "cell_type": "code",
   "execution_count": 84,
   "metadata": {},
   "outputs": [],
   "source": [
    "train=one_feature[(one_feature['Start']<= \"2018-12-31 23:00:00\")]\n",
    "test=one_feature[(one_feature['Start'] >= \"2019-12-01 00:00:00\")]"
   ]
  },
  {
   "cell_type": "code",
   "execution_count": null,
   "metadata": {},
   "outputs": [],
   "source": [
    "#TODO MIN-MAX SCALE"
   ]
  },
  {
   "cell_type": "markdown",
   "metadata": {},
   "source": [
    "### Training set"
   ]
  },
  {
   "cell_type": "code",
   "execution_count": 71,
   "metadata": {
    "scrolled": true
   },
   "outputs": [
    {
     "name": "stdout",
     "output_type": "stream",
     "text": [
      "(35059, 5)\n"
     ]
    }
   ],
   "source": [
    "training_set=train['PM10']\n",
    "X_train = []\n",
    "y_train = []\n",
    "for i in range(5, len(training_set)):\n",
    "    X_train.append(training_set[i-5:i])\n",
    "    y_train.append(training_set[i])\n",
    "    \n",
    "X_train, y_train = np.array(X_train), np.array(y_train)\n",
    "print (X_train.shape)\n",
    "X_train = np.reshape(X_train, (X_train.shape[0], X_train.shape[1], 1))\n",
    "#-------------------------------------#\n",
    "#Deleting the samples that contain nan\n",
    "index=[]\n",
    "for i in range(0,len(X_train)):\n",
    "    if np.isnan(X_train[i]).any() or np.isnan(y_train[i]):\n",
    "        index.append(i)\n",
    "X_train_new=np.delete(X_train,index, axis=0)\n",
    "y_train_new=np.delete(y_train,index)"
   ]
  },
  {
   "cell_type": "markdown",
   "metadata": {},
   "source": [
    "### Testing set"
   ]
  },
  {
   "cell_type": "code",
   "execution_count": 99,
   "metadata": {},
   "outputs": [
    {
     "name": "stdout",
     "output_type": "stream",
     "text": [
      "(739, 5)\n"
     ]
    }
   ],
   "source": [
    "testing_set=test['PM10']\n",
    "testing_set=testing_set.reset_index()\n",
    "testing_set=testing_set['PM10']\n",
    "X_test = []\n",
    "y_test = []\n",
    "for i in range(5, len(testing_set)):\n",
    "    X_test.append(testing_set[i-5:i])\n",
    "    y_test.append(testing_set[i])\n",
    "    \n",
    "X_test, y_test = np.array(X_test), np.array(y_test)\n",
    "print (X_test.shape)\n",
    "X_test = np.reshape(X_test, (X_test.shape[0], X_test.shape[1], 1))\n",
    "#-------------------------------------#\n",
    "#Deleting the samples that contain nan\n",
    "index=[]\n",
    "for i in range(0,len(X_test)):\n",
    "    if np.isnan(X_test[i]).any() or np.isnan(y_test[i]):\n",
    "        index.append(i)\n",
    "X_test_new=np.delete(X_test,index, axis=0)\n",
    "y_test_new=np.delete(y_test,index)"
   ]
  },
  {
   "cell_type": "code",
   "execution_count": 100,
   "metadata": {},
   "outputs": [
    {
     "data": {
      "text/plain": [
       "0      6.9\n",
       "1      5.3\n",
       "2      4.4\n",
       "3      3.5\n",
       "4      3.4\n",
       "      ... \n",
       "739    6.4\n",
       "740    4.5\n",
       "741    3.0\n",
       "742    2.8\n",
       "743    4.6\n",
       "Name: PM10, Length: 744, dtype: float64"
      ]
     },
     "execution_count": 100,
     "metadata": {},
     "output_type": "execute_result"
    }
   ],
   "source": []
  },
  {
   "cell_type": "markdown",
   "metadata": {},
   "source": [
    "## 3) Model creation "
   ]
  },
  {
   "cell_type": "code",
   "execution_count": 68,
   "metadata": {
    "scrolled": true
   },
   "outputs": [
    {
     "name": "stdout",
     "output_type": "stream",
     "text": [
      "Epoch 1/15\n",
      "33156/33156 [==============================] - 72s 2ms/step - loss: 46.9688\n",
      "Epoch 2/15\n",
      "33156/33156 [==============================] - 71s 2ms/step - loss: 26.2662\n",
      "Epoch 3/15\n",
      "33156/33156 [==============================] - 70s 2ms/step - loss: 24.7479\n",
      "Epoch 4/15\n",
      "33156/33156 [==============================] - 70s 2ms/step - loss: 24.0243\n",
      "Epoch 5/15\n",
      "33156/33156 [==============================] - 71s 2ms/step - loss: 23.5056\n",
      "Epoch 6/15\n",
      "33156/33156 [==============================] - 71s 2ms/step - loss: 23.5969\n",
      "Epoch 7/15\n",
      "33156/33156 [==============================] - 70s 2ms/step - loss: 23.2247\n",
      "Epoch 8/15\n",
      "33156/33156 [==============================] - 69s 2ms/step - loss: 23.0642\n",
      "Epoch 9/15\n",
      "33156/33156 [==============================] - 70s 2ms/step - loss: 23.0436\n",
      "Epoch 10/15\n",
      "33156/33156 [==============================] - 71s 2ms/step - loss: 22.9995\n",
      "Epoch 11/15\n",
      "33156/33156 [==============================] - 70s 2ms/step - loss: 22.8874\n",
      "Epoch 12/15\n",
      "33156/33156 [==============================] - 70s 2ms/step - loss: 23.0037\n",
      "Epoch 13/15\n",
      "33156/33156 [==============================] - 70s 2ms/step - loss: 22.9076\n",
      "Epoch 14/15\n",
      "33156/33156 [==============================] - 70s 2ms/step - loss: 22.8626\n",
      "Epoch 15/15\n",
      "33156/33156 [==============================] - 70s 2ms/step - loss: 22.9616\n"
     ]
    },
    {
     "data": {
      "text/plain": [
       "<keras.callbacks.callbacks.History at 0x2505fff9688>"
      ]
     },
     "execution_count": 68,
     "metadata": {},
     "output_type": "execute_result"
    }
   ],
   "source": [
    "from keras.models import Sequential\n",
    "from keras.layers import Dense\n",
    "from keras.layers import LSTM\n",
    "from keras.layers import Dropout\n",
    "regressor = Sequential()\n",
    "\n",
    "regressor.add(LSTM(units = 50, return_sequences = True, input_shape = (X_train.shape[1], 1)))\n",
    "regressor.add(Dropout(0.2))\n",
    "\n",
    "regressor.add(LSTM(units = 50, return_sequences = True))\n",
    "regressor.add(Dropout(0.2))\n",
    "\n",
    "regressor.add(LSTM(units = 50, return_sequences = True))\n",
    "regressor.add(Dropout(0.2))\n",
    "\n",
    "regressor.add(LSTM(units = 50))\n",
    "regressor.add(Dropout(0.2))\n",
    "\n",
    "regressor.add(Dense(units = 1))\n",
    "\n",
    "regressor.compile(optimizer = 'adam', loss = 'mean_squared_error')\n",
    "\n",
    "regressor.fit(X_train_new, y_train_new, epochs = 15, batch_size = 32)"
   ]
  },
  {
   "cell_type": "code",
   "execution_count": 101,
   "metadata": {},
   "outputs": [
    {
     "data": {
      "image/png": "[encoded data removed]",
      "text/plain": [
       "<Figure size 432x288 with 1 Axes>"
      ]
     },
     "metadata": {
      "needs_background": "light"
     },
     "output_type": "display_data"
    }
   ],
   "source": [
    "predicted = regressor.predict(X_test_new)\n",
    "plt.plot(y_test_new, color = 'black', label = 'PM10')\n",
    "plt.plot(predicted, color = 'green', label = 'Predicted PM10')\n",
    "plt.title('PM10 Predictions')\n",
    "plt.xlabel('Time')\n",
    "plt.ylabel('PM10')\n",
    "plt.legend()\n",
    "plt.show()"
   ]
  },
  {
   "cell_type": "code",
   "execution_count": null,
   "metadata": {},
   "outputs": [],
   "source": []
  }
 ],
 "metadata": {
  "kernelspec": {
   "display_name": "Python 3",
   "language": "python",
   "name": "python3"
  },
  "language_info": {
   "codemirror_mode": {
    "name": "ipython",
    "version": 3
   },
   "file_extension": ".py",
   "mimetype": "text/x-python",
   "name": "python",
   "nbconvert_exporter": "python",
   "pygments_lexer": "ipython3",
   "version": "3.7.7"
  }
 },
 "nbformat": 4,
 "nbformat_minor": 4
}
