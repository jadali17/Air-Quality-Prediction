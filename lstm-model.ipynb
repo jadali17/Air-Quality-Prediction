{
 "cells": [
  {
   "cell_type": "code",
   "execution_count": 2,
   "metadata": {},
   "outputs": [],
   "source": [
    "import os\n",
    "import pandas as pd\n",
    "import numpy as np\n",
    "import re\n",
    "import seaborn as sns\n",
    "import matplotlib.pyplot as plt\n",
    "from matplotlib import pyplot\n",
    "from scipy import stats"
   ]
  },
  {
   "cell_type": "markdown",
   "metadata": {},
   "source": [
    "## 1) Loading in the data"
   ]
  },
  {
   "cell_type": "code",
   "execution_count": 3,
   "metadata": {},
   "outputs": [
    {
     "data": {
      "text/html": [
       "<div>\n",
       "<style scoped>\n",
       "    .dataframe tbody tr th:only-of-type {\n",
       "        vertical-align: middle;\n",
       "    }\n",
       "\n",
       "    .dataframe tbody tr th {\n",
       "        vertical-align: top;\n",
       "    }\n",
       "\n",
       "    .dataframe thead th {\n",
       "        text-align: right;\n",
       "    }\n",
       "</style>\n",
       "<table border=\"1\" class=\"dataframe\">\n",
       "  <thead>\n",
       "    <tr style=\"text-align: right;\">\n",
       "      <th></th>\n",
       "      <th>Start</th>\n",
       "      <th>NO2</th>\n",
       "      <th>PM10</th>\n",
       "    </tr>\n",
       "  </thead>\n",
       "  <tbody>\n",
       "    <tr>\n",
       "      <th>0</th>\n",
       "      <td>2015-01-01 00:00:00</td>\n",
       "      <td>4.5</td>\n",
       "      <td>28.4</td>\n",
       "    </tr>\n",
       "    <tr>\n",
       "      <th>1</th>\n",
       "      <td>2015-01-01 01:00:00</td>\n",
       "      <td>3.1</td>\n",
       "      <td>8.5</td>\n",
       "    </tr>\n",
       "    <tr>\n",
       "      <th>2</th>\n",
       "      <td>2015-01-01 02:00:00</td>\n",
       "      <td>2.1</td>\n",
       "      <td>8.7</td>\n",
       "    </tr>\n",
       "    <tr>\n",
       "      <th>3</th>\n",
       "      <td>2015-01-01 03:00:00</td>\n",
       "      <td>1.6</td>\n",
       "      <td>10.5</td>\n",
       "    </tr>\n",
       "    <tr>\n",
       "      <th>4</th>\n",
       "      <td>2015-01-01 04:00:00</td>\n",
       "      <td>1.4</td>\n",
       "      <td>12.1</td>\n",
       "    </tr>\n",
       "  </tbody>\n",
       "</table>\n",
       "</div>"
      ],
      "text/plain": [
       "                Start  NO2  PM10\n",
       "0 2015-01-01 00:00:00  4.5  28.4\n",
       "1 2015-01-01 01:00:00  3.1   8.5\n",
       "2 2015-01-01 02:00:00  2.1   8.7\n",
       "3 2015-01-01 03:00:00  1.6  10.5\n",
       "4 2015-01-01 04:00:00  1.4  12.1"
      ]
     },
     "execution_count": 3,
     "metadata": {},
     "output_type": "execute_result"
    }
   ],
   "source": [
    "dataPath = 'Data/2016-2019(One station)/shair-8781-1-6-1.csv'\n",
    "airQualityData=pd.read_csv(dataPath, header=14,sep=';').rename(columns={'Start':'Start','Slut':'Stop'})\n",
    "airQualityData.rename(columns = lambda x: re.sub('NOX.*','NOX',x), inplace = True)\n",
    "airQualityData.rename(columns = lambda x: re.sub('PM10.*','PM10',x), inplace = True)\n",
    "airQualityData.rename(columns = lambda x: re.sub('PM2.5.*','PM2_5',x), inplace = True)\n",
    "airQualityData.rename(columns = lambda x: re.sub('NO2.*','NO2',x), inplace = True)\n",
    "airQualityData.rename(columns = lambda x: re.sub('O3.*','O3',x), inplace = True)\n",
    "airQualityData.rename(columns = lambda x: re.sub('Black Carbon.*','Black Carbon',x), inplace = True)\n",
    "airQualityData['Start'] = pd.to_datetime(airQualityData['Start'])\n",
    "airQualityData= airQualityData.drop('Stop',axis=1)\n",
    "one_feature=airQualityData.drop(columns=['Black Carbon','NOX','O3','PM2_5'])#\n",
    "one_feature.head(5)"
   ]
  },
  {
   "cell_type": "markdown",
   "metadata": {},
   "source": [
    "## 2) Creating the train and testing set"
   ]
  },
  {
   "cell_type": "code",
   "execution_count": 34,
   "metadata": {},
   "outputs": [],
   "source": [
    "one_feature.loc[(one_feature['PM10'] <= 0, 'PM10')]=np.nan\n",
    "one_feature.loc[(one_feature['NO2'] <= 0, 'PM10')]=np.nan"
   ]
  },
  {
   "cell_type": "code",
   "execution_count": 35,
   "metadata": {},
   "outputs": [],
   "source": [
    "from sklearn.preprocessing import MinMaxScaler\n",
    "sc = MinMaxScaler(feature_range = (0, 1))\n",
    "scaled_down=one_feature.copy()\n",
    "scaled_down['PM10']=sc.fit_transform(scaled_down['PM10'].values.reshape(-1, 1))\n",
    "scaled_down['NO2']=sc.fit_transform(scaled_down['NO2'].values.reshape(-1, 1))"
   ]
  },
  {
   "cell_type": "code",
   "execution_count": 36,
   "metadata": {},
   "outputs": [],
   "source": [
    "train=scaled_down[(scaled_down['Start']<= \"2018-12-31 23:00:00\")]\n",
    "test=scaled_down[(scaled_down['Start'] >= \"2019-01-01 00:00:00\")]"
   ]
  },
  {
   "cell_type": "markdown",
   "metadata": {},
   "source": [
    "### Training set"
   ]
  },
  {
   "cell_type": "code",
   "execution_count": 37,
   "metadata": {
    "scrolled": true
   },
   "outputs": [
    {
     "name": "stdout",
     "output_type": "stream",
     "text": [
      "(35059, 6)\n"
     ]
    }
   ],
   "source": [
    "training_set=train['PM10']\n",
    "X_train = []\n",
    "y_train = []\n",
    "for i in range(5, len(training_set)):\n",
    "    X_train.append(training_set.loc[i-5:i])\n",
    "    y_train.append(training_set.loc[i])\n",
    "    \n",
    "X_train, y_train = np.array(X_train), np.array(y_train)\n",
    "print (X_train.shape)\n",
    "X_train = np.reshape(X_train, (X_train.shape[0], X_train.shape[1], 1))\n",
    "#-------------------------------------#\n",
    "#Deleting the samples that contain nan\n",
    "index=[]\n",
    "for i in range(0,len(X_train)):\n",
    "    if np.isnan(X_train[i]).any() or np.isnan(y_train[i]):\n",
    "        index.append(i)\n",
    "X_train_new=np.delete(X_train,index, axis=0)\n",
    "y_train_new=np.delete(y_train,index)"
   ]
  },
  {
   "cell_type": "markdown",
   "metadata": {},
   "source": [
    "### Testing set"
   ]
  },
  {
   "cell_type": "code",
   "execution_count": 38,
   "metadata": {},
   "outputs": [
    {
     "name": "stdout",
     "output_type": "stream",
     "text": [
      "(8755, 5)\n"
     ]
    }
   ],
   "source": [
    "testing_set=test['PM10']\n",
    "testing_set=testing_set.reset_index()\n",
    "testing_set=testing_set['PM10']\n",
    "X_test = []\n",
    "y_test = []\n",
    "for i in range(5, len(testing_set)):\n",
    "    X_test.append(testing_set[i-5:i])\n",
    "    y_test.append(testing_set[i])\n",
    "    \n",
    "X_test, y_test = np.array(X_test), np.array(y_test)\n",
    "print (X_test.shape)\n",
    "X_test = np.reshape(X_test, (X_test.shape[0], X_test.shape[1], 1))\n",
    "#-------------------------------------#\n",
    "#Deleting the samples that contain nan\n",
    "index=[]\n",
    "for i in range(0,len(X_test)):\n",
    "    if np.isnan(X_test[i]).any() or np.isnan(y_test[i]):\n",
    "        index.append(i)\n",
    "X_test_new=np.delete(X_test,index, axis=0)\n",
    "y_test_new=np.delete(y_test,index)"
   ]
  },
  {
   "cell_type": "markdown",
   "metadata": {},
   "source": [
    "## 3) Model creation "
   ]
  },
  {
   "cell_type": "code",
   "execution_count": 39,
   "metadata": {
    "scrolled": false
   },
   "outputs": [],
   "source": [
    "from keras.models import Sequential\n",
    "from keras.layers import Dense\n",
    "from keras.layers import LSTM\n",
    "from keras.layers import Dropout\n",
    "regressor = Sequential()\n",
    "\n",
    "regressor.add(LSTM(units = 50, return_sequences = True, input_shape = (X_train.shape[1], 1)))\n",
    "regressor.add(Dropout(0.2))\n",
    "\n",
    "regressor.add(LSTM(units = 50, return_sequences = True))\n",
    "regressor.add(Dropout(0.2))\n",
    "\n",
    "regressor.add(LSTM(units = 50, return_sequences = True))\n",
    "regressor.add(Dropout(0.2))\n",
    "\n",
    "regressor.add(LSTM(units = 50))\n",
    "regressor.add(Dropout(0.2))\n",
    "\n",
    "regressor.add(Dense(units = 1))\n",
    "\n",
    "regressor.compile(optimizer = 'adam', loss = 'mean_squared_error')\n",
    "\n",
    "regressor.fit(X_train_new, y_train_new, epochs = 15, batch_size = 32)"
   ]
  },
  {
   "cell_type": "code",
   "execution_count": 9,
   "metadata": {},
   "outputs": [
    {
     "name": "stdout",
     "output_type": "stream",
     "text": [
      "WARNING:tensorflow:Model was constructed with shape (None, 6, 1) for input Tensor(\"lstm_input:0\", shape=(None, 6, 1), dtype=float32), but it was called on an input with incompatible shape (None, 5, 1).\n"
     ]
    },
    {
     "data": {
      "image/png": "[encoded data removed]",
      "text/plain": [
       "<Figure size 1080x1080 with 1 Axes>"
      ]
     },
     "metadata": {
      "needs_background": "light"
     },
     "output_type": "display_data"
    }
   ],
   "source": [
    "predicted = regressor.predict(X_test_new)\n",
    "predicted=sc.inverse_transform(predicted)\n",
    "y_test_new=sc.inverse_transform(y_test_new.reshape(-1,1))\n",
    "fig = plt.figure(figsize=(15,15))\n",
    "plt.plot(y_test_new, color = 'black', label = 'PM10')\n",
    "plt.plot(predicted, color = 'green', label = 'Predicted PM10')\n",
    "plt.title('PM10 Predictions')\n",
    "plt.xlabel('Time')\n",
    "plt.ylabel('PM10')\n",
    "plt.legend()\n",
    "plt.show()"
   ]
  },
  {
   "cell_type": "code",
   "execution_count": 10,
   "metadata": {},
   "outputs": [
    {
     "name": "stdout",
     "output_type": "stream",
     "text": [
      "3.2153575467816538\n"
     ]
    }
   ],
   "source": [
    "from sklearn.metrics import mean_squared_error\n",
    "import math\n",
    "rmse = math.sqrt(mean_squared_error(y_test_new, predicted))\n",
    "print(rmse)"
   ]
  },
  {
   "cell_type": "code",
   "execution_count": 187,
   "metadata": {},
   "outputs": [
    {
     "name": "stdout",
     "output_type": "stream",
     "text": [
      "0.5073876300089184\n"
     ]
    }
   ],
   "source": [
    "from sklearn.metrics import mean_squared_error\n",
    "predicted = regressor.predict(X_train_new)\n",
    "predicted=sc.inverse_transform(predicted)\n",
    "y_train_new=sc.inverse_transform(y_train_new.reshape(-1,1))\n",
    "import math\n",
    "rmse = math.sqrt(mean_squared_error(y_train_new, predicted))\n",
    "print(rmse)\n"
   ]
  },
  {
   "cell_type": "markdown",
   "metadata": {},
   "source": [
    "# MODEL CREATION v2 "
   ]
  },
  {
   "cell_type": "markdown",
   "metadata": {},
   "source": [
    "### UNIVARIATE MODEL"
   ]
  },
  {
   "cell_type": "code",
   "execution_count": 155,
   "metadata": {},
   "outputs": [],
   "source": [
    "temp_train=one_feature[(one_feature['Start']<= \"2018-12-31 23:00:00\")]\n",
    "temp_test=one_feature[(one_feature['Start']>= \"2019-12-30 00:00:00\")]\n",
    "temp_train=temp_train.drop('NO2',axis=1)\n",
    "temp_test=temp_test.drop('NO2',axis=1)"
   ]
  },
  {
   "cell_type": "markdown",
   "metadata": {},
   "source": [
    "#### Training"
   ]
  },
  {
   "cell_type": "code",
   "execution_count": 156,
   "metadata": {},
   "outputs": [
    {
     "name": "stdout",
     "output_type": "stream",
     "text": [
      "(32, 5)\n"
     ]
    }
   ],
   "source": [
    "from keras.preprocessing.sequence import TimeseriesGenerator\n",
    "temp = temp_train.copy()\n",
    "temp=temp.fillna(0)\n",
    "temp=temp.drop('Start', axis = 1)\n",
    "temp_X_train = temp\n",
    "temp_X_train = temp_X_train.values\n",
    "temp_X_train = temp_X_train.reshape(len(temp_X_train))\n",
    "# temp_y_train = temp[['PM10']].copy() \n",
    "# temp_y_train = temp_y_train.values\n",
    "# temp_y_train = temp_y_train.reshape(-1) \n",
    "# temp_y_train = np.insert(temp_y_train, 0, 0)\n",
    "# temp_y_train = np.delete(temp_y_train, -1)\n",
    "n_input = 5 #how many samples/rows/timesteps to look in the past in order to forecast the next sample\n",
    "n_features= 1 # how many predictors/Xs/features we have to predict y\n",
    "b_size = 32 # Number of timeseries samples in each batch\n",
    "generator_train = TimeseriesGenerator(temp_X_train, temp_X_train, length=n_input, batch_size=b_size)\n",
    "\n",
    "print(generator_train[0][0].shape)"
   ]
  },
  {
   "cell_type": "markdown",
   "metadata": {},
   "source": [
    "#### Testing"
   ]
  },
  {
   "cell_type": "code",
   "execution_count": 157,
   "metadata": {},
   "outputs": [
    {
     "name": "stdout",
     "output_type": "stream",
     "text": [
      "(32, 5)\n"
     ]
    }
   ],
   "source": [
    "from keras.preprocessing.sequence import TimeseriesGenerator\n",
    "temp = temp_test.copy()\n",
    "temp=temp.fillna(0)\n",
    "temp=temp.drop('Start', axis = 1)\n",
    "temp_X_test = temp\n",
    "temp_X_test = temp_X_test.values\n",
    "temp_X_test = temp_X_test.reshape(len(temp_X_test))\n",
    "# temp_y_test = temp[['PM10']].copy().values\n",
    "# temp_y_test=temp_y_test.reshape(len(temp_y_test)) \n",
    "# temp_y_test = temp_y_test.values\n",
    "# temp_y_test = temp_y_test.reshape(-1) \n",
    "# temp_y_test = np.insert(temp_y_test, 0, 0)\n",
    "# temp_y_test = np.delete(temp_y_test, -1)\n",
    "n_input = 5 #how many samples/rows/timesteps to look in the past in order to forecast the next sample\n",
    "# n_features= temp_X_train.shape[1] # how many predictors/Xs/features we have to predict y\n",
    "b_size = 32 # Number of timeseries samples in each batch\n",
    "generator_test = TimeseriesGenerator(temp_X_test, temp_X_test, length=n_input, batch_size=b_size)\n",
    "\n",
    "print(generator_test[0][0].shape)"
   ]
  },
  {
   "cell_type": "code",
   "execution_count": 158,
   "metadata": {},
   "outputs": [
    {
     "name": "stdout",
     "output_type": "stream",
     "text": [
      "Model: \"sequential_15\"\n",
      "_________________________________________________________________\n",
      "Layer (type)                 Output Shape              Param #   \n",
      "=================================================================\n",
      "masking_10 (Masking)         (None, 5, 1)              0         \n",
      "_________________________________________________________________\n",
      "lstm_26 (LSTM)               (None, 100)               40800     \n",
      "_________________________________________________________________\n",
      "dropout_25 (Dropout)         (None, 100)               0         \n",
      "_________________________________________________________________\n",
      "dense_11 (Dense)             (None, 1)                 101       \n",
      "=================================================================\n",
      "Total params: 40,901\n",
      "Trainable params: 40,901\n",
      "Non-trainable params: 0\n",
      "_________________________________________________________________\n"
     ]
    }
   ],
   "source": [
    "from keras.layers import Masking\n",
    "model = Sequential()\n",
    "model.add(Masking(mask_value=0.,input_shape=(n_input, n_features)))      \n",
    "model.add(LSTM(100, activation='relu'))\n",
    "model.add(Dropout(0.2))\n",
    "model.add(Dense(1))\n",
    "model.compile(optimizer='adam', loss='mse')\n",
    "model.summary()"
   ]
  },
  {
   "cell_type": "code",
   "execution_count": 159,
   "metadata": {
    "scrolled": true
   },
   "outputs": [
    {
     "name": "stdout",
     "output_type": "stream",
     "text": [
      "Epoch 1/5\n",
      "1096/1096 [==============================] - 3s 2ms/step - loss: 28.9448\n",
      "Epoch 2/5\n",
      "1096/1096 [==============================] - 3s 2ms/step - loss: 24.3138\n",
      "Epoch 3/5\n",
      "1096/1096 [==============================] - 3s 2ms/step - loss: 24.4084\n",
      "Epoch 4/5\n",
      "1096/1096 [==============================] - 3s 2ms/step - loss: 24.1118\n",
      "Epoch 5/5\n",
      "1096/1096 [==============================] - 3s 2ms/step - loss: 23.9633\n"
     ]
    },
    {
     "data": {
      "text/plain": [
       "<tensorflow.python.keras.callbacks.History at 0x1499c25c408>"
      ]
     },
     "execution_count": 159,
     "metadata": {},
     "output_type": "execute_result"
    }
   ],
   "source": [
    "model.fit_generator(generator_train,epochs=5)"
   ]
  },
  {
   "cell_type": "code",
   "execution_count": 160,
   "metadata": {
    "scrolled": false
   },
   "outputs": [
    {
     "ename": "NameError",
     "evalue": "name 'temp_y_test' is not defined",
     "output_type": "error",
     "traceback": [
      "\u001b[1;31m---------------------------------------------------------------------------\u001b[0m",
      "\u001b[1;31mNameError\u001b[0m                                 Traceback (most recent call last)",
      "\u001b[1;32m<ipython-input-160-185920ee957f>\u001b[0m in \u001b[0;36m<module>\u001b[1;34m\u001b[0m\n\u001b[0;32m      2\u001b[0m \u001b[0mpredicted\u001b[0m \u001b[1;33m=\u001b[0m \u001b[0mmodel\u001b[0m\u001b[1;33m.\u001b[0m\u001b[0mpredict\u001b[0m\u001b[1;33m(\u001b[0m\u001b[0mgenerator_test\u001b[0m\u001b[1;33m)\u001b[0m\u001b[1;33m\u001b[0m\u001b[1;33m\u001b[0m\u001b[0m\n\u001b[0;32m      3\u001b[0m \u001b[0mfig\u001b[0m \u001b[1;33m=\u001b[0m \u001b[0mplt\u001b[0m\u001b[1;33m.\u001b[0m\u001b[0mfigure\u001b[0m\u001b[1;33m(\u001b[0m\u001b[0mfigsize\u001b[0m\u001b[1;33m=\u001b[0m\u001b[1;33m(\u001b[0m\u001b[1;36m15\u001b[0m\u001b[1;33m,\u001b[0m\u001b[1;36m15\u001b[0m\u001b[1;33m)\u001b[0m\u001b[1;33m)\u001b[0m\u001b[1;33m\u001b[0m\u001b[1;33m\u001b[0m\u001b[0m\n\u001b[1;32m----> 4\u001b[1;33m \u001b[0mplt\u001b[0m\u001b[1;33m.\u001b[0m\u001b[0mplot\u001b[0m\u001b[1;33m(\u001b[0m\u001b[0mtemp_y_test\u001b[0m\u001b[1;33m,\u001b[0m \u001b[0mcolor\u001b[0m \u001b[1;33m=\u001b[0m \u001b[1;34m'black'\u001b[0m\u001b[1;33m,\u001b[0m \u001b[0mlabel\u001b[0m \u001b[1;33m=\u001b[0m \u001b[1;34m'PM10'\u001b[0m\u001b[1;33m)\u001b[0m\u001b[1;33m\u001b[0m\u001b[1;33m\u001b[0m\u001b[0m\n\u001b[0m\u001b[0;32m      5\u001b[0m \u001b[0mplt\u001b[0m\u001b[1;33m.\u001b[0m\u001b[0mplot\u001b[0m\u001b[1;33m(\u001b[0m\u001b[0mpredicted\u001b[0m\u001b[1;33m,\u001b[0m \u001b[0mcolor\u001b[0m \u001b[1;33m=\u001b[0m \u001b[1;34m'green'\u001b[0m\u001b[1;33m,\u001b[0m \u001b[0mlabel\u001b[0m \u001b[1;33m=\u001b[0m \u001b[1;34m'Predicted PM10'\u001b[0m\u001b[1;33m)\u001b[0m\u001b[1;33m\u001b[0m\u001b[1;33m\u001b[0m\u001b[0m\n\u001b[0;32m      6\u001b[0m \u001b[0mplt\u001b[0m\u001b[1;33m.\u001b[0m\u001b[0mtitle\u001b[0m\u001b[1;33m(\u001b[0m\u001b[1;34m'PM10 Predictions'\u001b[0m\u001b[1;33m)\u001b[0m\u001b[1;33m\u001b[0m\u001b[1;33m\u001b[0m\u001b[0m\n",
      "\u001b[1;31mNameError\u001b[0m: name 'temp_y_test' is not defined"
     ]
    },
    {
     "data": {
      "text/plain": [
       "<Figure size 1080x1080 with 0 Axes>"
      ]
     },
     "metadata": {},
     "output_type": "display_data"
    }
   ],
   "source": [
    "import numpy.ma as ma\n",
    "predicted = model.predict(generator_test)\n",
    "fig = plt.figure(figsize=(15,15))\n",
    "plt.plot(temp_y_test, color = 'black', label = 'PM10')\n",
    "plt.plot(predicted, color = 'green', label = 'Predicted PM10')\n",
    "plt.title('PM10 Predictions')\n",
    "plt.xlabel('Time')\n",
    "plt.ylabel('PM10')\n",
    "plt.legend()\n",
    "plt.show()"
   ]
  },
  {
   "cell_type": "code",
   "execution_count": null,
   "metadata": {},
   "outputs": [],
   "source": [
    "generator_test"
   ]
  },
  {
   "cell_type": "markdown",
   "metadata": {},
   "source": [
    "### MULTIVARIATE"
   ]
  },
  {
   "cell_type": "markdown",
   "metadata": {},
   "source": [
    "#### Loading the data"
   ]
  },
  {
   "cell_type": "code",
   "execution_count": null,
   "metadata": {},
   "outputs": [],
   "source": [
    "multivariate=airQualityData.drop(columns=['Black Carbon','NOX','O3','PM2_5'])\n",
    "\n",
    "multivariate.loc[(multivariate['PM10'] <= 0, 'PM10')]=np.nan\n",
    "multivariate.loc[(multivariate['NO2'] <= 0, 'PM10')]=np.nan\n",
    "\n",
    "from sklearn.preprocessing import MinMaxScaler\n",
    "sc = MinMaxScaler(feature_range = (0, 1))\n",
    "scaled_down_multi=multivariate.copy()\n",
    "scaled_down_multi['PM10']=sc.fit_transform(scaled_down_multi['PM10'].values.reshape(-1, 1))\n",
    "scaled_down_multi['NO2']=sc.fit_transform(scaled_down_multi['NO2'].values.reshape(-1, 1))\n",
    "\n",
    "\n",
    "temp_train=scaled_down_multi[(scaled_down_multi['Start']<= \"2018-12-31 23:00:00\")]\n",
    "temp_test=scaled_down_multi[(scaled_down_multi['Start']>= \"2019-12-01 00:00:00\")]"
   ]
  },
  {
   "cell_type": "markdown",
   "metadata": {},
   "source": [
    "#### Setting up the training and testing data"
   ]
  },
  {
   "cell_type": "code",
   "execution_count": null,
   "metadata": {},
   "outputs": [],
   "source": [
    "from keras.preprocessing.sequence import TimeseriesGenerator\n",
    "temp = temp_train.copy()\n",
    "temp=temp.fillna(0)\n",
    "temp=temp.drop('Start', axis = 1)\n",
    "temp_X_train = temp.values\n",
    "temp_Y_train = temp['PM10'].values\n",
    "n_input = 5 #how many samples/rows/timesteps to look in the past in order to forecast the next sample\n",
    "n_features= temp_X_train.shape[1] # how many predictors/Xs/features we have to predict y\n",
    "b_size = 32 # Number of timeseries samples in each batch\n",
    "generator_train = TimeseriesGenerator(temp_X_train, temp_Y_train, length=n_input, batch_size=b_size)\n",
    "print(generator_train[0][0].shape)"
   ]
  },
  {
   "cell_type": "markdown",
   "metadata": {},
   "source": [
    "##### testing\n"
   ]
  },
  {
   "cell_type": "code",
   "execution_count": null,
   "metadata": {},
   "outputs": [],
   "source": [
    "testing_set = temp_test.copy()\n",
    "testing_set=testing_set.fillna(0)\n",
    "testing_set=testing_set.drop('Start', axis = 1)\n",
    "testing_set=testing_set.reset_index()\n",
    "testing_set=testing_set.drop('index', axis = 1)\n",
    "\n",
    "X_test = []\n",
    "y_test = []\n",
    "for i in range(5, len(testing_set)):\n",
    "    X_test.append(testing_set.values[i-5:i])\n",
    "    y_test.append(testing_set['PM10'].values[i])\n",
    "    \n",
    "X_test, y_test = np.array(X_test), np.array(y_test)\n",
    "print (X_test.shape)"
   ]
  },
  {
   "cell_type": "markdown",
   "metadata": {},
   "source": [
    "#### Model creation"
   ]
  },
  {
   "cell_type": "code",
   "execution_count": null,
   "metadata": {
    "scrolled": true
   },
   "outputs": [],
   "source": [
    "from keras.layers import Masking\n",
    "model = Sequential()\n",
    "model.add(Masking(mask_value=0.,input_shape=(n_input, n_features)))      \n",
    "\n",
    "model.add(LSTM(units = 100, return_sequences = True))\n",
    "model.add(Dropout(0.2))\n",
    "\n",
    "model.add(LSTM(units = 50, return_sequences = False))\n",
    "model.add(Dropout(0.2))\n",
    "\n",
    "\n",
    "model.add(Dense(units = 1))\n",
    "\n",
    "model.compile(optimizer = 'adam', loss = 'mean_squared_error')\n",
    "model.summary()"
   ]
  },
  {
   "cell_type": "markdown",
   "metadata": {},
   "source": [
    "#### Training process"
   ]
  },
  {
   "cell_type": "code",
   "execution_count": null,
   "metadata": {},
   "outputs": [],
   "source": [
    "model.fit(generator_train,epochs=5)"
   ]
  },
  {
   "cell_type": "code",
   "execution_count": null,
   "metadata": {},
   "outputs": [],
   "source": [
    "import numpy.ma as ma\n",
    "# testing_set = temp_test.copy()\n",
    "# testing_set=testing_set.fillna(0)\n",
    "# testing_set=testing_set.drop('Start', axis = 1)\n",
    "# a=testing_set[['PM10','NO2']].values.ravel()\n",
    "# a=a[:740]\n",
    "# a=a.reshape(-1,5,2)\n",
    "predicted = model.predict(X_test)\n",
    "predicted=sc.inverse_transform(predicted)\n",
    "y_test_descaled=sc.inverse_transform(y_test.reshape(-1,1))\n",
    "fig = plt.figure(figsize=(15,15))\n",
    "plt.plot(y_test_descaled, color = 'black', label = 'PM10')\n",
    "plt.plot(predicted, color = 'green', label = 'Predicted PM10')\n",
    "plt.title('PM10 Predictions')\n",
    "plt.xlabel('Time')\n",
    "plt.ylabel('PM10')\n",
    "plt.legend()\n",
    "plt.show()\n",
    "from sklearn.metrics import mean_squared_error\n",
    "import math\n",
    "rmse = math.sqrt(mean_squared_error(y_test, predicted))\n",
    "print(rmse)"
   ]
  },
  {
   "cell_type": "code",
   "execution_count": null,
   "metadata": {},
   "outputs": [],
   "source": []
  }
 ],
 "metadata": {
  "kernelspec": {
   "display_name": "Python 3",
   "language": "python",
   "name": "python3"
  },
  "language_info": {
   "codemirror_mode": {
    "name": "ipython",
    "version": 3
   },
   "file_extension": ".py",
   "mimetype": "text/x-python",
   "name": "python",
   "nbconvert_exporter": "python",
   "pygments_lexer": "ipython3",
   "version": "3.7.8"
  }
 },
 "nbformat": 4,
 "nbformat_minor": 4
}
