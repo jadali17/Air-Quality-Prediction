{
 "cells": [
  {
   "cell_type": "code",
   "execution_count": 2,
   "metadata": {},
   "outputs": [],
   "source": [
    "import os\n",
    "import pandas as pd\n",
    "import numpy as np\n",
    "import re\n",
    "import seaborn as sns\n",
    "import matplotlib.pyplot as plt\n",
    "from matplotlib import pyplot\n",
    "from scipy import stats"
   ]
  },
  {
   "cell_type": "markdown",
   "metadata": {},
   "source": [
    "## 1) Loading in the data"
   ]
  },
  {
   "cell_type": "code",
   "execution_count": 3,
   "metadata": {},
   "outputs": [
    {
     "data": {
      "text/html": [
       "<div>\n",
       "<style scoped>\n",
       "    .dataframe tbody tr th:only-of-type {\n",
       "        vertical-align: middle;\n",
       "    }\n",
       "\n",
       "    .dataframe tbody tr th {\n",
       "        vertical-align: top;\n",
       "    }\n",
       "\n",
       "    .dataframe thead th {\n",
       "        text-align: right;\n",
       "    }\n",
       "</style>\n",
       "<table border=\"1\" class=\"dataframe\">\n",
       "  <thead>\n",
       "    <tr style=\"text-align: right;\">\n",
       "      <th></th>\n",
       "      <th>Start</th>\n",
       "      <th>NO2</th>\n",
       "      <th>PM10</th>\n",
       "    </tr>\n",
       "  </thead>\n",
       "  <tbody>\n",
       "    <tr>\n",
       "      <th>0</th>\n",
       "      <td>2015-01-01 00:00:00</td>\n",
       "      <td>4.5</td>\n",
       "      <td>28.4</td>\n",
       "    </tr>\n",
       "    <tr>\n",
       "      <th>1</th>\n",
       "      <td>2015-01-01 01:00:00</td>\n",
       "      <td>3.1</td>\n",
       "      <td>8.5</td>\n",
       "    </tr>\n",
       "    <tr>\n",
       "      <th>2</th>\n",
       "      <td>2015-01-01 02:00:00</td>\n",
       "      <td>2.1</td>\n",
       "      <td>8.7</td>\n",
       "    </tr>\n",
       "    <tr>\n",
       "      <th>3</th>\n",
       "      <td>2015-01-01 03:00:00</td>\n",
       "      <td>1.6</td>\n",
       "      <td>10.5</td>\n",
       "    </tr>\n",
       "    <tr>\n",
       "      <th>4</th>\n",
       "      <td>2015-01-01 04:00:00</td>\n",
       "      <td>1.4</td>\n",
       "      <td>12.1</td>\n",
       "    </tr>\n",
       "  </tbody>\n",
       "</table>\n",
       "</div>"
      ],
      "text/plain": [
       "                Start  NO2  PM10\n",
       "0 2015-01-01 00:00:00  4.5  28.4\n",
       "1 2015-01-01 01:00:00  3.1   8.5\n",
       "2 2015-01-01 02:00:00  2.1   8.7\n",
       "3 2015-01-01 03:00:00  1.6  10.5\n",
       "4 2015-01-01 04:00:00  1.4  12.1"
      ]
     },
     "execution_count": 3,
     "metadata": {},
     "output_type": "execute_result"
    }
   ],
   "source": [
    "dataPath = 'Data/2016-2019(One station)/shair-8781-1-6-1.csv'\n",
    "airQualityData=pd.read_csv(dataPath, header=14,sep=';').rename(columns={'Start':'Start','Slut':'Stop'})\n",
    "airQualityData.rename(columns = lambda x: re.sub('NOX.*','NOX',x), inplace = True)\n",
    "airQualityData.rename(columns = lambda x: re.sub('PM10.*','PM10',x), inplace = True)\n",
    "airQualityData.rename(columns = lambda x: re.sub('PM2.5.*','PM2_5',x), inplace = True)\n",
    "airQualityData.rename(columns = lambda x: re.sub('NO2.*','NO2',x), inplace = True)\n",
    "airQualityData.rename(columns = lambda x: re.sub('O3.*','O3',x), inplace = True)\n",
    "airQualityData.rename(columns = lambda x: re.sub('Black Carbon.*','Black Carbon',x), inplace = True)\n",
    "airQualityData['Start'] = pd.to_datetime(airQualityData['Start'])\n",
    "airQualityData= airQualityData.drop('Stop',axis=1)\n",
    "one_feature=airQualityData.drop(columns=['Black Carbon','NOX','O3','PM2_5'])#\n",
    "one_feature.head(5)"
   ]
  },
  {
   "cell_type": "markdown",
   "metadata": {},
   "source": [
    "## 2) Creating the train and testing set"
   ]
  },
  {
   "cell_type": "code",
   "execution_count": 4,
   "metadata": {},
   "outputs": [],
   "source": [
    "one_feature.loc[(one_feature['PM10'] <= 0, 'PM10')]=np.nan\n",
    "one_feature.loc[(one_feature['NO2'] <= 0, 'PM10')]=np.nan"
   ]
  },
  {
   "cell_type": "code",
   "execution_count": 49,
   "metadata": {},
   "outputs": [],
   "source": [
    "from sklearn.preprocessing import MinMaxScaler\n",
    "sc = MinMaxScaler(feature_range = (0, 1))\n",
    "scaled_down=one_feature.copy()\n",
    "scaled_down['PM10']=sc.fit_transform(scaled_down['PM10'].values.reshape(-1, 1))\n",
    "scaled_down['NO2']=sc.fit_transform(scaled_down['NO2'].values.reshape(-1, 1))"
   ]
  },
  {
   "cell_type": "code",
   "execution_count": 50,
   "metadata": {},
   "outputs": [],
   "source": [
    "train=scaled_down[(scaled_down['Start']<= \"2018-12-31 23:00:00\")]\n",
    "test=scaled_down[(scaled_down['Start'] >= \"2019-01-01 00:00:00\")]"
   ]
  },
  {
   "cell_type": "markdown",
   "metadata": {},
   "source": [
    "### Training set"
   ]
  },
  {
   "cell_type": "code",
   "execution_count": 37,
   "metadata": {
    "scrolled": true
   },
   "outputs": [
    {
     "name": "stdout",
     "output_type": "stream",
     "text": [
      "(35059, 6)\n"
     ]
    }
   ],
   "source": [
    "training_set=train['PM10']\n",
    "X_train = []\n",
    "y_train = []\n",
    "for i in range(5, len(training_set)):\n",
    "    X_train.append(training_set.loc[i-5:i])\n",
    "    y_train.append(training_set.loc[i])\n",
    "    \n",
    "X_train, y_train = np.array(X_train), np.array(y_train)\n",
    "print (X_train.shape)\n",
    "X_train = np.reshape(X_train, (X_train.shape[0], X_train.shape[1], 1))\n",
    "#-------------------------------------#\n",
    "#Deleting the samples that contain nan\n",
    "index=[]\n",
    "for i in range(0,len(X_train)):\n",
    "    if np.isnan(X_train[i]).any() or np.isnan(y_train[i]):\n",
    "        index.append(i)\n",
    "X_train_new=np.delete(X_train,index, axis=0)\n",
    "y_train_new=np.delete(y_train,index)"
   ]
  },
  {
   "cell_type": "markdown",
   "metadata": {},
   "source": [
    "### Testing set"
   ]
  },
  {
   "cell_type": "code",
   "execution_count": 51,
   "metadata": {},
   "outputs": [
    {
     "name": "stdout",
     "output_type": "stream",
     "text": [
      "(8755, 5)\n"
     ]
    }
   ],
   "source": [
    "testing_set=test['PM10']\n",
    "testing_set=testing_set.reset_index()\n",
    "testing_set=testing_set['PM10']\n",
    "X_test = []\n",
    "y_test = []\n",
    "for i in range(5, len(testing_set)):\n",
    "    X_test.append(testing_set[i-5:i])\n",
    "    y_test.append(testing_set[i])\n",
    "    \n",
    "X_test, y_test = np.array(X_test), np.array(y_test)\n",
    "print (X_test.shape)\n",
    "X_test = np.reshape(X_test, (X_test.shape[0], X_test.shape[1], 1))\n",
    "#-------------------------------------#\n",
    "#Deleting the samples that contain nan\n",
    "index=[]\n",
    "for i in range(0,len(X_test)):\n",
    "    if np.isnan(X_test[i]).any() or np.isnan(y_test[i]):\n",
    "        index.append(i)\n",
    "X_test_new=np.delete(X_test,index, axis=0)\n",
    "y_test_new=np.delete(y_test,index)"
   ]
  },
  {
   "cell_type": "markdown",
   "metadata": {},
   "source": [
    "## 3) Model creation "
   ]
  },
  {
   "cell_type": "code",
   "execution_count": 39,
   "metadata": {
    "scrolled": false
   },
   "outputs": [],
   "source": [
    "from keras.models import Sequential\n",
    "from keras.layers import Dense\n",
    "from keras.layers import LSTM\n",
    "from keras.layers import Dropout\n",
    "regressor = Sequential()\n",
    "\n",
    "regressor.add(LSTM(units = 50, return_sequences = True, input_shape = (X_train.shape[1], 1)))\n",
    "regressor.add(Dropout(0.2))\n",
    "\n",
    "regressor.add(LSTM(units = 50, return_sequences = True))\n",
    "regressor.add(Dropout(0.2))\n",
    "\n",
    "regressor.add(LSTM(units = 50, return_sequences = True))\n",
    "regressor.add(Dropout(0.2))\n",
    "\n",
    "regressor.add(LSTM(units = 50))\n",
    "regressor.add(Dropout(0.2))\n",
    "\n",
    "regressor.add(Dense(units = 1))\n",
    "\n",
    "regressor.compile(optimizer = 'adam', loss = 'mean_squared_error')\n",
    "\n",
    "regressor.fit(X_train_new, y_train_new, epochs = 15, batch_size = 32)"
   ]
  },
  {
   "cell_type": "code",
   "execution_count": 9,
   "metadata": {},
   "outputs": [
    {
     "name": "stdout",
     "output_type": "stream",
     "text": [
      "WARNING:tensorflow:Model was constructed with shape (None, 6, 1) for input Tensor(\"lstm_input:0\", shape=(None, 6, 1), dtype=float32), but it was called on an input with incompatible shape (None, 5, 1).\n"
     ]
    },
    {
     "data": {
      "image/png": "[encoded data removed]",
      "text/plain": [
       "<Figure size 1080x1080 with 1 Axes>"
      ]
     },
     "metadata": {
      "needs_background": "light"
     },
     "output_type": "display_data"
    }
   ],
   "source": [
    "predicted = regressor.predict(X_test_new)\n",
    "predicted=sc.inverse_transform(predicted)\n",
    "y_test_new=sc.inverse_transform(y_test_new.reshape(-1,1))\n",
    "fig = plt.figure(figsize=(15,15))\n",
    "plt.plot(y_test_new, color = 'black', label = 'PM10')\n",
    "plt.plot(predicted, color = 'green', label = 'Predicted PM10')\n",
    "plt.title('PM10 Predictions')\n",
    "plt.xlabel('Time')\n",
    "plt.ylabel('PM10')\n",
    "plt.legend()\n",
    "plt.show()"
   ]
  },
  {
   "cell_type": "code",
   "execution_count": 10,
   "metadata": {},
   "outputs": [
    {
     "name": "stdout",
     "output_type": "stream",
     "text": [
      "3.2153575467816538\n"
     ]
    }
   ],
   "source": [
    "from sklearn.metrics import mean_squared_error\n",
    "import math\n",
    "rmse = math.sqrt(mean_squared_error(y_test_new, predicted))\n",
    "print(rmse)"
   ]
  },
  {
   "cell_type": "code",
   "execution_count": 187,
   "metadata": {},
   "outputs": [
    {
     "name": "stdout",
     "output_type": "stream",
     "text": [
      "0.5073876300089184\n"
     ]
    }
   ],
   "source": [
    "from sklearn.metrics import mean_squared_error\n",
    "predicted = regressor.predict(X_train_new)\n",
    "predicted=sc.inverse_transform(predicted)\n",
    "y_train_new=sc.inverse_transform(y_train_new.reshape(-1,1))\n",
    "import math\n",
    "rmse = math.sqrt(mean_squared_error(y_train_new, predicted))\n",
    "print(rmse)\n"
   ]
  },
  {
   "cell_type": "markdown",
   "metadata": {},
   "source": [
    "# MODEL CREATION v2 "
   ]
  },
  {
   "cell_type": "markdown",
   "metadata": {},
   "source": [
    "### UNIVARIATE MODEL"
   ]
  },
  {
   "cell_type": "code",
   "execution_count": 43,
   "metadata": {},
   "outputs": [],
   "source": [
    "temp_train=one_feature[(one_feature['Start']<= \"2018-12-31 23:00:00\")]\n",
    "temp_test=one_feature[(one_feature['Start']>= \"2019-12-30 00:00:00\")]\n",
    "temp_train=temp_train.drop('NO2',axis=1)\n",
    "temp_test=temp_test.drop('NO2',axis=1)"
   ]
  },
  {
   "cell_type": "markdown",
   "metadata": {},
   "source": [
    "#### Training"
   ]
  },
  {
   "cell_type": "code",
   "execution_count": 44,
   "metadata": {},
   "outputs": [
    {
     "name": "stdout",
     "output_type": "stream",
     "text": [
      "(32, 5)\n"
     ]
    }
   ],
   "source": [
    "from keras.preprocessing.sequence import TimeseriesGenerator\n",
    "temp = temp_train.copy()\n",
    "temp=temp.fillna(0)\n",
    "temp=temp.drop('Start', axis = 1)\n",
    "temp_X_train = temp\n",
    "temp_X_train = temp_X_train.values\n",
    "temp_X_train = temp_X_train.reshape(len(temp_X_train))\n",
    "# temp_y_train = temp[['PM10']].copy() \n",
    "# temp_y_train = temp_y_train.values\n",
    "# temp_y_train = temp_y_train.reshape(-1) \n",
    "# temp_y_train = np.insert(temp_y_train, 0, 0)\n",
    "# temp_y_train = np.delete(temp_y_train, -1)\n",
    "n_input = 5 #how many samples/rows/timesteps to look in the past in order to forecast the next sample\n",
    "n_features= 1 # how many predictors/Xs/features we have to predict y\n",
    "b_size = 32 # Number of timeseries samples in each batch\n",
    "generator_train = TimeseriesGenerator(temp_X_train, temp_X_train, length=n_input, batch_size=b_size)\n",
    "\n",
    "print(generator_train[0][0].shape)"
   ]
  },
  {
   "cell_type": "markdown",
   "metadata": {},
   "source": [
    "#### Testing"
   ]
  },
  {
   "cell_type": "code",
   "execution_count": 45,
   "metadata": {},
   "outputs": [
    {
     "name": "stdout",
     "output_type": "stream",
     "text": [
      "(32, 5)\n"
     ]
    }
   ],
   "source": [
    "from keras.preprocessing.sequence import TimeseriesGenerator\n",
    "temp = temp_test.copy()\n",
    "temp=temp.fillna(0)\n",
    "temp=temp.drop('Start', axis = 1)\n",
    "temp_X_test = temp\n",
    "temp_X_test = temp_X_test.values\n",
    "temp_X_test = temp_X_test.reshape(len(temp_X_test))\n",
    "# temp_y_test = temp[['PM10']].copy().values\n",
    "# temp_y_test=temp_y_test.reshape(len(temp_y_test)) \n",
    "# temp_y_test = temp_y_test.values\n",
    "# temp_y_test = temp_y_test.reshape(-1) \n",
    "# temp_y_test = np.insert(temp_y_test, 0, 0)\n",
    "# temp_y_test = np.delete(temp_y_test, -1)\n",
    "n_input = 5 #how many samples/rows/timesteps to look in the past in order to forecast the next sample\n",
    "# n_features= temp_X_train.shape[1] # how many predictors/Xs/features we have to predict y\n",
    "b_size = 32 # Number of timeseries samples in each batch\n",
    "generator_test = TimeseriesGenerator(temp_X_test, temp_X_test, length=n_input, batch_size=b_size)\n",
    "\n",
    "print(generator_test[0][0].shape)"
   ]
  },
  {
   "cell_type": "code",
   "execution_count": 46,
   "metadata": {},
   "outputs": [
    {
     "name": "stdout",
     "output_type": "stream",
     "text": [
      "Model: \"sequential_6\"\n",
      "_________________________________________________________________\n",
      "Layer (type)                 Output Shape              Param #   \n",
      "=================================================================\n",
      "masking_6 (Masking)          (None, 5, 1)              0         \n",
      "_________________________________________________________________\n",
      "lstm_9 (LSTM)                (None, 100)               40800     \n",
      "_________________________________________________________________\n",
      "dropout_9 (Dropout)          (None, 100)               0         \n",
      "_________________________________________________________________\n",
      "dense_6 (Dense)              (None, 1)                 101       \n",
      "=================================================================\n",
      "Total params: 40,901\n",
      "Trainable params: 40,901\n",
      "Non-trainable params: 0\n",
      "_________________________________________________________________\n"
     ]
    }
   ],
   "source": [
    "from keras.layers import Masking\n",
    "model = Sequential()\n",
    "model.add(Masking(mask_value=0.,input_shape=(n_input, n_features)))      \n",
    "model.add(LSTM(100, activation='relu'))\n",
    "model.add(Dropout(0.2))\n",
    "model.add(Dense(1))\n",
    "model.compile(optimizer='adam', loss='mse')\n",
    "model.summary()"
   ]
  },
  {
   "cell_type": "code",
   "execution_count": 47,
   "metadata": {
    "scrolled": true
   },
   "outputs": [
    {
     "name": "stdout",
     "output_type": "stream",
     "text": [
      "WARNING:tensorflow:From <ipython-input-47-ba5520289136>:1: Model.fit_generator (from tensorflow.python.keras.engine.training) is deprecated and will be removed in a future version.\n",
      "Instructions for updating:\n",
      "Please use Model.fit, which supports generators.\n",
      "Epoch 1/5\n",
      "1096/1096 [==============================] - 2s 2ms/step - loss: 26.8652\n",
      "Epoch 2/5\n",
      "1096/1096 [==============================] - 2s 2ms/step - loss: 24.8212\n",
      "Epoch 3/5\n",
      "1096/1096 [==============================] - 2s 2ms/step - loss: 24.2406\n",
      "Epoch 4/5\n",
      "1096/1096 [==============================] - 2s 2ms/step - loss: 23.9671\n",
      "Epoch 5/5\n",
      "1096/1096 [==============================] - 2s 2ms/step - loss: 24.1734\n"
     ]
    },
    {
     "data": {
      "text/plain": [
       "<tensorflow.python.keras.callbacks.History at 0x25012f38c08>"
      ]
     },
     "execution_count": 47,
     "metadata": {},
     "output_type": "execute_result"
    }
   ],
   "source": [
    "model.fit_generator(generator_train,epochs=5)"
   ]
  },
  {
   "cell_type": "code",
   "execution_count": 52,
   "metadata": {
    "scrolled": false
   },
   "outputs": [
    {
     "ename": "NameError",
     "evalue": "name 'temp_y_test' is not defined",
     "output_type": "error",
     "traceback": [
      "\u001b[1;31m---------------------------------------------------------------------------\u001b[0m",
      "\u001b[1;31mNameError\u001b[0m                                 Traceback (most recent call last)",
      "\u001b[1;32m<ipython-input-52-185920ee957f>\u001b[0m in \u001b[0;36m<module>\u001b[1;34m\u001b[0m\n\u001b[0;32m      2\u001b[0m \u001b[0mpredicted\u001b[0m \u001b[1;33m=\u001b[0m \u001b[0mmodel\u001b[0m\u001b[1;33m.\u001b[0m\u001b[0mpredict\u001b[0m\u001b[1;33m(\u001b[0m\u001b[0mgenerator_test\u001b[0m\u001b[1;33m)\u001b[0m\u001b[1;33m\u001b[0m\u001b[1;33m\u001b[0m\u001b[0m\n\u001b[0;32m      3\u001b[0m \u001b[0mfig\u001b[0m \u001b[1;33m=\u001b[0m \u001b[0mplt\u001b[0m\u001b[1;33m.\u001b[0m\u001b[0mfigure\u001b[0m\u001b[1;33m(\u001b[0m\u001b[0mfigsize\u001b[0m\u001b[1;33m=\u001b[0m\u001b[1;33m(\u001b[0m\u001b[1;36m15\u001b[0m\u001b[1;33m,\u001b[0m\u001b[1;36m15\u001b[0m\u001b[1;33m)\u001b[0m\u001b[1;33m)\u001b[0m\u001b[1;33m\u001b[0m\u001b[1;33m\u001b[0m\u001b[0m\n\u001b[1;32m----> 4\u001b[1;33m \u001b[0mplt\u001b[0m\u001b[1;33m.\u001b[0m\u001b[0mplot\u001b[0m\u001b[1;33m(\u001b[0m\u001b[0mtemp_y_test\u001b[0m\u001b[1;33m,\u001b[0m \u001b[0mcolor\u001b[0m \u001b[1;33m=\u001b[0m \u001b[1;34m'black'\u001b[0m\u001b[1;33m,\u001b[0m \u001b[0mlabel\u001b[0m \u001b[1;33m=\u001b[0m \u001b[1;34m'PM10'\u001b[0m\u001b[1;33m)\u001b[0m\u001b[1;33m\u001b[0m\u001b[1;33m\u001b[0m\u001b[0m\n\u001b[0m\u001b[0;32m      5\u001b[0m \u001b[0mplt\u001b[0m\u001b[1;33m.\u001b[0m\u001b[0mplot\u001b[0m\u001b[1;33m(\u001b[0m\u001b[0mpredicted\u001b[0m\u001b[1;33m,\u001b[0m \u001b[0mcolor\u001b[0m \u001b[1;33m=\u001b[0m \u001b[1;34m'green'\u001b[0m\u001b[1;33m,\u001b[0m \u001b[0mlabel\u001b[0m \u001b[1;33m=\u001b[0m \u001b[1;34m'Predicted PM10'\u001b[0m\u001b[1;33m)\u001b[0m\u001b[1;33m\u001b[0m\u001b[1;33m\u001b[0m\u001b[0m\n\u001b[0;32m      6\u001b[0m \u001b[0mplt\u001b[0m\u001b[1;33m.\u001b[0m\u001b[0mtitle\u001b[0m\u001b[1;33m(\u001b[0m\u001b[1;34m'PM10 Predictions'\u001b[0m\u001b[1;33m)\u001b[0m\u001b[1;33m\u001b[0m\u001b[1;33m\u001b[0m\u001b[0m\n",
      "\u001b[1;31mNameError\u001b[0m: name 'temp_y_test' is not defined"
     ]
    },
    {
     "data": {
      "text/plain": [
       "<Figure size 1080x1080 with 0 Axes>"
      ]
     },
     "metadata": {},
     "output_type": "display_data"
    }
   ],
   "source": [
    "import numpy.ma as ma\n",
    "predicted = model.predict(generator_test)\n",
    "fig = plt.figure(figsize=(15,15))\n",
    "plt.plot(temp_y_test, color = 'black', label = 'PM10')\n",
    "plt.plot(predicted, color = 'green', label = 'Predicted PM10')\n",
    "plt.title('PM10 Predictions')\n",
    "plt.xlabel('Time')\n",
    "plt.ylabel('PM10')\n",
    "plt.legend()\n",
    "plt.show()"
   ]
  },
  {
   "cell_type": "markdown",
   "metadata": {},
   "source": [
    "### MULTIVARIATE"
   ]
  },
  {
   "cell_type": "markdown",
   "metadata": {},
   "source": [
    "#### Loading the data"
   ]
  },
  {
   "cell_type": "code",
   "execution_count": 36,
   "metadata": {},
   "outputs": [],
   "source": [
    "multivariate=airQualityData.drop(columns=['Black Carbon','NOX','O3','PM2_5'])\n",
    "\n",
    "multivariate.loc[(multivariate['PM10'] <= 0, 'PM10')]=np.nan\n",
    "multivariate.loc[(multivariate['NO2'] <= 0, 'PM10')]=np.nan\n",
    "\n",
    "from sklearn.preprocessing import MinMaxScaler\n",
    "sc = MinMaxScaler(feature_range = (0, 1))\n",
    "scaled_down_multi=multivariate.copy()\n",
    "scaled_down_multi['PM10']=sc.fit_transform(scaled_down_multi['PM10'].values.reshape(-1, 1))\n",
    "scaled_down_multi['NO2']=sc.fit_transform(scaled_down_multi['NO2'].values.reshape(-1, 1))\n",
    "\n",
    "\n",
    "temp_train=scaled_down_multi[(scaled_down_multi['Start']<= \"2018-12-31 23:00:00\")]\n",
    "temp_test=scaled_down_multi[(scaled_down_multi['Start']>= \"2019-12-01 00:00:00\")]"
   ]
  },
  {
   "cell_type": "markdown",
   "metadata": {},
   "source": [
    "#### Setting up the training and testing data"
   ]
  },
  {
   "cell_type": "code",
   "execution_count": 37,
   "metadata": {},
   "outputs": [
    {
     "name": "stdout",
     "output_type": "stream",
     "text": [
      "(32, 5, 2)\n"
     ]
    }
   ],
   "source": [
    "from keras.preprocessing.sequence import TimeseriesGenerator\n",
    "temp = temp_train.copy()\n",
    "temp=temp.fillna(0)\n",
    "temp=temp.drop('Start', axis = 1)\n",
    "temp_X_train = temp.values\n",
    "temp_Y_train = temp['PM10'].values\n",
    "n_input = 5 #how many samples/rows/timesteps to look in the past in order to forecast the next sample\n",
    "n_features= temp_X_train.shape[1] # how many predictors/Xs/features we have to predict y\n",
    "b_size = 32 # Number of timeseries samples in each batch\n",
    "generator_train = TimeseriesGenerator(temp_X_train, temp_Y_train, length=n_input, batch_size=b_size)\n",
    "print(generator_train[0][0].shape)"
   ]
  },
  {
   "cell_type": "markdown",
   "metadata": {},
   "source": [
    "##### testing\n"
   ]
  },
  {
   "cell_type": "code",
   "execution_count": 38,
   "metadata": {},
   "outputs": [
    {
     "name": "stdout",
     "output_type": "stream",
     "text": [
      "(739, 5, 2)\n"
     ]
    }
   ],
   "source": [
    "testing_set = temp_test.copy()\n",
    "testing_set=testing_set.fillna(0)\n",
    "testing_set=testing_set.drop('Start', axis = 1)\n",
    "testing_set=testing_set.reset_index()\n",
    "testing_set=testing_set.drop('index', axis = 1)\n",
    "\n",
    "X_test = []\n",
    "y_test = []\n",
    "for i in range(5, len(testing_set)):\n",
    "    X_test.append(testing_set.values[i-5:i])\n",
    "    y_test.append(testing_set['PM10'].values[i])\n",
    "    \n",
    "X_test, y_test = np.array(X_test), np.array(y_test)\n",
    "print (X_test.shape)"
   ]
  },
  {
   "cell_type": "markdown",
   "metadata": {},
   "source": [
    "#### Model creation"
   ]
  },
  {
   "cell_type": "code",
   "execution_count": 39,
   "metadata": {
    "scrolled": true
   },
   "outputs": [
    {
     "name": "stdout",
     "output_type": "stream",
     "text": [
      "Model: \"sequential_5\"\n",
      "_________________________________________________________________\n",
      "Layer (type)                 Output Shape              Param #   \n",
      "=================================================================\n",
      "masking_5 (Masking)          (None, 5, 2)              0         \n",
      "_________________________________________________________________\n",
      "lstm_7 (LSTM)                (None, 5, 150)            91800     \n",
      "_________________________________________________________________\n",
      "dropout_7 (Dropout)          (None, 5, 150)            0         \n",
      "_________________________________________________________________\n",
      "lstm_8 (LSTM)                (None, 150)               180600    \n",
      "_________________________________________________________________\n",
      "dropout_8 (Dropout)          (None, 150)               0         \n",
      "_________________________________________________________________\n",
      "dense_5 (Dense)              (None, 1)                 151       \n",
      "=================================================================\n",
      "Total params: 272,551\n",
      "Trainable params: 272,551\n",
      "Non-trainable params: 0\n",
      "_________________________________________________________________\n"
     ]
    }
   ],
   "source": [
    "from keras.layers import Masking\n",
    "model = Sequential()\n",
    "model.add(Masking(mask_value=0.,input_shape=(n_input, n_features)))      \n",
    "\n",
    "model.add(LSTM(units = 150, return_sequences = True))\n",
    "model.add(Dropout(0.2))\n",
    "model.add(LSTM(units = 150, return_sequences = False))\n",
    "model.add(Dropout(0.2))\n",
    "\n",
    "\n",
    "model.add(Dense(units = 1))\n",
    "\n",
    "model.compile(optimizer = 'adam', loss = 'mean_squared_error')\n",
    "model.summary()"
   ]
  },
  {
   "cell_type": "markdown",
   "metadata": {},
   "source": [
    "#### Training process"
   ]
  },
  {
   "cell_type": "code",
   "execution_count": 40,
   "metadata": {},
   "outputs": [
    {
     "name": "stdout",
     "output_type": "stream",
     "text": [
      "Epoch 1/5\n",
      "1096/1096 [==============================] - 7s 6ms/step - loss: 0.0012\n",
      "Epoch 2/5\n",
      "1096/1096 [==============================] - 7s 6ms/step - loss: 9.2916e-04\n",
      "Epoch 3/5\n",
      "1096/1096 [==============================] - 7s 6ms/step - loss: 8.9913e-04\n",
      "Epoch 4/5\n",
      "1096/1096 [==============================] - 7s 6ms/step - loss: 9.0401e-04\n",
      "Epoch 5/5\n",
      "1096/1096 [==============================] - 7s 6ms/step - loss: 8.8848e-04\n"
     ]
    },
    {
     "data": {
      "text/plain": [
       "<tensorflow.python.keras.callbacks.History at 0x2507f5da4c8>"
      ]
     },
     "execution_count": 40,
     "metadata": {},
     "output_type": "execute_result"
    }
   ],
   "source": [
    "model.fit(generator_train,epochs=5)"
   ]
  },
  {
   "cell_type": "code",
   "execution_count": 41,
   "metadata": {
    "scrolled": false
   },
   "outputs": [
    {
     "data": {
      "image/png": "[encoded data removed]",
      "text/plain": [
       "<Figure size 1080x1080 with 1 Axes>"
      ]
     },
     "metadata": {
      "needs_background": "light"
     },
     "output_type": "display_data"
    },
    {
     "name": "stdout",
     "output_type": "stream",
     "text": [
      "5.666493160467306\n"
     ]
    }
   ],
   "source": [
    "import numpy.ma as ma\n",
    "# testing_set = temp_test.copy()\n",
    "# testing_set=testing_set.fillna(0)\n",
    "# testing_set=testing_set.drop('Start', axis = 1)\n",
    "# a=testing_set[['PM10','NO2']].values.ravel()\n",
    "# a=a[:740]\n",
    "# a=a.reshape(-1,5,2)\n",
    "predicted = model.predict(X_test)\n",
    "predicted=sc.inverse_transform(predicted)\n",
    "y_test_descaled=sc.inverse_transform(y_test.reshape(-1,1))\n",
    "fig = plt.figure(figsize=(15,15))\n",
    "plt.plot(y_test_descaled, color = 'black', label = 'PM10')\n",
    "plt.plot(predicted, color = 'green', label = 'Predicted PM10')\n",
    "plt.title('PM10 Predictions')\n",
    "plt.xlabel('Time')\n",
    "plt.ylabel('PM10')\n",
    "plt.legend()\n",
    "plt.show()\n",
    "from sklearn.metrics import mean_squared_error\n",
    "import math\n",
    "rmse = math.sqrt(mean_squared_error(y_test, predicted))\n",
    "print(rmse)"
   ]
  },
  {
   "cell_type": "markdown",
   "metadata": {},
   "source": [
    "# EXperimental"
   ]
  },
  {
   "cell_type": "code",
   "execution_count": 13,
   "metadata": {},
   "outputs": [],
   "source": [
    "import datetime\n",
    "\n",
    "dt = datetime.datetime(2015, 12, 1)\n",
    "end = datetime.datetime(2018, 12, 30, 23, 59, 59)\n",
    "step = datetime.timedelta(weeks=4)\n",
    "\n",
    "result = []\n",
    "\n",
    "while dt < end:\n",
    "    result.append(dt.strftime('%Y-%m-%d %H:%M:%S'))\n",
    "    dt += step"
   ]
  },
  {
   "cell_type": "code",
   "execution_count": 96,
   "metadata": {
    "scrolled": true
   },
   "outputs": [
    {
     "name": "stdout",
     "output_type": "stream",
     "text": [
      "(32, 5, 2)\n",
      "(739, 5, 2)\n",
      "(8012, 5, 2)\n",
      "Epoch 1/5\n",
      "251/251 [==============================] - 3s 13ms/step - loss: 0.0015\n",
      "Epoch 2/5\n",
      "251/251 [==============================] - 3s 12ms/step - loss: 0.0011\n",
      "Epoch 3/5\n",
      "251/251 [==============================] - 3s 13ms/step - loss: 8.9318e-04\n",
      "Epoch 4/5\n",
      "251/251 [==============================] - 3s 12ms/step - loss: 8.5234e-04\n",
      "Epoch 5/5\n",
      "251/251 [==============================] - 3s 12ms/step - loss: 8.4350e-04\n",
      "(32, 5, 2)\n",
      "(739, 5, 2)\n",
      "(8684, 5, 2)\n",
      "Epoch 1/5\n",
      "272/272 [==============================] - 3s 12ms/step - loss: 0.0014\n",
      "Epoch 2/5\n",
      "272/272 [==============================] - 3s 12ms/step - loss: 0.0010\n",
      "Epoch 3/5\n",
      "272/272 [==============================] - 3s 12ms/step - loss: 8.5179e-04\n",
      "Epoch 4/5\n",
      "272/272 [==============================] - 3s 12ms/step - loss: 8.5315e-04\n",
      "Epoch 5/5\n",
      "272/272 [==============================] - 3s 13ms/step - loss: 8.2181e-04\n",
      "(32, 5, 2)\n",
      "(739, 5, 2)\n",
      "(9356, 5, 2)\n",
      "Epoch 1/5\n",
      "293/293 [==============================] - 4s 12ms/step - loss: 0.0014\n",
      "Epoch 2/5\n",
      "293/293 [==============================] - 4s 12ms/step - loss: 9.1563e-04\n",
      "Epoch 3/5\n",
      "293/293 [==============================] - 4s 12ms/step - loss: 8.2875e-04\n",
      "Epoch 4/5\n",
      "293/293 [==============================] - 4s 12ms/step - loss: 7.8618e-04\n",
      "Epoch 5/5\n",
      "293/293 [==============================] - 4s 12ms/step - loss: 8.1906e-04\n",
      "(32, 5, 2)\n",
      "(739, 5, 2)\n",
      "(10028, 5, 2)\n",
      "Epoch 1/5\n",
      "314/314 [==============================] - 4s 13ms/step - loss: 0.0014\n",
      "Epoch 2/5\n",
      "314/314 [==============================] - 4s 13ms/step - loss: 9.2999e-04\n",
      "Epoch 3/5\n",
      "314/314 [==============================] - 4s 13ms/step - loss: 7.9413e-04\n",
      "Epoch 4/5\n",
      "314/314 [==============================] - 4s 13ms/step - loss: 7.8888e-04\n",
      "Epoch 5/5\n",
      "314/314 [==============================] - 4s 13ms/step - loss: 7.7012e-04\n",
      "(32, 5, 2)\n",
      "(739, 5, 2)\n",
      "(10700, 5, 2)\n",
      "Epoch 1/5\n",
      "335/335 [==============================] - 4s 13ms/step - loss: 0.0014\n",
      "Epoch 2/5\n",
      "335/335 [==============================] - 4s 13ms/step - loss: 9.0014e-04\n",
      "Epoch 3/5\n",
      "335/335 [==============================] - 4s 13ms/step - loss: 8.4721e-04\n",
      "Epoch 4/5\n",
      "335/335 [==============================] - 4s 13ms/step - loss: 8.1933e-04\n",
      "Epoch 5/5\n",
      "335/335 [==============================] - 4s 13ms/step - loss: 8.2420e-04\n",
      "(32, 5, 2)\n",
      "(739, 5, 2)\n",
      "(11372, 5, 2)\n",
      "Epoch 1/5\n",
      "356/356 [==============================] - 5s 13ms/step - loss: 0.0017\n",
      "Epoch 2/5\n",
      "356/356 [==============================] - 5s 13ms/step - loss: 0.0010\n",
      "Epoch 3/5\n",
      "356/356 [==============================] - 5s 13ms/step - loss: 8.6202e-04\n",
      "Epoch 4/5\n",
      "356/356 [==============================] - 5s 13ms/step - loss: 8.6461e-04\n",
      "Epoch 5/5\n",
      "356/356 [==============================] - 5s 13ms/step - loss: 8.7316e-04\n",
      "(32, 5, 2)\n",
      "(739, 5, 2)\n",
      "(12044, 5, 2)\n",
      "Epoch 1/5\n",
      "377/377 [==============================] - 5s 13ms/step - loss: 0.0016\n",
      "Epoch 2/5\n",
      "377/377 [==============================] - 5s 13ms/step - loss: 0.0010\n",
      "Epoch 3/5\n",
      "377/377 [==============================] - 5s 13ms/step - loss: 9.5570e-04\n",
      "Epoch 4/5\n",
      "377/377 [==============================] - 5s 13ms/step - loss: 9.2938e-04\n",
      "Epoch 5/5\n",
      "377/377 [==============================] - 5s 13ms/step - loss: 9.1967e-04\n",
      "(32, 5, 2)\n",
      "(739, 5, 2)\n",
      "(12716, 5, 2)\n",
      "Epoch 1/5\n",
      "398/398 [==============================] - 5s 13ms/step - loss: 0.0017\n",
      "Epoch 2/5\n",
      "398/398 [==============================] - 5s 13ms/step - loss: 0.0010\n",
      "Epoch 3/5\n",
      "398/398 [==============================] - 5s 12ms/step - loss: 9.2717e-04\n",
      "Epoch 4/5\n",
      "398/398 [==============================] - 5s 12ms/step - loss: 9.2939e-04\n",
      "Epoch 5/5\n",
      "398/398 [==============================] - 5s 12ms/step - loss: 9.3254e-04\n",
      "(32, 5, 2)\n",
      "(739, 5, 2)\n",
      "(13388, 5, 2)\n",
      "Epoch 1/5\n",
      "419/419 [==============================] - 5s 13ms/step - loss: 0.0015\n",
      "Epoch 2/5\n",
      "419/419 [==============================] - 5s 13ms/step - loss: 9.7004e-04\n",
      "Epoch 3/5\n",
      "419/419 [==============================] - 5s 13ms/step - loss: 9.1024e-04\n",
      "Epoch 4/5\n",
      "419/419 [==============================] - 5s 13ms/step - loss: 8.9720e-04\n",
      "Epoch 5/5\n",
      "419/419 [==============================] - 5s 13ms/step - loss: 8.9190e-04\n",
      "(32, 5, 2)\n",
      "(739, 5, 2)\n",
      "(14060, 5, 2)\n",
      "Epoch 1/5\n",
      "440/440 [==============================] - 5s 12ms/step - loss: 0.0013\n",
      "Epoch 2/5\n",
      "440/440 [==============================] - 5s 12ms/step - loss: 9.2933e-04: 0s - loss: 9.\n",
      "Epoch 3/5\n",
      "440/440 [==============================] - 5s 12ms/step - loss: 8.9152e-04\n",
      "Epoch 4/5\n",
      "440/440 [==============================] - 5s 12ms/step - loss: 8.8322e-04\n",
      "Epoch 5/5\n",
      "440/440 [==============================] - 5s 12ms/step - loss: 8.7104e-04\n",
      "(32, 5, 2)\n",
      "(739, 5, 2)\n",
      "(14732, 5, 2)\n",
      "Epoch 1/5\n",
      "461/461 [==============================] - 5s 12ms/step - loss: 0.0013\n",
      "Epoch 2/5\n",
      "461/461 [==============================] - 5s 12ms/step - loss: 9.0003e-04\n",
      "Epoch 3/5\n",
      "461/461 [==============================] - 5s 12ms/step - loss: 8.8216e-04\n",
      "Epoch 4/5\n",
      "461/461 [==============================] - 5s 12ms/step - loss: 8.5983e-04\n",
      "Epoch 5/5\n",
      "461/461 [==============================] - 5s 12ms/step - loss: 8.4118e-04: 0s - loss:\n",
      "(32, 5, 2)\n",
      "(739, 5, 2)\n",
      "(15404, 5, 2)\n",
      "Epoch 1/5\n",
      "482/482 [==============================] - 6s 12ms/step - loss: 0.0014\n",
      "Epoch 2/5\n",
      "482/482 [==============================] - 6s 12ms/step - loss: 9.2133e-04: 0s - loss: 9\n",
      "Epoch 3/5\n",
      "482/482 [==============================] - 6s 12ms/step - loss: 8.4608e-04\n",
      "Epoch 4/5\n",
      "482/482 [==============================] - 6s 12ms/step - loss: 8.3685e-04\n",
      "Epoch 5/5\n",
      "482/482 [==============================] - 6s 12ms/step - loss: 8.3601e-04\n",
      "(32, 5, 2)\n",
      "(739, 5, 2)\n",
      "(16076, 5, 2)\n",
      "Epoch 1/5\n",
      "503/503 [==============================] - 6s 12ms/step - loss: 0.0013\n",
      "Epoch 2/5\n",
      "503/503 [==============================] - 6s 12ms/step - loss: 8.7100e-04\n",
      "Epoch 3/5\n",
      "503/503 [==============================] - 6s 12ms/step - loss: 8.0360e-04\n",
      "Epoch 4/5\n",
      "503/503 [==============================] - 6s 12ms/step - loss: 8.1989e-04\n",
      "Epoch 5/5\n",
      "503/503 [==============================] - 6s 12ms/step - loss: 7.9323e-04\n",
      "(32, 5, 2)\n",
      "(739, 5, 2)\n",
      "(16748, 5, 2)\n",
      "Epoch 1/5\n",
      "524/524 [==============================] - 6s 12ms/step - loss: 0.0012\n",
      "Epoch 2/5\n",
      "524/524 [==============================] - 6s 12ms/step - loss: 8.2840e-04\n",
      "Epoch 3/5\n",
      "524/524 [==============================] - 6s 12ms/step - loss: 8.0652e-04\n",
      "Epoch 4/5\n",
      "524/524 [==============================] - 6s 12ms/step - loss: 7.9130e-04\n",
      "Epoch 5/5\n",
      "524/524 [==============================] - 6s 12ms/step - loss: 7.8412e-04\n",
      "(32, 5, 2)\n",
      "(739, 5, 2)\n",
      "(17420, 5, 2)\n",
      "Epoch 1/5\n",
      "545/545 [==============================] - 6s 12ms/step - loss: 0.0012\n",
      "Epoch 2/5\n",
      "545/545 [==============================] - 6s 11ms/step - loss: 8.8724e-04\n",
      "Epoch 3/5\n",
      "545/545 [==============================] - 6s 12ms/step - loss: 8.5416e-04\n",
      "Epoch 4/5\n",
      "545/545 [==============================] - 6s 12ms/step - loss: 8.2578e-04\n",
      "Epoch 5/5\n",
      "545/545 [==============================] - 6s 11ms/step - loss: 8.2089e-04\n",
      "(32, 5, 2)\n",
      "(739, 5, 2)\n",
      "(18092, 5, 2)\n",
      "Epoch 1/5\n",
      "566/566 [==============================] - 7s 12ms/step - loss: 0.0012\n",
      "Epoch 2/5\n",
      "566/566 [==============================] - 7s 12ms/step - loss: 8.6650e-04\n",
      "Epoch 3/5\n",
      "566/566 [==============================] - 7s 12ms/step - loss: 8.4723e-04\n",
      "Epoch 4/5\n",
      "566/566 [==============================] - 6s 11ms/step - loss: 8.1900e-04\n",
      "Epoch 5/5\n",
      "566/566 [==============================] - 6s 11ms/step - loss: 8.0954e-04\n",
      "(32, 5, 2)\n",
      "(739, 5, 2)\n",
      "(18764, 5, 2)\n",
      "Epoch 1/5\n",
      "587/587 [==============================] - 7s 12ms/step - loss: 0.0013\n",
      "Epoch 2/5\n",
      "587/587 [==============================] - 7s 11ms/step - loss: 8.8086e-04\n",
      "Epoch 3/5\n",
      "587/587 [==============================] - 7s 11ms/step - loss: 8.6898e-04\n",
      "Epoch 4/5\n",
      "587/587 [==============================] - 7s 12ms/step - loss: 8.4978e-04\n",
      "Epoch 5/5\n",
      "587/587 [==============================] - 7s 12ms/step - loss: 8.4038e-04\n",
      "(32, 5, 2)\n",
      "(739, 5, 2)\n",
      "(19436, 5, 2)\n",
      "Epoch 1/5\n",
      "608/608 [==============================] - 7s 12ms/step - loss: 0.0012\n",
      "Epoch 2/5\n",
      "608/608 [==============================] - 7s 12ms/step - loss: 9.1844e-04\n",
      "Epoch 3/5\n",
      "608/608 [==============================] - 7s 12ms/step - loss: 8.7517e-04\n",
      "Epoch 4/5\n",
      "608/608 [==============================] - 7s 11ms/step - loss: 8.6819e-04\n",
      "Epoch 5/5\n",
      "608/608 [==============================] - 7s 12ms/step - loss: 8.6763e-04\n",
      "(32, 5, 2)\n",
      "(739, 5, 2)\n",
      "(20108, 5, 2)\n",
      "Epoch 1/5\n",
      "629/629 [==============================] - 7s 11ms/step - loss: 0.0013\n",
      "Epoch 2/5\n",
      "629/629 [==============================] - 8s 12ms/step - loss: 9.4525e-04\n",
      "Epoch 3/5\n",
      "629/629 [==============================] - 7s 12ms/step - loss: 9.2482e-04\n",
      "Epoch 4/5\n",
      "629/629 [==============================] - 7s 12ms/step - loss: 9.1552e-04\n",
      "Epoch 5/5\n",
      "629/629 [==============================] - 7s 11ms/step - loss: 9.1159e-04\n",
      "(32, 5, 2)\n",
      "(739, 5, 2)\n",
      "(20780, 5, 2)\n",
      "Epoch 1/5\n",
      "650/650 [==============================] - 8s 12ms/step - loss: 0.0013\n",
      "Epoch 2/5\n",
      "650/650 [==============================] - 7s 11ms/step - loss: 9.6833e-04: 0s - loss:\n",
      "Epoch 3/5\n",
      "650/650 [==============================] - 8s 12ms/step - loss: 9.2059e-04\n",
      "Epoch 4/5\n",
      "650/650 [==============================] - 7s 11ms/step - loss: 9.3200e-04\n",
      "Epoch 5/5\n",
      "650/650 [==============================] - 7s 11ms/step - loss: 8.9601e-04\n",
      "(32, 5, 2)\n",
      "(739, 5, 2)\n",
      "(21452, 5, 2)\n",
      "Epoch 1/5\n",
      "671/671 [==============================] - 8s 12ms/step - loss: 0.0014\n",
      "Epoch 2/5\n",
      "671/671 [==============================] - 8s 12ms/step - loss: 9.9326e-04\n",
      "Epoch 3/5\n",
      "671/671 [==============================] - 8s 12ms/step - loss: 9.8240e-04\n",
      "Epoch 4/5\n",
      "671/671 [==============================] - 8s 12ms/step - loss: 9.5526e-04\n",
      "Epoch 5/5\n",
      "671/671 [==============================] - 8s 12ms/step - loss: 9.3945e-04\n",
      "(32, 5, 2)\n",
      "(739, 5, 2)\n",
      "(22124, 5, 2)\n",
      "Epoch 1/5\n",
      "692/692 [==============================] - 8s 12ms/step - loss: 0.0013\n",
      "Epoch 2/5\n",
      "692/692 [==============================] - 8s 12ms/step - loss: 9.7304e-04\n",
      "Epoch 3/5\n",
      "692/692 [==============================] - 8s 12ms/step - loss: 9.4676e-04\n",
      "Epoch 4/5\n",
      "692/692 [==============================] - 8s 12ms/step - loss: 9.4891e-04\n",
      "Epoch 5/5\n",
      "692/692 [==============================] - 8s 12ms/step - loss: 9.2625e-04\n",
      "(32, 5, 2)\n",
      "(739, 5, 2)\n",
      "(22796, 5, 2)\n",
      "Epoch 1/5\n",
      "713/713 [==============================] - 8s 12ms/step - loss: 0.0013\n",
      "Epoch 2/5\n",
      "713/713 [==============================] - 9s 12ms/step - loss: 9.5891e-04\n",
      "Epoch 3/5\n",
      "713/713 [==============================] - 9s 12ms/step - loss: 9.3125e-04\n",
      "Epoch 4/5\n",
      "713/713 [==============================] - 8s 12ms/step - loss: 9.2256e-04\n",
      "Epoch 5/5\n",
      "713/713 [==============================] - 8s 12ms/step - loss: 9.2200e-04\n",
      "(32, 5, 2)\n",
      "(739, 5, 2)\n",
      "(23468, 5, 2)\n",
      "Epoch 1/5\n",
      "734/734 [==============================] - 9s 12ms/step - loss: 0.0013\n",
      "Epoch 2/5\n",
      "734/734 [==============================] - 9s 12ms/step - loss: 9.3585e-04\n",
      "Epoch 3/5\n",
      "734/734 [==============================] - 9s 12ms/step - loss: 9.5385e-04\n",
      "Epoch 4/5\n",
      "734/734 [==============================] - 9s 12ms/step - loss: 9.2127e-04\n",
      "Epoch 5/5\n",
      "734/734 [==============================] - 9s 12ms/step - loss: 9.1171e-04\n",
      "(32, 5, 2)\n",
      "(739, 5, 2)\n",
      "(24140, 5, 2)\n",
      "Epoch 1/5\n",
      "755/755 [==============================] - 9s 12ms/step - loss: 0.0012\n",
      "Epoch 2/5\n",
      "755/755 [==============================] - 9s 12ms/step - loss: 9.4115e-04\n",
      "Epoch 3/5\n",
      "755/755 [==============================] - 9s 12ms/step - loss: 9.0789e-04\n",
      "Epoch 4/5\n",
      "755/755 [==============================] - 9s 12ms/step - loss: 9.0153e-04\n",
      "Epoch 5/5\n",
      "755/755 [==============================] - 9s 12ms/step - loss: 8.8555e-04\n",
      "(32, 5, 2)\n",
      "(739, 5, 2)\n",
      "(24812, 5, 2)\n",
      "Epoch 1/5\n",
      "776/776 [==============================] - 10s 12ms/step - loss: 0.0012\n",
      "Epoch 2/5\n",
      "776/776 [==============================] - 10s 12ms/step - loss: 8.9464e-04\n",
      "Epoch 3/5\n",
      "776/776 [==============================] - 9s 12ms/step - loss: 9.0428e-04\n",
      "Epoch 4/5\n",
      "776/776 [==============================] - 10s 12ms/step - loss: 8.9083e-04\n",
      "Epoch 5/5\n",
      "776/776 [==============================] - 10s 12ms/step - loss: 8.6480e-04\n",
      "(32, 5, 2)\n",
      "(739, 5, 2)\n",
      "(25484, 5, 2)\n",
      "Epoch 1/5\n",
      "797/797 [==============================] - 10s 12ms/step - loss: 0.0012\n",
      "Epoch 2/5\n",
      "797/797 [==============================] - 10s 12ms/step - loss: 9.1491e-04\n",
      "Epoch 3/5\n",
      "797/797 [==============================] - 10s 12ms/step - loss: 8.9393e-04\n",
      "Epoch 4/5\n",
      "797/797 [==============================] - 10s 12ms/step - loss: 8.9627e-04\n",
      "Epoch 5/5\n",
      "797/797 [==============================] - 10s 12ms/step - loss: 8.8756e-04\n",
      "(32, 5, 2)\n",
      "(739, 5, 2)\n",
      "(26156, 5, 2)\n",
      "Epoch 1/5\n",
      "818/818 [==============================] - 10s 13ms/step - loss: 0.0013\n",
      "Epoch 2/5\n",
      "818/818 [==============================] - 10s 13ms/step - loss: 9.0383e-04\n",
      "Epoch 3/5\n",
      "818/818 [==============================] - 10s 13ms/step - loss: 9.0621e-04\n",
      "Epoch 4/5\n",
      "818/818 [==============================] - 10s 13ms/step - loss: 8.8916e-04\n",
      "Epoch 5/5\n",
      "818/818 [==============================] - 11s 13ms/step - loss: 8.8126e-04\n",
      "(32, 5, 2)\n",
      "(739, 5, 2)\n",
      "(26828, 5, 2)\n",
      "Epoch 1/5\n",
      "839/839 [==============================] - 11s 13ms/step - loss: 0.0013\n",
      "Epoch 2/5\n",
      "839/839 [==============================] - 11s 13ms/step - loss: 9.0041e-04\n",
      "Epoch 3/5\n",
      "839/839 [==============================] - 11s 13ms/step - loss: 8.9444e-04\n",
      "Epoch 4/5\n",
      "839/839 [==============================] - 11s 13ms/step - loss: 8.7944e-04\n",
      "Epoch 5/5\n",
      "839/839 [==============================] - 11s 13ms/step - loss: 8.6620e-04\n",
      "(32, 5, 2)\n",
      "(739, 5, 2)\n",
      "(27500, 5, 2)\n",
      "Epoch 1/5\n",
      "860/860 [==============================] - 11s 13ms/step - loss: 0.0011\n",
      "Epoch 2/5\n",
      "860/860 [==============================] - 11s 13ms/step - loss: 8.7830e-04\n",
      "Epoch 3/5\n",
      "860/860 [==============================] - 11s 13ms/step - loss: 8.7450e-04\n",
      "Epoch 4/5\n",
      "860/860 [==============================] - 11s 13ms/step - loss: 8.6216e-04\n",
      "Epoch 5/5\n",
      "860/860 [==============================] - 11s 13ms/step - loss: 8.5449e-04\n",
      "(32, 5, 2)\n",
      "(739, 5, 2)\n",
      "(28172, 5, 2)\n",
      "Epoch 1/5\n",
      "881/881 [==============================] - 11s 13ms/step - loss: 0.0012\n",
      "Epoch 2/5\n",
      "881/881 [==============================] - 11s 12ms/step - loss: 8.6837e-04\n",
      "Epoch 3/5\n",
      "881/881 [==============================] - 11s 12ms/step - loss: 8.5517e-04\n",
      "Epoch 4/5\n",
      "881/881 [==============================] - 11s 12ms/step - loss: 8.5357e-04\n",
      "Epoch 5/5\n",
      "881/881 [==============================] - 11s 12ms/step - loss: 8.3887e-04\n",
      "(32, 5, 2)\n",
      "(739, 5, 2)\n",
      "(28844, 5, 2)\n",
      "Epoch 1/5\n",
      "902/902 [==============================] - 11s 12ms/step - loss: 0.0013\n",
      "Epoch 2/5\n",
      "902/902 [==============================] - 11s 12ms/step - loss: 9.2523e-04\n",
      "Epoch 3/5\n",
      "902/902 [==============================] - 11s 12ms/step - loss: 8.9824e-04\n",
      "Epoch 4/5\n",
      "902/902 [==============================] - 11s 12ms/step - loss: 8.9688e-04\n",
      "Epoch 5/5\n",
      "902/902 [==============================] - 11s 12ms/step - loss: 8.7532e-04\n",
      "(32, 5, 2)\n",
      "(739, 5, 2)\n",
      "(29516, 5, 2)\n",
      "Epoch 1/5\n",
      "923/923 [==============================] - 11s 12ms/step - loss: 0.0012\n",
      "Epoch 2/5\n",
      "923/923 [==============================] - 11s 12ms/step - loss: 9.1957e-04\n",
      "Epoch 3/5\n",
      "923/923 [==============================] - 11s 12ms/step - loss: 9.1227e-04\n",
      "Epoch 4/5\n",
      "923/923 [==============================] - 10s 11ms/step - loss: 8.9252e-04\n",
      "Epoch 5/5\n",
      "923/923 [==============================] - 10s 11ms/step - loss: 8.8336e-04\n",
      "(32, 5, 2)\n",
      "(739, 5, 2)\n",
      "(30188, 5, 2)\n",
      "Epoch 1/5\n",
      "944/944 [==============================] - 12s 12ms/step - loss: 0.0012\n",
      "Epoch 2/5\n",
      "944/944 [==============================] - 11s 12ms/step - loss: 9.8088e-04\n",
      "Epoch 3/5\n",
      "944/944 [==============================] - 11s 12ms/step - loss: 9.7961e-04\n",
      "Epoch 4/5\n",
      "944/944 [==============================] - 12s 13ms/step - loss: 9.6583e-04\n",
      "Epoch 5/5\n",
      "944/944 [==============================] - 12s 12ms/step - loss: 9.3250e-04\n",
      "(32, 5, 2)\n",
      "(739, 5, 2)\n",
      "(30860, 5, 2)\n",
      "Epoch 1/5\n",
      "965/965 [==============================] - 12s 13ms/step - loss: 0.0012\n",
      "Epoch 2/5\n",
      "965/965 [==============================] - 12s 13ms/step - loss: 9.9647e-04\n",
      "Epoch 3/5\n",
      "965/965 [==============================] - 12s 12ms/step - loss: 9.6722e-04\n",
      "Epoch 4/5\n",
      "965/965 [==============================] - 12s 12ms/step - loss: 9.5178e-04\n",
      "Epoch 5/5\n",
      "965/965 [==============================] - 12s 12ms/step - loss: 9.3978e-04\n",
      "(32, 5, 2)\n",
      "(739, 5, 2)\n",
      "(31532, 5, 2)\n",
      "Epoch 1/5\n",
      "986/986 [==============================] - 12s 12ms/step - loss: 0.0012\n",
      "Epoch 2/5\n",
      "986/986 [==============================] - 12s 12ms/step - loss: 9.8582e-04\n",
      "Epoch 3/5\n"
     ]
    },
    {
     "name": "stdout",
     "output_type": "stream",
     "text": [
      "986/986 [==============================] - 12s 12ms/step - loss: 9.5185e-04\n",
      "Epoch 4/5\n",
      "986/986 [==============================] - 12s 12ms/step - loss: 9.4620e-04\n",
      "Epoch 5/5\n",
      "986/986 [==============================] - 12s 12ms/step - loss: 9.5098e-04\n",
      "(32, 5, 2)\n",
      "(739, 5, 2)\n",
      "(32204, 5, 2)\n",
      "Epoch 1/5\n",
      "1007/1007 [==============================] - 13s 13ms/step - loss: 0.0012\n",
      "Epoch 2/5\n",
      "1007/1007 [==============================] - 13s 13ms/step - loss: 9.6709e-04\n",
      "Epoch 3/5\n",
      "1007/1007 [==============================] - 13s 12ms/step - loss: 9.6012e-04\n",
      "Epoch 4/5\n",
      "1007/1007 [==============================] - 13s 13ms/step - loss: 9.5759e-04\n",
      "Epoch 5/5\n",
      "1007/1007 [==============================] - 13s 13ms/step - loss: 9.4996e-04\n",
      "(32, 5, 2)\n",
      "(739, 5, 2)\n",
      "(32876, 5, 2)\n",
      "Epoch 1/5\n",
      "1028/1028 [==============================] - 13s 12ms/step - loss: 0.0012\n",
      "Epoch 2/5\n",
      "1028/1028 [==============================] - 13s 12ms/step - loss: 9.6458e-04\n",
      "Epoch 3/5\n",
      "1028/1028 [==============================] - 13s 12ms/step - loss: 9.4804e-04\n",
      "Epoch 4/5\n",
      "1028/1028 [==============================] - 13s 12ms/step - loss: 9.3999e-04\n",
      "Epoch 5/5\n",
      "1028/1028 [==============================] - 12s 12ms/step - loss: 9.3150e-04\n",
      "(32, 5, 2)\n",
      "(739, 5, 2)\n",
      "(33548, 5, 2)\n",
      "Epoch 1/5\n",
      "1049/1049 [==============================] - 13s 13ms/step - loss: 0.0012\n",
      "Epoch 2/5\n",
      "1049/1049 [==============================] - 13s 13ms/step - loss: 9.5661e-04\n",
      "Epoch 3/5\n",
      "1049/1049 [==============================] - 13s 13ms/step - loss: 9.2854e-04\n",
      "Epoch 4/5\n",
      "1049/1049 [==============================] - 13s 12ms/step - loss: 9.2006e-04\n",
      "Epoch 5/5\n",
      "1049/1049 [==============================] - 13s 12ms/step - loss: 9.1496e-04\n",
      "(32, 5, 2)\n",
      "(739, 5, 2)\n",
      "(34220, 5, 2)\n",
      "Epoch 1/5\n",
      "1070/1070 [==============================] - 13s 13ms/step - loss: 0.0012\n",
      "Epoch 2/5\n",
      "1070/1070 [==============================] - 13s 12ms/step - loss: 9.2753e-04\n",
      "Epoch 3/5\n",
      "1070/1070 [==============================] - 13s 12ms/step - loss: 9.1811e-04\n",
      "Epoch 4/5\n",
      "1070/1070 [==============================] - 13s 12ms/step - loss: 9.2360e-04\n",
      "Epoch 5/5\n",
      "1070/1070 [==============================] - 13s 13ms/step - loss: 9.0969e-04\n",
      "(32, 5, 2)\n",
      "(739, 5, 2)\n",
      "(34892, 5, 2)\n",
      "Epoch 1/5\n",
      "1091/1091 [==============================] - 14s 12ms/step - loss: 0.0012\n",
      "Epoch 2/5\n",
      "1091/1091 [==============================] - 14s 13ms/step - loss: 9.1447e-04\n",
      "Epoch 3/5\n",
      "1091/1091 [==============================] - 14s 12ms/step - loss: 9.0897e-04\n",
      "Epoch 4/5\n",
      "1091/1091 [==============================] - 14s 13ms/step - loss: 8.9896e-04\n",
      "Epoch 5/5\n",
      "1091/1091 [==============================] - 13s 12ms/step - loss: 8.9290e-04\n"
     ]
    }
   ],
   "source": [
    "from keras.preprocessing.sequence import TimeseriesGenerator\n",
    "from keras.layers import Masking\n",
    "from math import sqrt\n",
    "from sklearn.metrics import mean_squared_error\n",
    "multivariate=airQualityData.drop(columns=['Black Carbon','NOX','O3','PM2_5'])\n",
    "\n",
    "multivariate.loc[(multivariate['PM10'] <= 0, 'PM10')]=np.nan\n",
    "multivariate.loc[(multivariate['NO2'] <= 0, 'PM10')]=np.nan\n",
    "\n",
    "from sklearn.preprocessing import MinMaxScaler\n",
    "sc = MinMaxScaler(feature_range = (0, 1))\n",
    "scaled_down_multi=multivariate.copy()\n",
    "scaled_down_multi['PM10']=sc.fit_transform(scaled_down_multi['PM10'].values.reshape(-1, 1))\n",
    "scaled_down_multi['NO2']=sc.fit_transform(scaled_down_multi['NO2'].values.reshape(-1, 1))\n",
    "\n",
    "train_results=[]\n",
    "test_results=[]\n",
    "for i in result:\n",
    "    temp_train=scaled_down_multi[(scaled_down_multi['Start']<= i)]\n",
    "    temp_test=scaled_down_multi[(scaled_down_multi['Start']>= \"2019-12-01 00:00:00\")]  \n",
    "    temp = temp_train.copy()\n",
    "    temp=temp.fillna(0)\n",
    "    temp=temp.drop('Start', axis = 1)\n",
    "    temp_X_train = temp.values\n",
    "    temp_Y_train = temp['PM10'].values\n",
    "    n_input = 5 #how many samples/rows/timesteps to look in the past in order to forecast the next sample\n",
    "    n_features= temp_X_train.shape[1] # how many predictors/Xs/features we have to predict y\n",
    "    b_size = 32 # Number of timeseries samples in each batch\n",
    "    generator_train = TimeseriesGenerator(temp_X_train, temp_Y_train, length=n_input, batch_size=b_size)\n",
    "    print(generator_train[0][0].shape)\n",
    "    testing_set = temp_test.copy()\n",
    "    testing_set=testing_set.fillna(0)\n",
    "    testing_set=testing_set.drop('Start', axis = 1)\n",
    "    testing_set=testing_set.reset_index()\n",
    "    testing_set=testing_set.drop('index', axis = 1)\n",
    "\n",
    "    X_test = []\n",
    "    y_test = []\n",
    "    for i in range(5, len(testing_set)):\n",
    "        X_test.append(testing_set.values[i-5:i])\n",
    "        y_test.append(testing_set['PM10'].values[i])\n",
    "\n",
    "    X_test, y_test = np.array(X_test), np.array(y_test)\n",
    "    print (X_test.shape)\n",
    "    \n",
    "    training_set=temp_train.copy()\n",
    "    training_set=training_set.fillna(0)\n",
    "    training_set=training_set.drop('Start', axis = 1)\n",
    "    training_set=training_set.reset_index()\n",
    "    training_set=training_set.drop('index', axis = 1)\n",
    "    X_train_error = []\n",
    "    y_train_error = []\n",
    "    for i in range(5, len(training_set)):\n",
    "        X_train_error.append(training_set.values[i-5:i])\n",
    "        y_train_error.append(training_set['PM10'].values[i])\n",
    "\n",
    "    X_train_error, y_train_error = np.array(X_train_error), np.array(y_train_error)\n",
    "    print (X_train_error.shape)\n",
    "    model = Sequential()\n",
    "    model.add(Masking(mask_value=0.,input_shape=(n_input, n_features)))      \n",
    "\n",
    "    model.add(LSTM(units = 150, return_sequences = True))\n",
    "    model.add(Dropout(0.2))\n",
    "    model.add(LSTM(units = 150, return_sequences = False))\n",
    "    model.add(Dropout(0.2))\n",
    "\n",
    "\n",
    "    model.add(Dense(units = 1))\n",
    "\n",
    "    model.compile(optimizer = 'adam', loss = 'mean_squared_error')\n",
    "    model.fit(generator_train,epochs=5)\n",
    "    test_results.append( sqrt(mean_squared_error(y_test, model.predict(X_test))))\n",
    "    train_results.append(sqrt(mean_squared_error(y_train_error,model.predict(X_train_error))))"
   ]
  },
  {
   "cell_type": "code",
   "execution_count": 92,
   "metadata": {},
   "outputs": [
    {
     "data": {
      "text/plain": [
       "(41,)"
      ]
     },
     "execution_count": 92,
     "metadata": {},
     "output_type": "execute_result"
    }
   ],
   "source": [
    "np.array(train_results).shape\n"
   ]
  },
  {
   "cell_type": "code",
   "execution_count": 98,
   "metadata": {},
   "outputs": [
    {
     "data": {
      "image/png": "[encoded data removed]",
      "text/plain": [
       "<Figure size 432x288 with 1 Axes>"
      ]
     },
     "metadata": {
      "needs_background": "light"
     },
     "output_type": "display_data"
    }
   ],
   "source": [
    "# Plot \n",
    "plt.plot(train_results,label=\"Train Error\")\n",
    "plt.plot(test_results,label=\"Test Error\")\n",
    "plt.xlabel('Training Instance')\n",
    "plt.ylabel('RMSE Value')\n",
    "plt.legend()\n",
    "plt.show()"
   ]
  },
  {
   "cell_type": "code",
   "execution_count": 97,
   "metadata": {},
   "outputs": [
    {
     "data": {
      "text/plain": [
       "[0.028077904995260222,\n",
       " 0.027837815550167698,\n",
       " 0.026856676576948957,\n",
       " 0.026121850047285185,\n",
       " 0.027923887930688722,\n",
       " 0.02797397005697031,\n",
       " 0.03011787904094706,\n",
       " 0.02891924072826006,\n",
       " 0.02910173048823899,\n",
       " 0.028167828566073656,\n",
       " 0.029016494477350843,\n",
       " 0.027972685083210883,\n",
       " 0.02758541572566929,\n",
       " 0.027921545877497036,\n",
       " 0.02794560195069307,\n",
       " 0.0276054950496218,\n",
       " 0.027823975999761393,\n",
       " 0.0329157649478785,\n",
       " 0.029280186300481514,\n",
       " 0.028834517451969344,\n",
       " 0.029732621029264744,\n",
       " 0.029839349265378737,\n",
       " 0.02906234511127658,\n",
       " 0.030332761521013874,\n",
       " 0.02911655101733439,\n",
       " 0.028284894144163183,\n",
       " 0.02882909070989296,\n",
       " 0.028736560733387612,\n",
       " 0.028396003808173108,\n",
       " 0.02849390072362955,\n",
       " 0.028413643862688766,\n",
       " 0.028992613318085857,\n",
       " 0.028619070784522423,\n",
       " 0.02976717629824785,\n",
       " 0.029647858413036906,\n",
       " 0.02974514683295616,\n",
       " 0.02965240271248518,\n",
       " 0.029641183880680717,\n",
       " 0.029503414617456,\n",
       " 0.029268960633581413,\n",
       " 0.02892982024553145]"
      ]
     },
     "execution_count": 97,
     "metadata": {},
     "output_type": "execute_result"
    }
   ],
   "source": [
    "train_results"
   ]
  },
  {
   "cell_type": "code",
   "execution_count": null,
   "metadata": {},
   "outputs": [],
   "source": []
  }
 ],
 "metadata": {
  "kernelspec": {
   "display_name": "Python 3",
   "language": "python",
   "name": "python3"
  },
  "language_info": {
   "codemirror_mode": {
    "name": "ipython",
    "version": 3
   },
   "file_extension": ".py",
   "mimetype": "text/x-python",
   "name": "python",
   "nbconvert_exporter": "python",
   "pygments_lexer": "ipython3",
   "version": "3.7.8"
  }
 },
 "nbformat": 4,
 "nbformat_minor": 4
}
