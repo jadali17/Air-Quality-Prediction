{
 "cells": [
  {
   "cell_type": "code",
   "execution_count": 203,
   "metadata": {},
   "outputs": [],
   "source": [
    "import os\n",
    "import pandas as pd\n",
    "import numpy as np\n",
    "import re\n",
    "import seaborn as sns\n",
    "import matplotlib.pyplot as plt\n",
    "from matplotlib import pyplot\n",
    "from scipy import stats\n",
    "import math\n",
    "from sklearn.metrics import mean_squared_error"
   ]
  },
  {
   "cell_type": "code",
   "execution_count": 204,
   "metadata": {
    "scrolled": true
   },
   "outputs": [
    {
     "name": "stdout",
     "output_type": "stream",
     "text": [
      "Processing year: Data/ station: shair-18644-1-6-3.csv\n",
      "Processing year: Data/ station: shair-8779-1-6-3.csv\n",
      "Processing year: Data/ station: shair-8780-1-6-3.csv\n",
      "Processing year: Data/ station: shair-8781-1-6-1.csv\n",
      "(166372, 4)\n"
     ]
    }
   ],
   "source": [
    "dataPath = 'Data/'\n",
    "listOfDataFrames=[]\n",
    "stations=os.listdir(dataPath)\n",
    "for station in stations:\n",
    "    print(\"Processing year: \"+ dataPath +\" station: \"+station)\n",
    "    airQualityData=pd.read_csv(dataPath+'\\\\'+station, header=12,sep=';').rename(columns={'Start':'Start','Slut':'Stop'})\n",
    "    airQualityData.rename(columns = lambda x: re.sub('NOX.*','NOX',x), inplace = True)\n",
    "    airQualityData.rename(columns = lambda x: re.sub('PM10.*','PM10',x), inplace = True)\n",
    "    airQualityData.rename(columns = lambda x: re.sub('PM2.5.*','PM2_5',x), inplace = True)\n",
    "    airQualityData.rename(columns = lambda x: re.sub('NO2.*','NO2',x), inplace = True)\n",
    "    airQualityData=airQualityData[(airQualityData['Start']< \"2019-09-30 00:00:00\")]\n",
    "    listOfDataFrames.append(airQualityData)\n",
    "airQualityData= pd.DataFrame(columns= [])\n",
    "for airData in listOfDataFrames:\n",
    "    airQualityData=airQualityData.append(airData)\n",
    "    \n",
    "airQualityData['Start'] = pd.to_datetime(airQualityData['Start'])\n",
    "airQualityData=airQualityData.drop('Stop',axis=1)\n",
    "airQualityData=airQualityData.set_index('Start',drop= True)\n",
    "print(airQualityData.shape)"
   ]
  },
  {
   "cell_type": "code",
   "execution_count": 205,
   "metadata": {},
   "outputs": [],
   "source": [
    "airQualityData[airQualityData < 0] = 0\n",
    "airQualityData=airQualityData.interpolate(method ='linear', limit_direction ='forward')\n",
    "airQualityData.reset_index(drop=True, inplace= True)"
   ]
  },
  {
   "cell_type": "code",
   "execution_count": 206,
   "metadata": {},
   "outputs": [],
   "source": [
    "new_columns=['predicted_NO2','predicted_NOX','predicted_PM10','predicted_PM2_5']\n",
    "pre_columns=['NO2','NOX','PM10','PM2_5']\n",
    "for new_column_name,old_column_name in zip(new_columns,pre_columns):\n",
    "    airQualityData[new_column_name] = airQualityData[old_column_name].shift(-1)    \n",
    "airQualityData = airQualityData.drop(airQualityData.tail(1).index)"
   ]
  },
  {
   "cell_type": "code",
   "execution_count": 207,
   "metadata": {},
   "outputs": [],
   "source": [
    "from sklearn.preprocessing import LabelEncoder, MinMaxScaler\n",
    "scaler = MinMaxScaler(feature_range=(0, 1))\n",
    "values = scaler.fit_transform(airQualityData)\n",
    "data = pd.DataFrame(values)\n",
    "data.columns = airQualityData.columns"
   ]
  },
  {
   "cell_type": "code",
   "execution_count": 213,
   "metadata": {},
   "outputs": [
    {
     "data": {
      "text/html": [
       "<div>\n",
       "<style scoped>\n",
       "    .dataframe tbody tr th:only-of-type {\n",
       "        vertical-align: middle;\n",
       "    }\n",
       "\n",
       "    .dataframe tbody tr th {\n",
       "        vertical-align: top;\n",
       "    }\n",
       "\n",
       "    .dataframe thead th {\n",
       "        text-align: right;\n",
       "    }\n",
       "</style>\n",
       "<table border=\"1\" class=\"dataframe\">\n",
       "  <thead>\n",
       "    <tr style=\"text-align: right;\">\n",
       "      <th></th>\n",
       "      <th>NO2</th>\n",
       "      <th>NOX</th>\n",
       "      <th>PM10</th>\n",
       "      <th>PM2_5</th>\n",
       "      <th>predicted_NO2</th>\n",
       "      <th>predicted_NOX</th>\n",
       "      <th>predicted_PM10</th>\n",
       "      <th>predicted_PM2_5</th>\n",
       "    </tr>\n",
       "  </thead>\n",
       "  <tbody>\n",
       "    <tr>\n",
       "      <th>0</th>\n",
       "      <td>0.050353</td>\n",
       "      <td>0.014125</td>\n",
       "      <td>0.076417</td>\n",
       "      <td>0.188571</td>\n",
       "      <td>0.070588</td>\n",
       "      <td>0.018808</td>\n",
       "      <td>0.042454</td>\n",
       "      <td>0.042857</td>\n",
       "    </tr>\n",
       "    <tr>\n",
       "      <th>1</th>\n",
       "      <td>0.070588</td>\n",
       "      <td>0.018808</td>\n",
       "      <td>0.042454</td>\n",
       "      <td>0.042857</td>\n",
       "      <td>0.061647</td>\n",
       "      <td>0.014880</td>\n",
       "      <td>0.046836</td>\n",
       "      <td>0.043810</td>\n",
       "    </tr>\n",
       "    <tr>\n",
       "      <th>2</th>\n",
       "      <td>0.061647</td>\n",
       "      <td>0.014880</td>\n",
       "      <td>0.046836</td>\n",
       "      <td>0.043810</td>\n",
       "      <td>0.043765</td>\n",
       "      <td>0.010348</td>\n",
       "      <td>0.041632</td>\n",
       "      <td>0.050476</td>\n",
       "    </tr>\n",
       "    <tr>\n",
       "      <th>3</th>\n",
       "      <td>0.043765</td>\n",
       "      <td>0.010348</td>\n",
       "      <td>0.041632</td>\n",
       "      <td>0.050476</td>\n",
       "      <td>0.015059</td>\n",
       "      <td>0.004305</td>\n",
       "      <td>0.044645</td>\n",
       "      <td>0.062857</td>\n",
       "    </tr>\n",
       "    <tr>\n",
       "      <th>4</th>\n",
       "      <td>0.015059</td>\n",
       "      <td>0.004305</td>\n",
       "      <td>0.044645</td>\n",
       "      <td>0.062857</td>\n",
       "      <td>0.011765</td>\n",
       "      <td>0.003777</td>\n",
       "      <td>0.038893</td>\n",
       "      <td>0.056190</td>\n",
       "    </tr>\n",
       "    <tr>\n",
       "      <th>...</th>\n",
       "      <td>...</td>\n",
       "      <td>...</td>\n",
       "      <td>...</td>\n",
       "      <td>...</td>\n",
       "      <td>...</td>\n",
       "      <td>...</td>\n",
       "      <td>...</td>\n",
       "      <td>...</td>\n",
       "    </tr>\n",
       "    <tr>\n",
       "      <th>166366</th>\n",
       "      <td>0.030118</td>\n",
       "      <td>0.005590</td>\n",
       "      <td>0.018077</td>\n",
       "      <td>0.068571</td>\n",
       "      <td>0.029647</td>\n",
       "      <td>0.005363</td>\n",
       "      <td>0.010956</td>\n",
       "      <td>0.063810</td>\n",
       "    </tr>\n",
       "    <tr>\n",
       "      <th>166367</th>\n",
       "      <td>0.029647</td>\n",
       "      <td>0.005363</td>\n",
       "      <td>0.010956</td>\n",
       "      <td>0.063810</td>\n",
       "      <td>0.028706</td>\n",
       "      <td>0.005212</td>\n",
       "      <td>0.018899</td>\n",
       "      <td>0.078095</td>\n",
       "    </tr>\n",
       "    <tr>\n",
       "      <th>166368</th>\n",
       "      <td>0.028706</td>\n",
       "      <td>0.005212</td>\n",
       "      <td>0.018899</td>\n",
       "      <td>0.078095</td>\n",
       "      <td>0.029176</td>\n",
       "      <td>0.005212</td>\n",
       "      <td>0.021638</td>\n",
       "      <td>0.078095</td>\n",
       "    </tr>\n",
       "    <tr>\n",
       "      <th>166369</th>\n",
       "      <td>0.029176</td>\n",
       "      <td>0.005212</td>\n",
       "      <td>0.021638</td>\n",
       "      <td>0.078095</td>\n",
       "      <td>0.028235</td>\n",
       "      <td>0.005136</td>\n",
       "      <td>0.017256</td>\n",
       "      <td>0.072381</td>\n",
       "    </tr>\n",
       "    <tr>\n",
       "      <th>166370</th>\n",
       "      <td>0.028235</td>\n",
       "      <td>0.005136</td>\n",
       "      <td>0.017256</td>\n",
       "      <td>0.072381</td>\n",
       "      <td>0.030118</td>\n",
       "      <td>0.005287</td>\n",
       "      <td>0.017256</td>\n",
       "      <td>0.073333</td>\n",
       "    </tr>\n",
       "  </tbody>\n",
       "</table>\n",
       "<p>166371 rows × 8 columns</p>\n",
       "</div>"
      ],
      "text/plain": [
       "             NO2       NOX      PM10     PM2_5  predicted_NO2  predicted_NOX  \\\n",
       "0       0.050353  0.014125  0.076417  0.188571       0.070588       0.018808   \n",
       "1       0.070588  0.018808  0.042454  0.042857       0.061647       0.014880   \n",
       "2       0.061647  0.014880  0.046836  0.043810       0.043765       0.010348   \n",
       "3       0.043765  0.010348  0.041632  0.050476       0.015059       0.004305   \n",
       "4       0.015059  0.004305  0.044645  0.062857       0.011765       0.003777   \n",
       "...          ...       ...       ...       ...            ...            ...   \n",
       "166366  0.030118  0.005590  0.018077  0.068571       0.029647       0.005363   \n",
       "166367  0.029647  0.005363  0.010956  0.063810       0.028706       0.005212   \n",
       "166368  0.028706  0.005212  0.018899  0.078095       0.029176       0.005212   \n",
       "166369  0.029176  0.005212  0.021638  0.078095       0.028235       0.005136   \n",
       "166370  0.028235  0.005136  0.017256  0.072381       0.030118       0.005287   \n",
       "\n",
       "        predicted_PM10  predicted_PM2_5  \n",
       "0             0.042454         0.042857  \n",
       "1             0.046836         0.043810  \n",
       "2             0.041632         0.050476  \n",
       "3             0.044645         0.062857  \n",
       "4             0.038893         0.056190  \n",
       "...                ...              ...  \n",
       "166366        0.010956         0.063810  \n",
       "166367        0.018899         0.078095  \n",
       "166368        0.021638         0.078095  \n",
       "166369        0.017256         0.072381  \n",
       "166370        0.017256         0.073333  \n",
       "\n",
       "[166371 rows x 8 columns]"
      ]
     },
     "execution_count": 213,
     "metadata": {},
     "output_type": "execute_result"
    }
   ],
   "source": [
    "data"
   ]
  },
  {
   "cell_type": "code",
   "execution_count": 208,
   "metadata": {},
   "outputs": [],
   "source": [
    "train = data.values[:365 * 24 *5*3]\n",
    "test = data.values[365 * 24 *5*3:]"
   ]
  },
  {
   "cell_type": "code",
   "execution_count": 209,
   "metadata": {},
   "outputs": [
    {
     "data": {
      "text/plain": [
       "((131400, 1, 4), (131400, 4), (34971, 1, 4), (34971, 4))"
      ]
     },
     "execution_count": 209,
     "metadata": {},
     "output_type": "execute_result"
    }
   ],
   "source": [
    "train_X, train_y = train[:, :-4], train[:, 4:]\n",
    "test_X, test_y = test[:, :-4], test[:, 4:]\n",
    "train_X = train_X.reshape((train_X.shape[0], 1, train_X.shape[1]))\n",
    "test_X = test_X.reshape((test_X.shape[0], 1, test_X.shape[1]))\n",
    "train_X.shape, train_y.shape, test_X.shape, test_y.shape"
   ]
  },
  {
   "cell_type": "code",
   "execution_count": 210,
   "metadata": {
    "scrolled": false
   },
   "outputs": [
    {
     "name": "stdout",
     "output_type": "stream",
     "text": [
      "Epoch 1/50\n",
      "1825/1825 - 2s - loss: 0.0457 - val_loss: 0.0194\n",
      "Epoch 2/50\n",
      "1825/1825 - 2s - loss: 0.0453 - val_loss: 0.0194\n",
      "Epoch 3/50\n",
      "1825/1825 - 2s - loss: 0.0452 - val_loss: 0.0194\n",
      "Epoch 4/50\n",
      "1825/1825 - 2s - loss: 0.0452 - val_loss: 0.0194\n",
      "Epoch 5/50\n",
      "1825/1825 - 2s - loss: 0.0452 - val_loss: 0.0194\n",
      "Epoch 6/50\n",
      "1825/1825 - 2s - loss: 0.0452 - val_loss: 0.0194\n",
      "Epoch 7/50\n",
      "1825/1825 - 2s - loss: 0.0452 - val_loss: 0.0194\n",
      "Epoch 8/50\n",
      "1825/1825 - 2s - loss: 0.0452 - val_loss: 0.0194\n",
      "Epoch 9/50\n",
      "1825/1825 - 2s - loss: 0.0451 - val_loss: 0.0194\n",
      "Epoch 10/50\n",
      "1825/1825 - 2s - loss: 0.0451 - val_loss: 0.0194\n",
      "Epoch 11/50\n",
      "1825/1825 - 2s - loss: 0.0451 - val_loss: 0.0194\n",
      "Epoch 12/50\n",
      "1825/1825 - 2s - loss: 0.0451 - val_loss: 0.0194\n",
      "Epoch 13/50\n",
      "1825/1825 - 2s - loss: 0.0451 - val_loss: 0.0194\n",
      "Epoch 14/50\n",
      "1825/1825 - 2s - loss: 0.0451 - val_loss: 0.0194\n",
      "Epoch 15/50\n",
      "1825/1825 - 2s - loss: 0.0451 - val_loss: 0.0194\n",
      "Epoch 16/50\n",
      "1825/1825 - 2s - loss: 0.0451 - val_loss: 0.0194\n",
      "Epoch 17/50\n",
      "1825/1825 - 2s - loss: 0.0451 - val_loss: 0.0194\n",
      "Epoch 18/50\n",
      "1825/1825 - 2s - loss: 0.0451 - val_loss: 0.0194\n",
      "Epoch 19/50\n",
      "1825/1825 - 2s - loss: 0.0451 - val_loss: 0.0194\n",
      "Epoch 20/50\n",
      "1825/1825 - 2s - loss: 0.0451 - val_loss: 0.0194\n",
      "Epoch 21/50\n",
      "1825/1825 - 2s - loss: 0.0451 - val_loss: 0.0194\n",
      "Epoch 22/50\n",
      "1825/1825 - 2s - loss: 0.0451 - val_loss: 0.0194\n",
      "Epoch 23/50\n",
      "1825/1825 - 2s - loss: 0.0451 - val_loss: 0.0194\n",
      "Epoch 24/50\n",
      "1825/1825 - 2s - loss: 0.0451 - val_loss: 0.0194\n",
      "Epoch 25/50\n",
      "1825/1825 - 2s - loss: 0.0451 - val_loss: 0.0194\n",
      "Epoch 26/50\n",
      "1825/1825 - 2s - loss: 0.0451 - val_loss: 0.0194\n",
      "Epoch 27/50\n",
      "1825/1825 - 2s - loss: 0.0451 - val_loss: 0.0194\n",
      "Epoch 28/50\n",
      "1825/1825 - 2s - loss: 0.0451 - val_loss: 0.0194\n",
      "Epoch 29/50\n",
      "1825/1825 - 2s - loss: 0.0451 - val_loss: 0.0194\n",
      "Epoch 30/50\n",
      "1825/1825 - 2s - loss: 0.0451 - val_loss: 0.0194\n",
      "Epoch 31/50\n",
      "1825/1825 - 2s - loss: 0.0451 - val_loss: 0.0194\n",
      "Epoch 32/50\n",
      "1825/1825 - 2s - loss: 0.0451 - val_loss: 0.0194\n",
      "Epoch 33/50\n",
      "1825/1825 - 2s - loss: 0.0451 - val_loss: 0.0194\n",
      "Epoch 34/50\n",
      "1825/1825 - 2s - loss: 0.0451 - val_loss: 0.0193\n",
      "Epoch 35/50\n",
      "1825/1825 - 2s - loss: 0.0451 - val_loss: 0.0193\n",
      "Epoch 36/50\n",
      "1825/1825 - 2s - loss: 0.0451 - val_loss: 0.0193\n",
      "Epoch 37/50\n",
      "1825/1825 - 2s - loss: 0.0451 - val_loss: 0.0193\n",
      "Epoch 38/50\n",
      "1825/1825 - 2s - loss: 0.0451 - val_loss: 0.0193\n",
      "Epoch 39/50\n",
      "1825/1825 - 2s - loss: 0.0451 - val_loss: 0.0193\n",
      "Epoch 40/50\n",
      "1825/1825 - 2s - loss: 0.0451 - val_loss: 0.0193\n",
      "Epoch 41/50\n",
      "1825/1825 - 2s - loss: 0.0451 - val_loss: 0.0193\n",
      "Epoch 42/50\n",
      "1825/1825 - 2s - loss: 0.0451 - val_loss: 0.0193\n",
      "Epoch 43/50\n",
      "1825/1825 - 2s - loss: 0.0451 - val_loss: 0.0193\n",
      "Epoch 44/50\n",
      "1825/1825 - 2s - loss: 0.0451 - val_loss: 0.0193\n",
      "Epoch 45/50\n",
      "1825/1825 - 2s - loss: 0.0451 - val_loss: 0.0193\n",
      "Epoch 46/50\n",
      "1825/1825 - 2s - loss: 0.0451 - val_loss: 0.0193\n",
      "Epoch 47/50\n",
      "1825/1825 - 2s - loss: 0.0451 - val_loss: 0.0193\n",
      "Epoch 48/50\n",
      "1825/1825 - 2s - loss: 0.0451 - val_loss: 0.0193\n",
      "Epoch 49/50\n",
      "1825/1825 - 2s - loss: 0.0451 - val_loss: 0.0193\n",
      "Epoch 50/50\n",
      "1825/1825 - 2s - loss: 0.0451 - val_loss: 0.0193\n"
     ]
    }
   ],
   "source": [
    "from keras.models import Sequential\n",
    "from keras.layers import LSTM, Dense\n",
    "model = Sequential()\n",
    "model.add(LSTM(50, input_shape=(train_X.shape[1], train_X.shape[2])))\n",
    "model.add(Dense(1))\n",
    "model.compile(loss='mae', optimizer='adam')\n",
    "\n",
    "history = model.fit(train_X, train_y, epochs=50,\n",
    "                    batch_size=72, validation_data=(test_X, test_y),\n",
    "                    verbose=2, shuffle=False)"
   ]
  },
  {
   "cell_type": "code",
   "execution_count": 211,
   "metadata": {},
   "outputs": [
    {
     "data": {
      "text/plain": [
       "[<matplotlib.lines.Line2D at 0x15bb3e30a48>]"
      ]
     },
     "execution_count": 211,
     "metadata": {},
     "output_type": "execute_result"
    },
    {
     "data": {
      "image/png": "[encoded data removed]",
      "text/plain": [
       "<Figure size 432x288 with 1 Axes>"
      ]
     },
     "metadata": {
      "needs_background": "light"
     },
     "output_type": "display_data"
    }
   ],
   "source": [
    "# plot history\n",
    "plt.plot(history.history['loss'], label='train')\n",
    "plt.plot(history.history['val_loss'], label='test')"
   ]
  },
  {
   "cell_type": "code",
   "execution_count": 212,
   "metadata": {},
   "outputs": [
    {
     "ename": "ValueError",
     "evalue": "operands could not be broadcast together with shapes (34971,4) (8,) (34971,4) ",
     "output_type": "error",
     "traceback": [
      "\u001b[1;31m---------------------------------------------------------------------------\u001b[0m",
      "\u001b[1;31mValueError\u001b[0m                                Traceback (most recent call last)",
      "\u001b[1;32m<ipython-input-212-06e532729047>\u001b[0m in \u001b[0;36m<module>\u001b[1;34m\u001b[0m\n\u001b[0;32m      5\u001b[0m \u001b[1;31m# Invert scaling for forecast\u001b[0m\u001b[1;33m\u001b[0m\u001b[1;33m\u001b[0m\u001b[1;33m\u001b[0m\u001b[0m\n\u001b[0;32m      6\u001b[0m \u001b[0minv_yhat\u001b[0m \u001b[1;33m=\u001b[0m \u001b[0mnp\u001b[0m\u001b[1;33m.\u001b[0m\u001b[0mconcatenate\u001b[0m\u001b[1;33m(\u001b[0m\u001b[1;33m(\u001b[0m\u001b[0myhat\u001b[0m\u001b[1;33m,\u001b[0m \u001b[0mtest_X\u001b[0m\u001b[1;33m[\u001b[0m\u001b[1;33m:\u001b[0m\u001b[1;33m,\u001b[0m \u001b[1;36m1\u001b[0m\u001b[1;33m:\u001b[0m\u001b[1;33m]\u001b[0m\u001b[1;33m)\u001b[0m\u001b[1;33m,\u001b[0m \u001b[0maxis\u001b[0m\u001b[1;33m=\u001b[0m\u001b[1;36m1\u001b[0m\u001b[1;33m)\u001b[0m\u001b[1;33m\u001b[0m\u001b[1;33m\u001b[0m\u001b[0m\n\u001b[1;32m----> 7\u001b[1;33m \u001b[0minv_yhat\u001b[0m \u001b[1;33m=\u001b[0m \u001b[0mscaler\u001b[0m\u001b[1;33m.\u001b[0m\u001b[0minverse_transform\u001b[0m\u001b[1;33m(\u001b[0m\u001b[0minv_yhat\u001b[0m\u001b[1;33m)\u001b[0m\u001b[1;33m\u001b[0m\u001b[1;33m\u001b[0m\u001b[0m\n\u001b[0m\u001b[0;32m      8\u001b[0m \u001b[0minv_yhat\u001b[0m \u001b[1;33m=\u001b[0m \u001b[0minv_yhat\u001b[0m\u001b[1;33m[\u001b[0m\u001b[1;33m:\u001b[0m\u001b[1;33m,\u001b[0m\u001b[1;36m0\u001b[0m\u001b[1;33m]\u001b[0m\u001b[1;33m\u001b[0m\u001b[1;33m\u001b[0m\u001b[0m\n\u001b[0;32m      9\u001b[0m \u001b[1;33m\u001b[0m\u001b[0m\n",
      "\u001b[1;32mc:\\users\\jad\\appdata\\local\\programs\\python\\python37\\lib\\site-packages\\sklearn\\preprocessing\\_data.py\u001b[0m in \u001b[0;36minverse_transform\u001b[1;34m(self, X)\u001b[0m\n\u001b[0;32m    430\u001b[0m                         force_all_finite=\"allow-nan\")\n\u001b[0;32m    431\u001b[0m \u001b[1;33m\u001b[0m\u001b[0m\n\u001b[1;32m--> 432\u001b[1;33m         \u001b[0mX\u001b[0m \u001b[1;33m-=\u001b[0m \u001b[0mself\u001b[0m\u001b[1;33m.\u001b[0m\u001b[0mmin_\u001b[0m\u001b[1;33m\u001b[0m\u001b[1;33m\u001b[0m\u001b[0m\n\u001b[0m\u001b[0;32m    433\u001b[0m         \u001b[0mX\u001b[0m \u001b[1;33m/=\u001b[0m \u001b[0mself\u001b[0m\u001b[1;33m.\u001b[0m\u001b[0mscale_\u001b[0m\u001b[1;33m\u001b[0m\u001b[1;33m\u001b[0m\u001b[0m\n\u001b[0;32m    434\u001b[0m         \u001b[1;32mreturn\u001b[0m \u001b[0mX\u001b[0m\u001b[1;33m\u001b[0m\u001b[1;33m\u001b[0m\u001b[0m\n",
      "\u001b[1;31mValueError\u001b[0m: operands could not be broadcast together with shapes (34971,4) (8,) (34971,4) "
     ]
    }
   ],
   "source": [
    "yhat = model.predict(test_X)\n",
    "\n",
    "test_X = test_X.reshape((test_X.shape[0], test_X.shape[2]))\n",
    "\n",
    "# Invert scaling for forecast\n",
    "inv_yhat = np.concatenate((yhat, test_X[:, 1:]), axis=1)\n",
    "inv_yhat = scaler.inverse_transform(inv_yhat)\n",
    "inv_yhat = inv_yhat[:,0]\n",
    "\n",
    "# Invert scaling for actual\n",
    "test_y = test_y.reshape((len(test_y), 1))\n",
    "inv_y = np.concatenate((test_y, test_X[:, 1:]), axis=1)\n",
    "inv_y = scaler.inverse_transform(inv_y)\n",
    "inv_y = inv_y[:,0]\n",
    "\n",
    "# Calculate RMSE\n",
    "rmse = math.sqrt(mean_squared_error(inv_y, inv_yhat))\n",
    "'{:.3f}'.format(rmse)"
   ]
  },
  {
   "cell_type": "code",
   "execution_count": null,
   "metadata": {},
   "outputs": [],
   "source": []
  }
 ],
 "metadata": {
  "kernelspec": {
   "display_name": "Python 3",
   "language": "python",
   "name": "python3"
  },
  "language_info": {
   "codemirror_mode": {
    "name": "ipython",
    "version": 3
   },
   "file_extension": ".py",
   "mimetype": "text/x-python",
   "name": "python",
   "nbconvert_exporter": "python",
   "pygments_lexer": "ipython3",
   "version": "3.7.8"
  }
 },
 "nbformat": 4,
 "nbformat_minor": 4
}
