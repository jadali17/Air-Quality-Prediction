{
 "cells": [
  {
   "cell_type": "markdown",
   "metadata": {
    "id": "oosbIudycJ9U"
   },
   "source": [
    "# Centralized Model Competition\n",
    "\n",
    "Submission by: Nithesh Chandher Karthikeyan "
   ]
  },
  {
   "cell_type": "markdown",
   "metadata": {
    "id": "oRzBDg4ep6k_"
   },
   "source": [
    "# Description\n",
    "\n",
    "For the purpose of working towards better models, we select some pollutants which we will predict. We selected 4 pollutants (PM2.5, PM10, NOX as NO2, NO2) that appear in 4 measurement stations (8779, 8780, 8781, 18644).\n",
    "\n",
    "You are requested to predict the concentration levels of the above-mentioned pollutants over the coming 24 hours for the 5 stations in Stockholm. You can use any features and pre-process techniques, but your model should perform a complete time series prediction for a whole day.\n",
    "\n",
    "An evaluation system will evaluate your predictions every day and publish the ranking in a [Leader Board](http://user.it.uu.se/~sheli564/courses/projectdv20/leaderboard/)"
   ]
  },
  {
   "cell_type": "code",
   "execution_count": 1,
   "metadata": {
    "id": "QOjb07iY6BBD"
   },
   "outputs": [],
   "source": [
    "import pandas as pd\n",
    "import tensorflow as tf\n",
    "import missingno as msno\n",
    "import re\n",
    "import os\n",
    "import datetime\n",
    "import IPython\n",
    "import IPython.display\n",
    "import matplotlib as mpl\n",
    "import matplotlib.pyplot as plt\n",
    "import numpy as np\n",
    "import seaborn as sns\n",
    "\n",
    "mpl.rcParams['figure.figsize'] = (8, 6)\n",
    "mpl.rcParams['axes.grid'] = False"
   ]
  },
  {
   "cell_type": "code",
   "execution_count": 2,
   "metadata": {
    "id": "pqE9YpJgpLOk"
   },
   "outputs": [],
   "source": [
    "def create_df(PATH):\n",
    "    # Loading the data\n",
    "    df = pd.read_csv(PATH,sep=';',skiprows=12)\n",
    "    df = df.drop(columns=['Slut'])\n",
    "    column_indices = {i: name for i, name in enumerate(df.columns)}\n",
    "    # Renaming column names\n",
    "    for i in range(0,len(column_indices)):\n",
    "        column = column_indices[i]\n",
    "        if column.startswith('Black Carbon'):\n",
    "            df.rename(columns = lambda x: re.sub('Black Carbon.*','Black Carbon',x), inplace = True)\n",
    "        if column.startswith('CO'):\n",
    "            df.rename(columns = lambda x: re.sub('CO.*','CO',x), inplace = True)\n",
    "        if column.startswith('O3'):\n",
    "            df.rename(columns = lambda x: re.sub('O3.*','O3',x), inplace = True)\n",
    "        if column.startswith('NO2'):\n",
    "            df.rename(columns = lambda x: re.sub('NO2.*','NO2',x), inplace = True)\n",
    "        if column.startswith('NOX as NO2'):\n",
    "            df.rename(columns = lambda x: re.sub('NOX as NO2.*','NOX as NO2',x), inplace = True)\n",
    "        if column.startswith('PM10'):\n",
    "            df.rename(columns = lambda x: re.sub('PM10.*','PM10',x), inplace = True)\n",
    "        if column.startswith('PM2.5'):\n",
    "            df.rename(columns = lambda x: re.sub('PM2.5.*','PM2.5',x), inplace = True)\n",
    "    \n",
    "    df = df.set_index('Start')\n",
    "    df1 = pd.DataFrame()\n",
    "    # Adding Air Pressure from Stockholm Station\n",
    "    pressure = pd.read_csv('stockholm-airpressure.csv',sep=';',skiprows= 8)\n",
    "    pressure = pressure.drop(columns=['Tidsutsnitt:','Unnamed: 4','Kvalitet'])\n",
    "    pressure.rename(columns = lambda x: re.sub('Lufttryck.*','Air Pressure',x), inplace = True)\n",
    "    pressure.rename(columns = lambda x: re.sub('Tid.*','Time',x), inplace = True) \n",
    "    pressure.rename(columns = lambda x: re.sub('Datum.*','Date',x), inplace = True) \n",
    "    pressure['Start']= pd.to_datetime(pressure['Date'] + ' ' + pressure['Time'])\n",
    "    pressure = pressure.drop(columns=['Date','Time'])\n",
    "    pressure = pressure[(pressure['Start']>= \"2015-01-01 00:00:00\")]\n",
    "    pressure = pressure[(pressure['Start']<=\"2019-12-31 23:00:00\")]\n",
    "    pressure = pressure.set_index('Start')\n",
    "    df1 = df1.merge(pressure, left_index=True, right_index=True ,how='outer')\n",
    "    \n",
    "    # Adding Air Temperature from Stockholm Station\n",
    "    temp = pd.read_csv('stockholm-airtemp.csv',sep=';',skiprows= 8)\n",
    "    temp = temp.drop(columns=['Tidsutsnitt:','Unnamed: 4','Kvalitet']) \n",
    "    temp.rename(columns = lambda x: re.sub('Lufttemperatur.*','Air Temperature',x), inplace = True)\n",
    "    temp.rename(columns = lambda x: re.sub('Tid.*','Time',x), inplace = True) \n",
    "    temp.rename(columns = lambda x: re.sub('Datum.*','Date',x), inplace = True) \n",
    "    temp['Start']= pd.to_datetime(temp['Date'] + ' ' + temp['Time'])\n",
    "    temp = temp.drop(columns=['Date','Time'])\n",
    "    temp = temp[(temp['Start']>=\"2015-01-01 00:00:00\")]\n",
    "    temp = temp[(temp['Start']<=\"2019-12-31 23:00:00\")]\n",
    "    temp = temp.set_index('Start')\n",
    "    df1 = df1.merge(temp, left_index=True, right_index=True ,how='outer')\n",
    "    \n",
    "    # Adding Relative Humidity data from Stockholm Station\n",
    "    humidity = pd.read_csv('stockholm-humidity.csv',sep=';',skiprows= 8)\n",
    "    humidity = humidity.drop(columns=['Tidsutsnitt:','Unnamed: 4','Kvalitet']) \n",
    "    humidity.rename(columns = lambda x: re.sub('Relativ Luftfuktighet.*','Humidity',x), inplace = True)\n",
    "    humidity.rename(columns = lambda x: re.sub('Tid.*','Time',x), inplace = True) \n",
    "    humidity.rename(columns = lambda x: re.sub('Datum.*','Date',x), inplace = True) \n",
    "    humidity['Start']= pd.to_datetime(humidity['Date'] + ' ' + humidity['Time'])\n",
    "    humidity = humidity.drop(columns=['Date','Time'])\n",
    "    humidity = humidity[(humidity['Start']>= \"2015-01-01 00:00:00\")]\n",
    "    humidity = humidity[(humidity['Start']<=\"2019-12-31 23:00:00\")]\n",
    "    humidity = humidity.set_index('Start')\n",
    "    df1 = df1.merge(humidity, left_index=True, right_index=True ,how='outer')\n",
    "    cols = ['Air Pressure','Air Temperature','Humidity']\n",
    "    df1.loc[:,cols] = df1.loc[:,cols].ffill()\n",
    "    df1.loc[:,cols] = df1.loc[:,cols].bfill()\n",
    "    df = df.merge(df1, left_index=True, right_index=True, how='outer')\n",
    "    df.reset_index(drop=False, inplace= True)\n",
    "    \n",
    "    # Converting datatype of feature 'Start' to datetime\n",
    "    df['Start'] = pd.to_datetime(df['Start'])\n",
    "    df['Year'] = df['Start'].dt.year\n",
    "    df['Month'] = df['Start'].dt.month\n",
    "    df['Week'] = df['Start'].dt.week\n",
    "    df['DayOfWeek'] = df['Start'].dt.day_name()\n",
    "    df = pd.concat([df,pd.get_dummies(df['DayOfWeek'])],axis=1)\n",
    "    weekend={'Sunday':1,'Monday':0,'Tuesday':0,'Wednesday':0,'Thursday':0,'Friday':0,'Saturday':1}\n",
    "    weekday={'Sunday':0,'Monday':1,'Tuesday':1,'Wednesday':1,'Thursday':1,'Friday':1,'Saturday':0}\n",
    "    season={1:'Winter', 2:'Winter', 3:'Spring', 4:'Spring', 5:'Spring', 6:'Summer', 7:'Summer', 8:'Summer', 9:'Fall', 10:'Fall', 11:'Fall', 12:'Winter'} \n",
    "    df['Weekend']= df['DayOfWeek'].map(weekend)\n",
    "    df['Weekday']= df['DayOfWeek'].map(weekday)\n",
    "    df['Season']= df['Month'].map(season)\n",
    "    df = pd.concat([df,pd.get_dummies(df['Season'])],axis=1)\n",
    "    df = df.drop(columns=['DayOfWeek','Year','Month','Week','Season','Air Temperature'])\n",
    "    \n",
    "    return df"
   ]
  },
  {
   "cell_type": "markdown",
   "metadata": {
    "id": "97SFjYDEGmi6"
   },
   "source": [
    "# Read data for the model\n",
    "\n"
   ]
  },
  {
   "cell_type": "code",
   "execution_count": 3,
   "metadata": {
    "colab": {
     "base_uri": "https://localhost:8080/"
    },
    "id": "U73tGmLd6wPA",
    "outputId": "aba82000-b0ac-418a-8acb-772c54711b71"
   },
   "outputs": [
    {
     "name": "stderr",
     "output_type": "stream",
     "text": [
      "c:\\users\\jad\\appdata\\local\\programs\\python\\python37\\lib\\site-packages\\IPython\\core\\interactiveshell.py:3337: DtypeWarning: Columns (5) have mixed types.Specify dtype option on import or set low_memory=False.\n",
      "  if (await self.run_code(code, result,  async_=asy)):\n",
      "c:\\users\\jad\\appdata\\local\\programs\\python\\python37\\lib\\site-packages\\ipykernel_launcher.py:74: FutureWarning: Series.dt.weekofyear and Series.dt.week have been deprecated.  Please use Series.dt.isocalendar().week instead.\n"
     ]
    }
   ],
   "source": [
    "PATH1 = 'shair-8779-1-6-3.csv'\n",
    "PATH2 = 'shair-8780-1-6-3.csv'\n",
    "PATH3 = 'shair-8781-1-6-1.csv'\n",
    "PATH4 = 'shair-18644-1-6-3.csv'\n",
    "station1 = create_df(PATH1)\n",
    "station2 = create_df(PATH2)\n",
    "station3 = create_df(PATH3)\n",
    "station4 = create_df(PATH4)\n",
    "smape_values = pd.DataFrame(columns=['Station','NO2','NOX as NO2','PM10','PM2.5','Average'])"
   ]
  },
  {
   "cell_type": "markdown",
   "metadata": {
    "id": "RgeehCIHJhw9"
   },
   "source": [
    "# Data Preprocessing"
   ]
  },
  {
   "cell_type": "code",
   "execution_count": 4,
   "metadata": {
    "id": "wVNsUqFFJg5F"
   },
   "outputs": [],
   "source": [
    "# to print zero entries, negative entries and null entries\n",
    "def missingstats():  \n",
    "  print('Station 1 Missing Values Stats:')\n",
    "  print('----------------------------------------------')\n",
    "  print('\\nNo of Zeros Entries:\\n',(station1.select_dtypes(include=['float64']) == 0).astype(int).sum(axis=0))\n",
    "  print('\\nNo of Negative Entries:\\n',(station1.select_dtypes(include=['float64']) < 0).astype(int).sum(axis=0))\n",
    "  print('\\nNo of Null Entries:\\n',(station1.select_dtypes(include=['float64']).isnull()).astype(int).sum(axis=0))\n",
    "  print('\\n\\n')\n",
    "\n",
    "  print('Station 2 Missing Values Stats:')\n",
    "  print('----------------------------------------------')\n",
    "  print('\\nNo of Zeros Entries:\\n',(station2.select_dtypes(include=['float64']) == 0).astype(int).sum(axis=0))\n",
    "  print('\\nNo of Negative Entries:\\n',(station2.select_dtypes(include=['float64']) < 0).astype(int).sum(axis=0))\n",
    "  print('\\nNo of Null Entries:\\n',(station2.select_dtypes(include=['float64']).isnull()).astype(int).sum(axis=0))\n",
    "  print('\\n\\n')\n",
    "\n",
    "  print('Station 3 Missing Values Stats:')\n",
    "  print('----------------------------------------------')\n",
    "  print('\\nNo of Zeros Entries:\\n',(station3.select_dtypes(include=['float64']) == 0).astype(int).sum(axis=0))\n",
    "  print('\\nNo of Negative Entries:\\n',(station3.select_dtypes(include=['float64']) < 0).astype(int).sum(axis=0))\n",
    "  print('\\nNo of Null Entries:\\n',(station3.select_dtypes(include=['float64']).isnull()).astype(int).sum(axis=0))\n",
    "  print('\\n\\n')\n",
    "\n",
    "  print('Station 4 Missing Values Stats:')\n",
    "  print('----------------------------------------------')\n",
    "  print('\\nNo of Zeros Entries:\\n',(station4.select_dtypes(include=['float64']) == 0).astype(int).sum(axis=0))\n",
    "  print('\\nNo of Negative Entries:\\n',(station4.select_dtypes(include=['float64']) < 0).astype(int).sum(axis=0))\n",
    "  print('\\nNo of Null Entries:\\n',(station4.select_dtypes(include=['float64']).isnull()).astype(int).sum(axis=0))\n",
    "  print('\\n\\n')\n",
    "  return None\n"
   ]
  },
  {
   "cell_type": "markdown",
   "metadata": {
    "id": "VpxCKjp0_o6n"
   },
   "source": [
    "# Data Imputation\n",
    "Replacing negative values with zero and Data Imputation using Interpolation"
   ]
  },
  {
   "cell_type": "code",
   "execution_count": 5,
   "metadata": {
    "colab": {
     "base_uri": "https://localhost:8080/"
    },
    "id": "lbUmNr1E_ogS",
    "outputId": "96279084-68e4-48ff-972e-26a07d25c679"
   },
   "outputs": [
    {
     "name": "stdout",
     "output_type": "stream",
     "text": [
      "Station 1 Missing Values Stats:\n",
      "----------------------------------------------\n",
      "\n",
      "No of Zeros Entries:\n",
      " NO2                0\n",
      "NOX as NO2         0\n",
      "PM10             137\n",
      "PM2.5           3100\n",
      "Air Pressure       0\n",
      "Humidity           0\n",
      "dtype: int64\n",
      "\n",
      "No of Negative Entries:\n",
      " NO2             0\n",
      "NOX as NO2      0\n",
      "PM10            0\n",
      "PM2.5           0\n",
      "Air Pressure    0\n",
      "Humidity        0\n",
      "dtype: int64\n",
      "\n",
      "No of Null Entries:\n",
      " NO2             0\n",
      "NOX as NO2      0\n",
      "PM10            0\n",
      "PM2.5           0\n",
      "Air Pressure    0\n",
      "Humidity        0\n",
      "dtype: int64\n",
      "\n",
      "\n",
      "\n",
      "Station 2 Missing Values Stats:\n",
      "----------------------------------------------\n",
      "\n",
      "No of Zeros Entries:\n",
      " NO2              0\n",
      "NOX as NO2       0\n",
      "PM10            82\n",
      "PM2.5            0\n",
      "Air Pressure     0\n",
      "Humidity         0\n",
      "dtype: int64\n",
      "\n",
      "No of Negative Entries:\n",
      " NO2             0\n",
      "NOX as NO2      0\n",
      "PM10            0\n",
      "PM2.5           0\n",
      "Air Pressure    0\n",
      "Humidity        0\n",
      "dtype: int64\n",
      "\n",
      "No of Null Entries:\n",
      " NO2             0\n",
      "NOX as NO2      0\n",
      "PM10            0\n",
      "PM2.5           0\n",
      "Air Pressure    0\n",
      "Humidity        0\n",
      "dtype: int64\n",
      "\n",
      "\n",
      "\n",
      "Station 3 Missing Values Stats:\n",
      "----------------------------------------------\n",
      "\n",
      "No of Zeros Entries:\n",
      " NO2               0\n",
      "NOX as NO2        0\n",
      "PM10            465\n",
      "PM2.5           163\n",
      "Air Pressure      0\n",
      "Humidity          0\n",
      "dtype: int64\n",
      "\n",
      "No of Negative Entries:\n",
      " NO2             0\n",
      "NOX as NO2      0\n",
      "PM10            0\n",
      "PM2.5           0\n",
      "Air Pressure    0\n",
      "Humidity        0\n",
      "dtype: int64\n",
      "\n",
      "No of Null Entries:\n",
      " NO2             0\n",
      "NOX as NO2      0\n",
      "PM10            0\n",
      "PM2.5           0\n",
      "Air Pressure    0\n",
      "Humidity        0\n",
      "dtype: int64\n",
      "\n",
      "\n",
      "\n",
      "Station 4 Missing Values Stats:\n",
      "----------------------------------------------\n",
      "\n",
      "No of Zeros Entries:\n",
      " NO2                0\n",
      "NOX as NO2         0\n",
      "PM10              35\n",
      "PM2.5           2347\n",
      "Air Pressure       0\n",
      "Humidity           0\n",
      "dtype: int64\n",
      "\n",
      "No of Negative Entries:\n",
      " NO2             0\n",
      "NOX as NO2      0\n",
      "PM10            0\n",
      "PM2.5           0\n",
      "Air Pressure    0\n",
      "Humidity        0\n",
      "dtype: int64\n",
      "\n",
      "No of Null Entries:\n",
      " NO2             0\n",
      "NOX as NO2      0\n",
      "PM10            0\n",
      "PM2.5           0\n",
      "Air Pressure    0\n",
      "Humidity        0\n",
      "dtype: int64\n",
      "\n",
      "\n",
      "\n"
     ]
    }
   ],
   "source": [
    "station1 = station1.set_index('Start')\n",
    "station1[station1 < 0] = 0\n",
    "station1.reset_index(drop=False, inplace= True)\n",
    "station1 = station1.interpolate(method ='linear', limit_direction ='forward')\n",
    "\n",
    "station2 = station2.set_index('Start')\n",
    "station2[station2 < 0] = 0\n",
    "station2.reset_index(drop=False, inplace= True)\n",
    "station2 = station2.interpolate(method ='linear', limit_direction ='forward')\n",
    "\n",
    "station3 = station3.set_index('Start')\n",
    "station3[station3 < 0] = 0\n",
    "station3.reset_index(drop=False, inplace= True)\n",
    "station3 = station3.interpolate(method ='linear', limit_direction ='forward')\n",
    "\n",
    "station4 = station4.set_index('Start')\n",
    "station4[station4 < 0] = 0\n",
    "station4.reset_index(drop=False, inplace= True)\n",
    "station4 = station4.interpolate(method ='linear', limit_direction ='forward')\n",
    "missingstats()\n"
   ]
  },
  {
   "cell_type": "markdown",
   "metadata": {
    "id": "0Cva2KxxI6Ia"
   },
   "source": [
    "# Train-Validation Split and Normalization "
   ]
  },
  {
   "cell_type": "code",
   "execution_count": 46,
   "metadata": {
    "colab": {
     "base_uri": "https://localhost:8080/",
     "height": 439
    },
    "id": "Q6hAzhdvSCN4",
    "outputId": "26fa2f1d-c01e-49d5-e878-67996658ff61"
   },
   "outputs": [
    {
     "data": {
      "image/png": "[encoded data removed]",
      "text/plain": [
       "<Figure size 864x432 with 1 Axes>"
      ]
     },
     "metadata": {
      "needs_background": "light"
     },
     "output_type": "display_data"
    }
   ],
   "source": [
    "num_features = 4\n",
    "n = 33293  # 80% of index\n",
    "\n",
    "# Split for station 1\n",
    "# index = station1[station1['Start']=='2019-09-30 00:00:00'].index.values.astype(int)[0]\n",
    "# date_time = pd.to_datetime(station1.pop('Start'), format='%d.%m.%Y %H:%M:%S')\n",
    "column_indices = {name: i for i, name in enumerate(station1.columns)}\n",
    "train_df = station1.iloc[:n,:]\n",
    "val_df = station1.iloc[n:index,:]\n",
    "test_df = station1.iloc[index:,:]\n",
    "\n",
    "#Split for station 2\n",
    "# index = station2[station2['Start']=='2019-09-30 00:00:00'].index.values.astype(int)[0]\n",
    "# date_time = pd.to_datetime(station2.pop('Start'), format='%d.%m.%Y %H:%M:%S')\n",
    "# column_indices = {name: i for i, name in enumerate(station2.columns)}\n",
    "# train_df = station2.iloc[:n,:]\n",
    "# val_df = station2.iloc[n:index,:]\n",
    "# test_df = station2.iloc[index:,:]\n",
    "\n",
    "#Split for station 3\n",
    "# index = station3[station3['Start']=='2019-09-30 00:00:00'].index.values.astype(int)[0]\n",
    "# date_time = pd.to_datetime(station3.pop('Start'), format='%d.%m.%Y %H:%M:%S')\n",
    "# column_indices = {name: i for i, name in enumerate(station3.columns)}\n",
    "# train_df = station3.iloc[:n,:]\n",
    "# val_df = station3.iloc[n:index,:]\n",
    "# test_df = station3.iloc[index:,:]\n",
    "\n",
    "# #Split for station 4\n",
    "# index = station4[station4['Start']=='2019-09-30 00:00:00'].index.values.astype(int)[0]\n",
    "# date_time = pd.to_datetime(station4.pop('Start'), format='%d.%m.%Y %H:%M:%S')\n",
    "column_indices = {name: i for i, name in enumerate(station4.columns)}\n",
    "train_df = station4.iloc[:n,:]\n",
    "val_df = station4.iloc[n:index,:]\n",
    "test_df = station4.iloc[index:,:]\n",
    "\n",
    "train_mean = train_df.mean()\n",
    "train_std = train_df.std()\n",
    "train_df = (train_df - train_mean) / train_std\n",
    "val_df = (val_df - train_mean) / train_std\n",
    "test_df = (test_df - train_mean) / train_std\n",
    "df_std = (station1 - train_mean) / train_std\n",
    "df_std = df_std.melt(var_name='Column', value_name='Normalized')\n",
    "plt.figure(figsize=(12, 6))\n",
    "ax = sns.violinplot(x='Column', y='Normalized', data=df_std)\n",
    "_ = ax.set_xticklabels(station1.keys(), rotation=90)"
   ]
  },
  {
   "cell_type": "markdown",
   "metadata": {
    "id": "TGrmp0WmEucH"
   },
   "source": [
    "## Data Windowing"
   ]
  },
  {
   "cell_type": "code",
   "execution_count": 47,
   "metadata": {
    "id": "5WfpJn5kHBEL"
   },
   "outputs": [],
   "source": [
    "#Indexes and Offset\n",
    "class WindowGenerator():\n",
    "  def __init__(self, input_width, label_width, shift,\n",
    "               train_df=train_df, val_df=val_df, test_df=test_df,\n",
    "               label_columns=None):\n",
    "    # Store the raw data.\n",
    "    self.train_df = train_df\n",
    "    self.val_df = val_df\n",
    "    self.test_df = test_df\n",
    "\n",
    "    # Work out the label column indices.\n",
    "    self.label_columns = label_columns\n",
    "    if label_columns is not None:\n",
    "      self.label_columns_indices = {name: i for i, name in\n",
    "                                    enumerate(label_columns)}\n",
    "    self.column_indices = {name: i for i, name in\n",
    "                           enumerate(train_df.columns)}\n",
    "\n",
    "    # Work out the window parameters.\n",
    "    self.input_width = input_width\n",
    "    self.label_width = label_width\n",
    "    self.shift = shift\n",
    "\n",
    "    self.total_window_size = input_width + shift\n",
    "\n",
    "    self.input_slice = slice(0, input_width)\n",
    "    self.input_indices = np.arange(self.total_window_size)[self.input_slice]\n",
    "\n",
    "    self.label_start = self.total_window_size - self.label_width\n",
    "    self.labels_slice = slice(self.label_start, None)\n",
    "    self.label_indices = np.arange(self.total_window_size)[self.labels_slice]\n",
    "\n",
    "  def __repr__(self):\n",
    "    return '\\n'.join([\n",
    "        f'Total window size: {self.total_window_size}',\n",
    "        f'Input indices: {self.input_indices}',\n",
    "        f'Label indices: {self.label_indices}',\n",
    "        f'Label column name(s): {self.label_columns}'])\n",
    "\n",
    "w1 = WindowGenerator(input_width=24, label_width=1, shift=24, label_columns=['PM10'])\n",
    "\n",
    "#Split window\n",
    "def split_window(self, features):\n",
    "  inputs = features[:, self.input_slice, :]\n",
    "  labels = features[:, self.labels_slice, :]\n",
    "  if self.label_columns is not None:\n",
    "    labels = tf.stack(\n",
    "        [labels[:, :, self.column_indices[name]] for name in self.label_columns],\n",
    "        axis=-1)\n",
    "\n",
    "  # Slicing doesn't preserve static shape information, so set the shapes\n",
    "  # manually. This way the `tf.data.Datasets` are easier to inspect.\n",
    "  inputs.set_shape([None, self.input_width, None])\n",
    "  labels.set_shape([None, self.label_width, None])\n",
    "\n",
    "  return inputs, labels\n",
    "\n",
    "WindowGenerator.split_window = split_window\n",
    "\n",
    "def split_window(self, features):\n",
    "  inputs = features[:, self.input_slice, :]\n",
    "  labels = features[:, self.labels_slice, :]\n",
    "  if self.label_columns is not None:\n",
    "    labels = tf.stack(\n",
    "        [labels[:, :, self.column_indices[name]] for name in self.label_columns],\n",
    "        axis=-1)\n",
    "\n",
    "  # Slicing doesn't preserve static shape information, so set the shapes\n",
    "  # manually. This way the `tf.data.Datasets` are easier to inspect.\n",
    "  inputs.set_shape([None, self.input_width, None])\n",
    "  labels.set_shape([None, self.label_width, None])\n",
    "\n",
    "  return inputs, labels\n",
    "\n",
    "WindowGenerator.split_window = split_window\n",
    "\n",
    "#Plot\n",
    "def plot(self, model=None, plot_col='PM10', max_subplots=3):\n",
    "  inputs, labels = self.example\n",
    "  plt.figure(figsize=(12, 8))\n",
    "  plot_col_index = self.column_indices[plot_col]\n",
    "  max_n = min(max_subplots, len(inputs))\n",
    "  for n in range(max_n):\n",
    "    plt.subplot(3, 1, n+1)\n",
    "    plt.ylabel(f'{plot_col} [normed]')\n",
    "    plt.plot(self.input_indices, inputs[n, :, plot_col_index],\n",
    "             label='Inputs', marker='.', zorder=-10)\n",
    "\n",
    "    if self.label_columns:\n",
    "      label_col_index = self.label_columns_indices.get(plot_col, None)\n",
    "    else:\n",
    "      label_col_index = plot_col_index\n",
    "\n",
    "    if label_col_index is None:\n",
    "      continue\n",
    "\n",
    "    plt.scatter(self.label_indices, labels[n, :, label_col_index],\n",
    "                edgecolors='k', label='Labels', c='#2ca02c', s=64)\n",
    "    if model is not None:\n",
    "      predictions = model(inputs)\n",
    "      plt.scatter(self.label_indices, predictions[n, :, label_col_index], #label_col_index\n",
    "                  marker='X', edgecolors='k', label='Predictions',\n",
    "                  c='#ff7f0e', s=64)\n",
    "\n",
    "    if n == 0:\n",
    "      plt.legend()\n",
    "\n",
    "  plt.xlabel('Time [h]')\n",
    "\n",
    "WindowGenerator.plot = plot\n",
    "\n",
    "#Make Dataset\n",
    "def make_dataset(self, data):\n",
    "  data = np.array(data, dtype=np.float32)\n",
    "  ds = tf.keras.preprocessing.timeseries_dataset_from_array(\n",
    "      data=data,\n",
    "      targets=None,\n",
    "      sequence_length=self.total_window_size,\n",
    "      sequence_stride=1,\n",
    "      shuffle=True,\n",
    "      batch_size=32,)\n",
    "\n",
    "  ds = ds.map(self.split_window)\n",
    "\n",
    "  return ds\n",
    "\n",
    "WindowGenerator.make_dataset = make_dataset\n",
    "@property\n",
    "def train(self):\n",
    "  return self.make_dataset(self.train_df)\n",
    "\n",
    "@property\n",
    "def val(self):\n",
    "  return self.make_dataset(self.val_df)\n",
    "\n",
    "@property\n",
    "def test(self):\n",
    "  return self.make_dataset(self.test_df)\n",
    "\n",
    "@property\n",
    "def example(self):\n",
    "  \"\"\"Get and cache an example batch of `inputs, labels` for plotting.\"\"\"\n",
    "  result = getattr(self, '_example', None)\n",
    "  if result is None:\n",
    "    # No example batch was found, so get one from the `.train` dataset\n",
    "    result = next(iter(self.train))\n",
    "    # And cache it for next time\n",
    "    self._example = result\n",
    "  return result\n",
    "\n",
    "WindowGenerator.train = train\n",
    "WindowGenerator.val = val\n",
    "WindowGenerator.test = test\n",
    "WindowGenerator.example = example"
   ]
  },
  {
   "cell_type": "markdown",
   "metadata": {
    "id": "-Xs-1e7MKmMS"
   },
   "source": [
    "# Multi-steps model "
   ]
  },
  {
   "cell_type": "code",
   "execution_count": 23,
   "metadata": {
    "colab": {
     "base_uri": "https://localhost:8080/",
     "height": 517
    },
    "id": "ynzwPwnxIr7E",
    "outputId": "327c9c75-c353-4e95-ee2a-4f6e7e4a2dfd",
    "scrolled": true
   },
   "outputs": [
    {
     "name": "stdout",
     "output_type": "stream",
     "text": [
      "258/258 [==============================] - 0s 2ms/step - loss: 0.5486 - smape: 0.4727 - mean_absolute_error: 0.5077\n"
     ]
    },
    {
     "data": {
      "image/png": "[encoded data removed]",
      "text/plain": [
       "<Figure size 864x576 with 3 Axes>"
      ]
     },
     "metadata": {
      "needs_background": "light"
     },
     "output_type": "display_data"
    }
   ],
   "source": [
    "OUT_STEPS = 24\n",
    "multi_window = WindowGenerator(input_width=24,\n",
    "                               label_width=OUT_STEPS, \n",
    "                               shift=24,label_columns=['NO2','NOX as NO2','PM10','PM2.5'])\n",
    "\n",
    "MAX_EPOCHS = 20\n",
    "\n",
    "def compile_and_fit(model, window, patience=2):\n",
    "  early_stopping = tf.keras.callbacks.EarlyStopping(monitor='val_loss',\n",
    "                                                    patience=patience,\n",
    "                                                    mode='min')\n",
    "  def smape(y_true, y_pred):\n",
    "        y_true = y_true * train_std[:num_features] + train_mean[:num_features]\n",
    "        y_pred = y_pred * train_std[:num_features] + train_mean[:num_features]\n",
    "        return tf.reduce_mean(2 * tf.abs(y_true - y_pred)\n",
    "                              / (tf.abs(y_pred) + tf.abs(y_true)), axis=-1)\n",
    "  model.compile(loss=tf.losses.MeanSquaredError(),\n",
    "                optimizer=tf.optimizers.Adam(),\n",
    "                metrics=[smape,tf.metrics.MeanAbsoluteError()])\n",
    "  model.load_weights(\"ckpt\")\n",
    "  history = model.fit(window.train, epochs=MAX_EPOCHS,\n",
    "                      validation_data=window.val,\n",
    "                      callbacks=[early_stopping])\n",
    "  return history\n",
    "\n",
    "multi_lstm_model = tf.keras.Sequential([\n",
    "    # Shape [batch, time, features] => [batch, lstm_units]\n",
    "    # Adding more `lstm_units` just overfits more quickly.\n",
    "    tf.keras.layers.LSTM(32, return_sequences=False),\n",
    "    # Shape => [batch, out_steps*features]\n",
    "    tf.keras.layers.Dense(OUT_STEPS*num_features,\n",
    "                          kernel_initializer=tf.initializers.zeros),\n",
    "    # Shape => [batch, out_steps, features]\n",
    "    tf.keras.layers.Reshape([OUT_STEPS, num_features])\n",
    "])\n",
    "\n",
    "history = compile_and_fit(multi_lstm_model, multi_window)\n",
    "\n",
    "IPython.display.clear_output()\n",
    "\n",
    "multi_val_performance = {}\n",
    "multi_performance = {}\n",
    "multi_val_performance['LSTM'] = multi_lstm_model.evaluate(multi_window.val)\n",
    "multi_performance['LSTM'] = multi_lstm_model.evaluate(multi_window.test, verbose=0)\n",
    "multi_window.plot(multi_lstm_model)"
   ]
  },
  {
   "cell_type": "code",
   "execution_count": 24,
   "metadata": {},
   "outputs": [],
   "source": [
    "multi_lstm_model.save_weights('ckpt',save_format=\"tf\")"
   ]
  },
  {
   "cell_type": "markdown",
   "metadata": {
    "id": "vWrs_8ayNvAa"
   },
   "source": [
    "## Predictions"
   ]
  },
  {
   "cell_type": "code",
   "execution_count": 48,
   "metadata": {
    "colab": {
     "base_uri": "https://localhost:8080/",
     "height": 415
    },
    "id": "tcjYpCipce4M",
    "outputId": "52a27c33-95fb-4234-81f5-2e8fdc54b6cc"
   },
   "outputs": [
    {
     "data": {
      "text/html": [
       "<div>\n",
       "<style scoped>\n",
       "    .dataframe tbody tr th:only-of-type {\n",
       "        vertical-align: middle;\n",
       "    }\n",
       "\n",
       "    .dataframe tbody tr th {\n",
       "        vertical-align: top;\n",
       "    }\n",
       "\n",
       "    .dataframe thead th {\n",
       "        text-align: right;\n",
       "    }\n",
       "</style>\n",
       "<table border=\"1\" class=\"dataframe\">\n",
       "  <thead>\n",
       "    <tr style=\"text-align: right;\">\n",
       "      <th></th>\n",
       "      <th>Start</th>\n",
       "      <th>NO2</th>\n",
       "      <th>NOX as NO2</th>\n",
       "      <th>PM10</th>\n",
       "      <th>PM2.5</th>\n",
       "    </tr>\n",
       "  </thead>\n",
       "  <tbody>\n",
       "    <tr>\n",
       "      <th>0</th>\n",
       "      <td>2019-10-01 00:00:00</td>\n",
       "      <td>9.066192</td>\n",
       "      <td>21.572356</td>\n",
       "      <td>3.853692</td>\n",
       "      <td>0.730701</td>\n",
       "    </tr>\n",
       "    <tr>\n",
       "      <th>1</th>\n",
       "      <td>2019-10-01 01:00:00</td>\n",
       "      <td>8.764221</td>\n",
       "      <td>19.402070</td>\n",
       "      <td>4.723977</td>\n",
       "      <td>0.806097</td>\n",
       "    </tr>\n",
       "    <tr>\n",
       "      <th>2</th>\n",
       "      <td>2019-10-01 02:00:00</td>\n",
       "      <td>9.295992</td>\n",
       "      <td>18.742120</td>\n",
       "      <td>5.979500</td>\n",
       "      <td>0.877080</td>\n",
       "    </tr>\n",
       "    <tr>\n",
       "      <th>3</th>\n",
       "      <td>2019-10-01 03:00:00</td>\n",
       "      <td>11.312190</td>\n",
       "      <td>23.675070</td>\n",
       "      <td>7.484662</td>\n",
       "      <td>0.969555</td>\n",
       "    </tr>\n",
       "    <tr>\n",
       "      <th>4</th>\n",
       "      <td>2019-10-01 04:00:00</td>\n",
       "      <td>15.467671</td>\n",
       "      <td>34.570378</td>\n",
       "      <td>9.061594</td>\n",
       "      <td>1.102836</td>\n",
       "    </tr>\n",
       "    <tr>\n",
       "      <th>...</th>\n",
       "      <td>...</td>\n",
       "      <td>...</td>\n",
       "      <td>...</td>\n",
       "      <td>...</td>\n",
       "      <td>...</td>\n",
       "    </tr>\n",
       "    <tr>\n",
       "      <th>2203</th>\n",
       "      <td>2019-12-31 19:00:00</td>\n",
       "      <td>24.798946</td>\n",
       "      <td>42.797598</td>\n",
       "      <td>25.256112</td>\n",
       "      <td>3.822497</td>\n",
       "    </tr>\n",
       "    <tr>\n",
       "      <th>2204</th>\n",
       "      <td>2019-12-31 20:00:00</td>\n",
       "      <td>22.821032</td>\n",
       "      <td>35.996587</td>\n",
       "      <td>24.618432</td>\n",
       "      <td>3.758224</td>\n",
       "    </tr>\n",
       "    <tr>\n",
       "      <th>2205</th>\n",
       "      <td>2019-12-31 21:00:00</td>\n",
       "      <td>21.119008</td>\n",
       "      <td>30.733077</td>\n",
       "      <td>23.714170</td>\n",
       "      <td>3.720330</td>\n",
       "    </tr>\n",
       "    <tr>\n",
       "      <th>2206</th>\n",
       "      <td>2019-12-31 22:00:00</td>\n",
       "      <td>20.192078</td>\n",
       "      <td>28.643968</td>\n",
       "      <td>22.551903</td>\n",
       "      <td>3.692301</td>\n",
       "    </tr>\n",
       "    <tr>\n",
       "      <th>2207</th>\n",
       "      <td>2019-12-31 23:00:00</td>\n",
       "      <td>20.141400</td>\n",
       "      <td>29.487396</td>\n",
       "      <td>21.059326</td>\n",
       "      <td>3.658333</td>\n",
       "    </tr>\n",
       "  </tbody>\n",
       "</table>\n",
       "<p>2208 rows × 5 columns</p>\n",
       "</div>"
      ],
      "text/plain": [
       "                   Start        NO2  NOX as NO2       PM10     PM2.5\n",
       "0    2019-10-01 00:00:00   9.066192   21.572356   3.853692  0.730701\n",
       "1    2019-10-01 01:00:00   8.764221   19.402070   4.723977  0.806097\n",
       "2    2019-10-01 02:00:00   9.295992   18.742120   5.979500  0.877080\n",
       "3    2019-10-01 03:00:00  11.312190   23.675070   7.484662  0.969555\n",
       "4    2019-10-01 04:00:00  15.467671   34.570378   9.061594  1.102836\n",
       "...                  ...        ...         ...        ...       ...\n",
       "2203 2019-12-31 19:00:00  24.798946   42.797598  25.256112  3.822497\n",
       "2204 2019-12-31 20:00:00  22.821032   35.996587  24.618432  3.758224\n",
       "2205 2019-12-31 21:00:00  21.119008   30.733077  23.714170  3.720330\n",
       "2206 2019-12-31 22:00:00  20.192078   28.643968  22.551903  3.692301\n",
       "2207 2019-12-31 23:00:00  20.141400   29.487396  21.059326  3.658333\n",
       "\n",
       "[2208 rows x 5 columns]"
      ]
     },
     "execution_count": 48,
     "metadata": {},
     "output_type": "execute_result"
    }
   ],
   "source": [
    "predict = pd.DataFrame(columns=['NO2','NOX as NO2','PM10','PM2.5'])\n",
    "idx= 0\n",
    "for j in range(0,92):\n",
    "  test = test_df.iloc[idx:idx+48,:]\n",
    "  predict_window = WindowGenerator(input_width=24,\n",
    "                               label_width=24, \n",
    "                               test_df = test,\n",
    "                               shift=24,label_columns=['NO2','NOX as NO2','PM10','PM2.5'])\n",
    "  values = multi_lstm_model.predict(predict_window.test)\n",
    "  for i in range(0,24):\n",
    "      dictionary = {'NO2':values[0][i][0], 'NOX as NO2':values[0][i][1],'PM10':values[0][i][2], 'PM2.5':values[0][i][3]}\n",
    "      predict = predict.append(dictionary,ignore_index=True)\n",
    "  idx=idx+24\n",
    "predict= (predict*train_std)+train_mean\n",
    "predict.drop(columns=['Air Pressure', 'Fall', 'Friday', 'Humidity', 'Monday',\n",
    "        'Saturday', 'Spring', 'Summer', 'Sunday',\n",
    "        'Thursday', 'Tuesday', 'Wednesday', 'Weekday', 'Weekend', 'Winter'])\n",
    "predict['Start'] = pd.date_range(start='2019-10-01 00:00:00', periods=len(predict), freq='H')\n",
    "predict = predict[['Start','NO2','NOX as NO2','PM10','PM2.5']]\n",
    "predict.to_csv(r'18644.csv', index = False)\n",
    "predict"
   ]
  },
  {
   "cell_type": "markdown",
   "metadata": {
    "id": "xbAE3a8YXE0F"
   },
   "source": [
    "## Calculate SMAPE "
   ]
  },
  {
   "cell_type": "code",
   "execution_count": 33,
   "metadata": {
    "id": "iR4N_5TXOVn2"
   },
   "outputs": [],
   "source": [
    "def smape(actual, predicted):\n",
    "   dividend= np.abs(np.array(actual) - np.array(predicted))\n",
    "   denominator = np.array(actual) + np.array(predicted)\n",
    "   return 2 * np.mean(np.divide(dividend, denominator, out=np.zeros_like(dividend), where=denominator!=0, casting='unsafe'))"
   ]
  },
  {
   "cell_type": "code",
   "execution_count": 49,
   "metadata": {
    "colab": {
     "base_uri": "https://localhost:8080/",
     "height": 171
    },
    "id": "rOhXoG8lO7s2",
    "outputId": "4717a6d1-2586-4de1-a9d6-9d1667d39e6e"
   },
   "outputs": [
    {
     "data": {
      "text/html": [
       "<div>\n",
       "<style scoped>\n",
       "    .dataframe tbody tr th:only-of-type {\n",
       "        vertical-align: middle;\n",
       "    }\n",
       "\n",
       "    .dataframe tbody tr th {\n",
       "        vertical-align: top;\n",
       "    }\n",
       "\n",
       "    .dataframe thead th {\n",
       "        text-align: right;\n",
       "    }\n",
       "</style>\n",
       "<table border=\"1\" class=\"dataframe\">\n",
       "  <thead>\n",
       "    <tr style=\"text-align: right;\">\n",
       "      <th></th>\n",
       "      <th>Station</th>\n",
       "      <th>NO2</th>\n",
       "      <th>NOX as NO2</th>\n",
       "      <th>PM10</th>\n",
       "      <th>PM2.5</th>\n",
       "      <th>Average</th>\n",
       "    </tr>\n",
       "  </thead>\n",
       "  <tbody>\n",
       "    <tr>\n",
       "      <th>0</th>\n",
       "      <td>8779</td>\n",
       "      <td>0.537029</td>\n",
       "      <td>0.724854</td>\n",
       "      <td>0.456019</td>\n",
       "      <td>0.524419</td>\n",
       "      <td>0.560580</td>\n",
       "    </tr>\n",
       "    <tr>\n",
       "      <th>1</th>\n",
       "      <td>8780</td>\n",
       "      <td>0.447764</td>\n",
       "      <td>0.484121</td>\n",
       "      <td>0.532798</td>\n",
       "      <td>0.421569</td>\n",
       "      <td>0.471563</td>\n",
       "    </tr>\n",
       "    <tr>\n",
       "      <th>2</th>\n",
       "      <td>8781</td>\n",
       "      <td>0.648590</td>\n",
       "      <td>0.060103</td>\n",
       "      <td>0.485788</td>\n",
       "      <td>0.488773</td>\n",
       "      <td>0.420814</td>\n",
       "    </tr>\n",
       "    <tr>\n",
       "      <th>3</th>\n",
       "      <td>18644</td>\n",
       "      <td>0.377894</td>\n",
       "      <td>0.458869</td>\n",
       "      <td>0.507069</td>\n",
       "      <td>0.544416</td>\n",
       "      <td>0.472062</td>\n",
       "    </tr>\n",
       "    <tr>\n",
       "      <th>4</th>\n",
       "      <td>18644</td>\n",
       "      <td>0.523763</td>\n",
       "      <td>0.760365</td>\n",
       "      <td>0.520029</td>\n",
       "      <td>0.548202</td>\n",
       "      <td>0.588090</td>\n",
       "    </tr>\n",
       "  </tbody>\n",
       "</table>\n",
       "</div>"
      ],
      "text/plain": [
       "  Station       NO2  NOX as NO2      PM10     PM2.5   Average\n",
       "0    8779  0.537029    0.724854  0.456019  0.524419  0.560580\n",
       "1    8780  0.447764    0.484121  0.532798  0.421569  0.471563\n",
       "2    8781  0.648590    0.060103  0.485788  0.488773  0.420814\n",
       "3   18644  0.377894    0.458869  0.507069  0.544416  0.472062\n",
       "4   18644  0.523763    0.760365  0.520029  0.548202  0.588090"
      ]
     },
     "execution_count": 49,
     "metadata": {},
     "output_type": "execute_result"
    }
   ],
   "source": [
    "actual=station1.iloc[41616:,:]\n",
    "actual.index = range(len(predict))\n",
    "no2 = smape(actual['NO2'],predict['NO2'])\n",
    "nox = smape(actual['NOX as NO2'],predict['NOX as NO2'])\n",
    "pm2_5 = smape(actual['PM2.5'],predict['PM2.5'])\n",
    "pm10 = smape(actual['PM10'], predict['PM10']) \n",
    "dict1 = {'Station':'18644','NO2':no2,'NOX as NO2':nox,'PM2.5':pm2_5,'PM10':pm10, 'Average':(no2+nox+pm2_5+pm10)/4 }\n",
    "smape_values = smape_values.append(dict1,ignore_index=True)\n",
    "smape_values"
   ]
  },
  {
   "cell_type": "code",
   "execution_count": 43,
   "metadata": {
    "colab": {
     "base_uri": "https://localhost:8080/"
    },
    "id": "altRxMllgxVO",
    "outputId": "5a113e1c-d6a6-4c4c-87d3-64118b6f51e8"
   },
   "outputs": [
    {
     "data": {
      "text/plain": [
       "0.4812547561303572"
      ]
     },
     "execution_count": 43,
     "metadata": {},
     "output_type": "execute_result"
    }
   ],
   "source": [
    "smape_values['Average'].mean()"
   ]
  },
  {
   "cell_type": "code",
   "execution_count": 45,
   "metadata": {
    "colab": {
     "base_uri": "https://localhost:8080/"
    },
    "id": "U7nFl2VkjC25",
    "outputId": "ebc83c8b-7fdb-4670-92f2-8257481bae55",
    "scrolled": true
   },
   "outputs": [
    {
     "name": "stderr",
     "output_type": "stream",
     "text": [
      "'zip' is not recognized as an internal or external command,\n",
      "operable program or batch file.\n"
     ]
    }
   ],
   "source": [
    "!zip -r data.zip data"
   ]
  },
  {
   "cell_type": "code",
   "execution_count": 62,
   "metadata": {},
   "outputs": [],
   "source": [
    "smape_values = pd.DataFrame(columns=['Station','NO2','NOX as NO2','PM10','PM2.5','Average'])"
   ]
  },
  {
   "cell_type": "code",
   "execution_count": null,
   "metadata": {},
   "outputs": [],
   "source": []
  }
 ],
 "metadata": {
  "colab": {
   "collapsed_sections": [],
   "name": "Centralized model competition.ipynb",
   "provenance": []
  },
  "kernelspec": {
   "display_name": "Python 3",
   "language": "python",
   "name": "python3"
  },
  "language_info": {
   "codemirror_mode": {
    "name": "ipython",
    "version": 3
   },
   "file_extension": ".py",
   "mimetype": "text/x-python",
   "name": "python",
   "nbconvert_exporter": "python",
   "pygments_lexer": "ipython3",
   "version": "3.7.8"
  }
 },
 "nbformat": 4,
 "nbformat_minor": 1
}
