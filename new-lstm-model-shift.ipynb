{
 "cells": [
  {
   "cell_type": "code",
   "execution_count": 2,
   "metadata": {},
   "outputs": [],
   "source": [
    "import os\n",
    "import pandas as pd\n",
    "import numpy as np\n",
    "import re\n",
    "import seaborn as sns\n",
    "import matplotlib.pyplot as plt\n",
    "from matplotlib import pyplot\n",
    "from scipy import stats\n",
    "import math\n",
    "from sklearn.metrics import mean_squared_error"
   ]
  },
  {
   "cell_type": "code",
   "execution_count": 2,
   "metadata": {},
   "outputs": [],
   "source": [
    "dataPath = 'Data/2016-2019(One station)/shair-8781-1-6-1.csv'\n",
    "airQualityData=pd.read_csv(dataPath, header=14,sep=';').rename(columns={'Start':'Start','Slut':'Stop'})\n",
    "airQualityData.rename(columns = lambda x: re.sub('NOX.*','NOX',x), inplace = True)\n",
    "airQualityData.rename(columns = lambda x: re.sub('PM10.*','PM10',x), inplace = True)\n",
    "airQualityData.rename(columns = lambda x: re.sub('PM2.5.*','PM2_5',x), inplace = True)\n",
    "airQualityData.rename(columns = lambda x: re.sub('NO2.*','NO2',x), inplace = True)\n",
    "airQualityData.rename(columns = lambda x: re.sub('O3.*','O3',x), inplace = True)\n",
    "airQualityData.rename(columns = lambda x: re.sub('Black Carbon.*','Black Carbon',x), inplace = True)\n",
    "airQualityData['Start'] = pd.to_datetime(airQualityData['Start'])\n",
    "airQualityData= airQualityData.drop('Stop',axis=1)\n",
    "one_feature=airQualityData.drop(columns=['Black Carbon','O3','PM2_5'])#\n",
    "one_feature.head(5)\n",
    "one_feature = one_feature.fillna(0)\n",
    "# one_feature = one_feature.dropna()"
   ]
  },
  {
   "cell_type": "code",
   "execution_count": 3,
   "metadata": {},
   "outputs": [
    {
     "data": {
      "text/html": [
       "<div>\n",
       "<style scoped>\n",
       "    .dataframe tbody tr th:only-of-type {\n",
       "        vertical-align: middle;\n",
       "    }\n",
       "\n",
       "    .dataframe tbody tr th {\n",
       "        vertical-align: top;\n",
       "    }\n",
       "\n",
       "    .dataframe thead th {\n",
       "        text-align: right;\n",
       "    }\n",
       "</style>\n",
       "<table border=\"1\" class=\"dataframe\">\n",
       "  <thead>\n",
       "    <tr style=\"text-align: right;\">\n",
       "      <th></th>\n",
       "      <th>Start</th>\n",
       "      <th>NO2</th>\n",
       "      <th>NOX</th>\n",
       "      <th>PM10</th>\n",
       "    </tr>\n",
       "  </thead>\n",
       "  <tbody>\n",
       "    <tr>\n",
       "      <th>0</th>\n",
       "      <td>2015-01-01 00:00:00</td>\n",
       "      <td>4.5</td>\n",
       "      <td>6.2</td>\n",
       "      <td>28.4</td>\n",
       "    </tr>\n",
       "    <tr>\n",
       "      <th>1</th>\n",
       "      <td>2015-01-01 01:00:00</td>\n",
       "      <td>3.1</td>\n",
       "      <td>3.7</td>\n",
       "      <td>8.5</td>\n",
       "    </tr>\n",
       "    <tr>\n",
       "      <th>2</th>\n",
       "      <td>2015-01-01 02:00:00</td>\n",
       "      <td>2.1</td>\n",
       "      <td>2.9</td>\n",
       "      <td>8.7</td>\n",
       "    </tr>\n",
       "    <tr>\n",
       "      <th>3</th>\n",
       "      <td>2015-01-01 03:00:00</td>\n",
       "      <td>1.6</td>\n",
       "      <td>2.2</td>\n",
       "      <td>10.5</td>\n",
       "    </tr>\n",
       "    <tr>\n",
       "      <th>4</th>\n",
       "      <td>2015-01-01 04:00:00</td>\n",
       "      <td>1.4</td>\n",
       "      <td>2.1</td>\n",
       "      <td>12.1</td>\n",
       "    </tr>\n",
       "    <tr>\n",
       "      <th>...</th>\n",
       "      <td>...</td>\n",
       "      <td>...</td>\n",
       "      <td>...</td>\n",
       "      <td>...</td>\n",
       "    </tr>\n",
       "    <tr>\n",
       "      <th>43819</th>\n",
       "      <td>2019-12-31 19:00:00</td>\n",
       "      <td>4.4</td>\n",
       "      <td>4.6</td>\n",
       "      <td>6.4</td>\n",
       "    </tr>\n",
       "    <tr>\n",
       "      <th>43820</th>\n",
       "      <td>2019-12-31 20:00:00</td>\n",
       "      <td>3.2</td>\n",
       "      <td>3.4</td>\n",
       "      <td>4.5</td>\n",
       "    </tr>\n",
       "    <tr>\n",
       "      <th>43821</th>\n",
       "      <td>2019-12-31 21:00:00</td>\n",
       "      <td>2.7</td>\n",
       "      <td>2.6</td>\n",
       "      <td>3.0</td>\n",
       "    </tr>\n",
       "    <tr>\n",
       "      <th>43822</th>\n",
       "      <td>2019-12-31 22:00:00</td>\n",
       "      <td>3.1</td>\n",
       "      <td>3.1</td>\n",
       "      <td>2.8</td>\n",
       "    </tr>\n",
       "    <tr>\n",
       "      <th>43823</th>\n",
       "      <td>2019-12-31 23:00:00</td>\n",
       "      <td>3.8</td>\n",
       "      <td>3.6</td>\n",
       "      <td>4.6</td>\n",
       "    </tr>\n",
       "  </tbody>\n",
       "</table>\n",
       "<p>43824 rows × 4 columns</p>\n",
       "</div>"
      ],
      "text/plain": [
       "                    Start  NO2  NOX  PM10\n",
       "0     2015-01-01 00:00:00  4.5  6.2  28.4\n",
       "1     2015-01-01 01:00:00  3.1  3.7   8.5\n",
       "2     2015-01-01 02:00:00  2.1  2.9   8.7\n",
       "3     2015-01-01 03:00:00  1.6  2.2  10.5\n",
       "4     2015-01-01 04:00:00  1.4  2.1  12.1\n",
       "...                   ...  ...  ...   ...\n",
       "43819 2019-12-31 19:00:00  4.4  4.6   6.4\n",
       "43820 2019-12-31 20:00:00  3.2  3.4   4.5\n",
       "43821 2019-12-31 21:00:00  2.7  2.6   3.0\n",
       "43822 2019-12-31 22:00:00  3.1  3.1   2.8\n",
       "43823 2019-12-31 23:00:00  3.8  3.6   4.6\n",
       "\n",
       "[43824 rows x 4 columns]"
      ]
     },
     "execution_count": 3,
     "metadata": {},
     "output_type": "execute_result"
    }
   ],
   "source": [
    "one_feature"
   ]
  },
  {
   "cell_type": "code",
   "execution_count": 4,
   "metadata": {},
   "outputs": [],
   "source": [
    "from sklearn.preprocessing import MinMaxScaler\n",
    "sc = MinMaxScaler(feature_range = (0, 1))\n",
    "scaled_down=one_feature.copy()\n",
    "scaled_down['PM10']=sc.fit_transform(scaled_down['PM10'].values.reshape(-1, 1))\n",
    "scaled_down['NOX']=sc.fit_transform(scaled_down['NOX'].values.reshape(-1, 1))\n",
    "scaled_down['NO2']=sc.fit_transform(scaled_down['NO2'].values.reshape(-1, 1))"
   ]
  },
  {
   "cell_type": "code",
   "execution_count": 5,
   "metadata": {},
   "outputs": [],
   "source": [
    "train=scaled_down[(scaled_down['Start']<= \"2018-12-31 23:00:00\")]\n",
    "test=scaled_down[(scaled_down['Start'] >= \"2019-01-01 00:00:00\")]"
   ]
  },
  {
   "cell_type": "code",
   "execution_count": 6,
   "metadata": {},
   "outputs": [
    {
     "name": "stderr",
     "output_type": "stream",
     "text": [
      "c:\\users\\jad\\appdata\\local\\programs\\python\\python37\\lib\\site-packages\\ipykernel_launcher.py:1: SettingWithCopyWarning: \n",
      "A value is trying to be set on a copy of a slice from a DataFrame.\n",
      "Try using .loc[row_indexer,col_indexer] = value instead\n",
      "\n",
      "See the caveats in the documentation: https://pandas.pydata.org/pandas-docs/stable/user_guide/indexing.html#returning-a-view-versus-a-copy\n",
      "  \"\"\"Entry point for launching an IPython kernel.\n"
     ]
    },
    {
     "data": {
      "text/html": [
       "<div>\n",
       "<style scoped>\n",
       "    .dataframe tbody tr th:only-of-type {\n",
       "        vertical-align: middle;\n",
       "    }\n",
       "\n",
       "    .dataframe tbody tr th {\n",
       "        vertical-align: top;\n",
       "    }\n",
       "\n",
       "    .dataframe thead th {\n",
       "        text-align: right;\n",
       "    }\n",
       "</style>\n",
       "<table border=\"1\" class=\"dataframe\">\n",
       "  <thead>\n",
       "    <tr style=\"text-align: right;\">\n",
       "      <th></th>\n",
       "      <th>NO2</th>\n",
       "      <th>NOX</th>\n",
       "      <th>PM10</th>\n",
       "      <th>predicted_pollution</th>\n",
       "    </tr>\n",
       "  </thead>\n",
       "  <tbody>\n",
       "    <tr>\n",
       "      <th>0</th>\n",
       "      <td>0.039648</td>\n",
       "      <td>0.009583</td>\n",
       "      <td>0.189614</td>\n",
       "      <td>0.069444</td>\n",
       "    </tr>\n",
       "    <tr>\n",
       "      <th>1</th>\n",
       "      <td>0.027313</td>\n",
       "      <td>0.005719</td>\n",
       "      <td>0.069444</td>\n",
       "      <td>0.070652</td>\n",
       "    </tr>\n",
       "    <tr>\n",
       "      <th>2</th>\n",
       "      <td>0.018502</td>\n",
       "      <td>0.004482</td>\n",
       "      <td>0.070652</td>\n",
       "      <td>0.081522</td>\n",
       "    </tr>\n",
       "    <tr>\n",
       "      <th>3</th>\n",
       "      <td>0.014097</td>\n",
       "      <td>0.003400</td>\n",
       "      <td>0.081522</td>\n",
       "      <td>0.091184</td>\n",
       "    </tr>\n",
       "    <tr>\n",
       "      <th>4</th>\n",
       "      <td>0.012335</td>\n",
       "      <td>0.003246</td>\n",
       "      <td>0.091184</td>\n",
       "      <td>0.094807</td>\n",
       "    </tr>\n",
       "  </tbody>\n",
       "</table>\n",
       "</div>"
      ],
      "text/plain": [
       "        NO2       NOX      PM10  predicted_pollution\n",
       "0  0.039648  0.009583  0.189614             0.069444\n",
       "1  0.027313  0.005719  0.069444             0.070652\n",
       "2  0.018502  0.004482  0.070652             0.081522\n",
       "3  0.014097  0.003400  0.081522             0.091184\n",
       "4  0.012335  0.003246  0.091184             0.094807"
      ]
     },
     "execution_count": 6,
     "metadata": {},
     "output_type": "execute_result"
    }
   ],
   "source": [
    "train['predicted_pollution'] = train['PM10'].shift(-1)\n",
    "\n",
    "# Drop the last row (it has no value for predicted pollution)\n",
    "train = train.drop(train.tail(1).index)\n",
    "train=train.drop('Start',axis=1)\n",
    "train.head()"
   ]
  },
  {
   "cell_type": "code",
   "execution_count": 7,
   "metadata": {},
   "outputs": [
    {
     "name": "stderr",
     "output_type": "stream",
     "text": [
      "c:\\users\\jad\\appdata\\local\\programs\\python\\python37\\lib\\site-packages\\ipykernel_launcher.py:1: SettingWithCopyWarning: \n",
      "A value is trying to be set on a copy of a slice from a DataFrame.\n",
      "Try using .loc[row_indexer,col_indexer] = value instead\n",
      "\n",
      "See the caveats in the documentation: https://pandas.pydata.org/pandas-docs/stable/user_guide/indexing.html#returning-a-view-versus-a-copy\n",
      "  \"\"\"Entry point for launching an IPython kernel.\n"
     ]
    },
    {
     "data": {
      "text/html": [
       "<div>\n",
       "<style scoped>\n",
       "    .dataframe tbody tr th:only-of-type {\n",
       "        vertical-align: middle;\n",
       "    }\n",
       "\n",
       "    .dataframe tbody tr th {\n",
       "        vertical-align: top;\n",
       "    }\n",
       "\n",
       "    .dataframe thead th {\n",
       "        text-align: right;\n",
       "    }\n",
       "</style>\n",
       "<table border=\"1\" class=\"dataframe\">\n",
       "  <thead>\n",
       "    <tr style=\"text-align: right;\">\n",
       "      <th></th>\n",
       "      <th>NO2</th>\n",
       "      <th>NOX</th>\n",
       "      <th>PM10</th>\n",
       "      <th>predicted_pollution</th>\n",
       "    </tr>\n",
       "  </thead>\n",
       "  <tbody>\n",
       "    <tr>\n",
       "      <th>35064</th>\n",
       "      <td>0.041410</td>\n",
       "      <td>0.008501</td>\n",
       "      <td>0.243357</td>\n",
       "      <td>0.102053</td>\n",
       "    </tr>\n",
       "    <tr>\n",
       "      <th>35065</th>\n",
       "      <td>0.038767</td>\n",
       "      <td>0.007883</td>\n",
       "      <td>0.102053</td>\n",
       "      <td>0.051329</td>\n",
       "    </tr>\n",
       "    <tr>\n",
       "      <th>35066</th>\n",
       "      <td>0.030837</td>\n",
       "      <td>0.006337</td>\n",
       "      <td>0.051329</td>\n",
       "      <td>0.039855</td>\n",
       "    </tr>\n",
       "    <tr>\n",
       "      <th>35067</th>\n",
       "      <td>0.014097</td>\n",
       "      <td>0.003246</td>\n",
       "      <td>0.039855</td>\n",
       "      <td>0.052536</td>\n",
       "    </tr>\n",
       "    <tr>\n",
       "      <th>35068</th>\n",
       "      <td>0.021145</td>\n",
       "      <td>0.004946</td>\n",
       "      <td>0.052536</td>\n",
       "      <td>0.044082</td>\n",
       "    </tr>\n",
       "  </tbody>\n",
       "</table>\n",
       "</div>"
      ],
      "text/plain": [
       "            NO2       NOX      PM10  predicted_pollution\n",
       "35064  0.041410  0.008501  0.243357             0.102053\n",
       "35065  0.038767  0.007883  0.102053             0.051329\n",
       "35066  0.030837  0.006337  0.051329             0.039855\n",
       "35067  0.014097  0.003246  0.039855             0.052536\n",
       "35068  0.021145  0.004946  0.052536             0.044082"
      ]
     },
     "execution_count": 7,
     "metadata": {},
     "output_type": "execute_result"
    }
   ],
   "source": [
    "test['predicted_pollution'] = test['PM10'].shift(-1)\n",
    "\n",
    "# Drop the last row (it has no value for predicted pollution)\n",
    "test = test.drop(test.tail(1).index)\n",
    "test=test.drop('Start',axis=1)\n",
    "\n",
    "test.head()"
   ]
  },
  {
   "cell_type": "code",
   "execution_count": 8,
   "metadata": {},
   "outputs": [],
   "source": [
    "train_values=train.values\n",
    "test_values=test.values\n",
    "test_X, test_y = test_values[:, :-1], test_values[:, -1]\n",
    "train_X, train_y = train_values[:, :-1], train_values[:, -1]"
   ]
  },
  {
   "cell_type": "code",
   "execution_count": 9,
   "metadata": {},
   "outputs": [],
   "source": [
    "train_X = train_X.reshape((train_X.shape[0], 1, train_X.shape[1]))\n",
    "test_X = test_X.reshape((test_X.shape[0], 1, test_X.shape[1]))"
   ]
  },
  {
   "cell_type": "code",
   "execution_count": 10,
   "metadata": {},
   "outputs": [
    {
     "name": "stdout",
     "output_type": "stream",
     "text": [
      "Epoch 1/50\n",
      "487/487 - 1s - loss: 0.0021 - val_loss: 0.0017\n",
      "Epoch 2/50\n",
      "487/487 - 1s - loss: 0.0011 - val_loss: 9.0218e-04\n",
      "Epoch 3/50\n",
      "487/487 - 1s - loss: 8.7099e-04 - val_loss: 8.7812e-04\n",
      "Epoch 4/50\n",
      "487/487 - 1s - loss: 8.6359e-04 - val_loss: 8.9328e-04\n",
      "Epoch 5/50\n",
      "487/487 - 1s - loss: 8.6083e-04 - val_loss: 8.9452e-04\n",
      "Epoch 6/50\n",
      "487/487 - 1s - loss: 8.5824e-04 - val_loss: 8.8887e-04\n",
      "Epoch 7/50\n",
      "487/487 - 1s - loss: 8.5537e-04 - val_loss: 8.8298e-04\n",
      "Epoch 8/50\n",
      "487/487 - 1s - loss: 8.5225e-04 - val_loss: 8.7878e-04\n",
      "Epoch 9/50\n",
      "487/487 - 1s - loss: 8.4904e-04 - val_loss: 8.7615e-04\n",
      "Epoch 10/50\n",
      "487/487 - 1s - loss: 8.4589e-04 - val_loss: 8.7460e-04\n",
      "Epoch 11/50\n",
      "487/487 - 1s - loss: 8.4289e-04 - val_loss: 8.7374e-04\n",
      "Epoch 12/50\n",
      "487/487 - 1s - loss: 8.4009e-04 - val_loss: 8.7332e-04\n",
      "Epoch 13/50\n",
      "487/487 - 1s - loss: 8.3751e-04 - val_loss: 8.7321e-04\n",
      "Epoch 14/50\n",
      "487/487 - 1s - loss: 8.3516e-04 - val_loss: 8.7333e-04\n",
      "Epoch 15/50\n",
      "487/487 - 1s - loss: 8.3303e-04 - val_loss: 8.7364e-04\n",
      "Epoch 16/50\n",
      "487/487 - 1s - loss: 8.3110e-04 - val_loss: 8.7413e-04\n",
      "Epoch 17/50\n",
      "487/487 - 1s - loss: 8.2937e-04 - val_loss: 8.7476e-04\n",
      "Epoch 18/50\n",
      "487/487 - 1s - loss: 8.2782e-04 - val_loss: 8.7549e-04\n",
      "Epoch 19/50\n",
      "487/487 - 1s - loss: 8.2643e-04 - val_loss: 8.7628e-04\n",
      "Epoch 20/50\n",
      "487/487 - 1s - loss: 8.2519e-04 - val_loss: 8.7710e-04\n",
      "Epoch 21/50\n",
      "487/487 - 1s - loss: 8.2408e-04 - val_loss: 8.7792e-04\n",
      "Epoch 22/50\n",
      "487/487 - 1s - loss: 8.2310e-04 - val_loss: 8.7875e-04\n",
      "Epoch 23/50\n",
      "487/487 - 1s - loss: 8.2222e-04 - val_loss: 8.7961e-04\n",
      "Epoch 24/50\n",
      "487/487 - 1s - loss: 8.2147e-04 - val_loss: 8.8044e-04\n",
      "Epoch 25/50\n",
      "487/487 - 1s - loss: 8.2077e-04 - val_loss: 8.8140e-04\n",
      "Epoch 26/50\n",
      "487/487 - 1s - loss: 8.2008e-04 - val_loss: 8.8238e-04\n",
      "Epoch 27/50\n",
      "487/487 - 1s - loss: 8.1953e-04 - val_loss: 8.8322e-04\n",
      "Epoch 28/50\n",
      "487/487 - 1s - loss: 8.1906e-04 - val_loss: 8.8411e-04\n",
      "Epoch 29/50\n",
      "487/487 - 1s - loss: 8.1854e-04 - val_loss: 8.8517e-04\n",
      "Epoch 30/50\n",
      "487/487 - 1s - loss: 8.1816e-04 - val_loss: 8.8594e-04\n",
      "Epoch 31/50\n",
      "487/487 - 1s - loss: 8.1779e-04 - val_loss: 8.8668e-04\n",
      "Epoch 32/50\n",
      "487/487 - 1s - loss: 8.1746e-04 - val_loss: 8.8749e-04\n",
      "Epoch 33/50\n",
      "487/487 - 1s - loss: 8.1718e-04 - val_loss: 8.8826e-04\n",
      "Epoch 34/50\n",
      "487/487 - 1s - loss: 8.1686e-04 - val_loss: 8.8904e-04\n",
      "Epoch 35/50\n",
      "487/487 - 1s - loss: 8.1662e-04 - val_loss: 8.8975e-04\n",
      "Epoch 36/50\n",
      "487/487 - 1s - loss: 8.1639e-04 - val_loss: 8.9030e-04\n",
      "Epoch 37/50\n",
      "487/487 - 1s - loss: 8.1616e-04 - val_loss: 8.9087e-04\n",
      "Epoch 38/50\n",
      "487/487 - 1s - loss: 8.1600e-04 - val_loss: 8.9142e-04\n",
      "Epoch 39/50\n",
      "487/487 - 1s - loss: 8.1579e-04 - val_loss: 8.9203e-04\n",
      "Epoch 40/50\n",
      "487/487 - 1s - loss: 8.1560e-04 - val_loss: 8.9259e-04\n",
      "Epoch 41/50\n",
      "487/487 - 1s - loss: 8.1546e-04 - val_loss: 8.9300e-04\n",
      "Epoch 42/50\n",
      "487/487 - 1s - loss: 8.1531e-04 - val_loss: 8.9334e-04\n",
      "Epoch 43/50\n",
      "487/487 - 1s - loss: 8.1515e-04 - val_loss: 8.9381e-04\n",
      "Epoch 44/50\n",
      "487/487 - 1s - loss: 8.1502e-04 - val_loss: 8.9422e-04\n",
      "Epoch 45/50\n",
      "487/487 - 1s - loss: 8.1488e-04 - val_loss: 8.9461e-04\n",
      "Epoch 46/50\n",
      "487/487 - 1s - loss: 8.1474e-04 - val_loss: 8.9498e-04\n",
      "Epoch 47/50\n",
      "487/487 - 1s - loss: 8.1464e-04 - val_loss: 8.9518e-04\n",
      "Epoch 48/50\n",
      "487/487 - 1s - loss: 8.1455e-04 - val_loss: 8.9537e-04\n",
      "Epoch 49/50\n",
      "487/487 - 1s - loss: 8.1440e-04 - val_loss: 8.9573e-04\n",
      "Epoch 50/50\n",
      "487/487 - 1s - loss: 8.1431e-04 - val_loss: 8.9599e-04\n"
     ]
    }
   ],
   "source": [
    "from keras.models import Sequential\n",
    "from keras.layers import LSTM, Dense\n",
    "model = Sequential()\n",
    "model.add(LSTM(50, input_shape=(train_X.shape[1], train_X.shape[2])))\n",
    "model.add(Dense(1))\n",
    "model.compile(loss='MSE', optimizer='adam')\n",
    "\n",
    "history = model.fit(train_X, train_y, epochs=50,\n",
    "                    batch_size=72, validation_data=(test_X, test_y),\n",
    "                    verbose=2, shuffle=False)"
   ]
  },
  {
   "cell_type": "code",
   "execution_count": 11,
   "metadata": {},
   "outputs": [
    {
     "data": {
      "text/plain": [
       "[<matplotlib.lines.Line2D at 0x23410f2d4c8>]"
      ]
     },
     "execution_count": 11,
     "metadata": {},
     "output_type": "execute_result"
    },
    {
     "data": {
      "image/png": "[encoded data removed]",
      "text/plain": [
       "<Figure size 432x288 with 1 Axes>"
      ]
     },
     "metadata": {
      "needs_background": "light"
     },
     "output_type": "display_data"
    }
   ],
   "source": [
    "# plot history\n",
    "plt.plot(history.history['loss'], label='train')\n",
    "plt.plot(history.history['val_loss'], label='test')#orange is validation loss"
   ]
  },
  {
   "cell_type": "code",
   "execution_count": 12,
   "metadata": {
    "scrolled": true
   },
   "outputs": [
    {
     "data": {
      "text/plain": [
       "'3.397'"
      ]
     },
     "execution_count": 12,
     "metadata": {},
     "output_type": "execute_result"
    }
   ],
   "source": [
    "# For Data Preprocessing\n",
    "from sklearn.preprocessing import LabelEncoder, MinMaxScaler\n",
    "yhat = model.predict(test_X)\n",
    "\n",
    "\n",
    "inv_yhat = sc.inverse_transform(yhat)\n",
    "\n",
    "\n",
    "\n",
    "inv_y = sc.inverse_transform(test_y.reshape(-1, 1))\n",
    "\n",
    "\n",
    "# Calculate RMSE\n",
    "rmse = math.sqrt(mean_squared_error(inv_y, inv_yhat))\n",
    "'{:.3f}'.format(rmse)"
   ]
  },
  {
   "cell_type": "code",
   "execution_count": 13,
   "metadata": {},
   "outputs": [
    {
     "data": {
      "image/png": "[encoded data removed]",
      "text/plain": [
       "<Figure size 1080x1080 with 1 Axes>"
      ]
     },
     "metadata": {
      "needs_background": "light"
     },
     "output_type": "display_data"
    }
   ],
   "source": [
    "\n",
    "fig = plt.figure(figsize=(15,15))\n",
    "plt.plot(inv_y, color = 'black', label = 'PM10')\n",
    "plt.plot(inv_yhat, color = 'green', label = 'Predicted PM10')\n",
    "plt.title('PM10 Predictions')\n",
    "plt.xlabel('Time')\n",
    "plt.ylabel('PM10')\n",
    "plt.legend()\n",
    "plt.show()\n"
   ]
  },
  {
   "cell_type": "code",
   "execution_count": 14,
   "metadata": {},
   "outputs": [
    {
     "data": {
      "text/plain": [
       "(35063, 1, 3)"
      ]
     },
     "execution_count": 14,
     "metadata": {},
     "output_type": "execute_result"
    }
   ],
   "source": [
    "train_X.shape"
   ]
  },
  {
   "cell_type": "markdown",
   "metadata": {},
   "source": [
    "# Test 2\n"
   ]
  },
  {
   "cell_type": "code",
   "execution_count": 124,
   "metadata": {},
   "outputs": [
    {
     "name": "stdout",
     "output_type": "stream",
     "text": [
      "Processing year: Data/2016-2019(NO2, NOX, PM2.5) station: shair-8779-1-6-3.csv\n",
      "                Start              Stop   NO2   NOX  PM10  PM2_5\n",
      "0 2016-01-01 00:00:00  2016-01-01 01:00  31.8  47.1  36.3   27.0\n",
      "1 2016-01-01 01:00:00  2016-01-01 02:00  32.3  48.3  15.8    9.0\n",
      "2 2016-01-01 02:00:00  2016-01-01 03:00  25.9  36.2  14.4    8.5\n",
      "3 2016-01-01 03:00:00  2016-01-01 04:00  36.1  55.6  13.9    6.0\n",
      "4 2016-01-01 04:00:00  2016-01-01 05:00  30.2  47.7  16.0    7.0\n",
      "(35064, 6)\n"
     ]
    }
   ],
   "source": [
    "dataPath = 'Data/2016-2019(NO2, NOX, PM2.5)'\n",
    "listOfDataFrames=[]\n",
    "stations=os.listdir(dataPath)\n",
    "for station in stations:\n",
    "    print(\"Processing year: \"+ dataPath +\" station: \"+station)\n",
    "    airQualityData=pd.read_csv(dataPath+'\\\\'+station, header=12,sep=';').rename(columns={'Start':'Start','Slut':'Stop'})\n",
    "    airQualityData.rename(columns = lambda x: re.sub('NOX.*','NOX',x), inplace = True)\n",
    "    airQualityData.rename(columns = lambda x: re.sub('PM10.*','PM10',x), inplace = True)\n",
    "    airQualityData.rename(columns = lambda x: re.sub('PM2.5.*','PM2_5',x), inplace = True)\n",
    "    airQualityData.rename(columns = lambda x: re.sub('NO2.*','NO2',x), inplace = True)\n",
    "    listOfDataFrames.append(airQualityData)\n",
    "airQualityData= pd.DataFrame(columns= [])\n",
    "for airData in listOfDataFrames:\n",
    "    airQualityData=airQualityData.append(airData)\n",
    "    \n",
    "airQualityData['Start'] = pd.to_datetime(airQualityData['Start'])\n",
    "print(airQualityData.head(5))\n",
    "print(airQualityData.shape)"
   ]
  },
  {
   "cell_type": "code",
   "execution_count": 125,
   "metadata": {},
   "outputs": [],
   "source": [
    "\n",
    "airQualityData= airQualityData.fillna(0)"
   ]
  },
  {
   "cell_type": "code",
   "execution_count": 126,
   "metadata": {},
   "outputs": [],
   "source": [
    "from sklearn.preprocessing import MinMaxScaler\n",
    "sc = MinMaxScaler(feature_range = (0, 1))\n",
    "scaled_down=airQualityData.copy()\n",
    "scaled_down['PM10']=sc.fit_transform(scaled_down['PM10'].values.reshape(-1, 1))\n",
    "scaled_down['NOX']=sc.fit_transform(scaled_down['NOX'].values.reshape(-1, 1))\n",
    "scaled_down['PM2_5']=sc.fit_transform(scaled_down['PM2_5'].values.reshape(-1, 1))\n",
    "scaled_down['NO2']=sc.fit_transform(scaled_down['NO2'].values.reshape(-1, 1))"
   ]
  },
  {
   "cell_type": "code",
   "execution_count": 127,
   "metadata": {},
   "outputs": [],
   "source": [
    "train=scaled_down[(scaled_down['Start']<= \"2018-12-31 23:00:00\")]\n",
    "test=scaled_down[(scaled_down['Start'] >= \"2019-01-01 00:00:00\")]"
   ]
  },
  {
   "cell_type": "code",
   "execution_count": 128,
   "metadata": {},
   "outputs": [
    {
     "name": "stderr",
     "output_type": "stream",
     "text": [
      "c:\\users\\jad\\appdata\\local\\programs\\python\\python37\\lib\\site-packages\\ipykernel_launcher.py:1: SettingWithCopyWarning: \n",
      "A value is trying to be set on a copy of a slice from a DataFrame.\n",
      "Try using .loc[row_indexer,col_indexer] = value instead\n",
      "\n",
      "See the caveats in the documentation: https://pandas.pydata.org/pandas-docs/stable/user_guide/indexing.html#returning-a-view-versus-a-copy\n",
      "  \"\"\"Entry point for launching an IPython kernel.\n",
      "c:\\users\\jad\\appdata\\local\\programs\\python\\python37\\lib\\site-packages\\ipykernel_launcher.py:2: SettingWithCopyWarning: \n",
      "A value is trying to be set on a copy of a slice from a DataFrame.\n",
      "Try using .loc[row_indexer,col_indexer] = value instead\n",
      "\n",
      "See the caveats in the documentation: https://pandas.pydata.org/pandas-docs/stable/user_guide/indexing.html#returning-a-view-versus-a-copy\n",
      "  \n",
      "c:\\users\\jad\\appdata\\local\\programs\\python\\python37\\lib\\site-packages\\ipykernel_launcher.py:3: SettingWithCopyWarning: \n",
      "A value is trying to be set on a copy of a slice from a DataFrame.\n",
      "Try using .loc[row_indexer,col_indexer] = value instead\n",
      "\n",
      "See the caveats in the documentation: https://pandas.pydata.org/pandas-docs/stable/user_guide/indexing.html#returning-a-view-versus-a-copy\n",
      "  This is separate from the ipykernel package so we can avoid doing imports until\n",
      "c:\\users\\jad\\appdata\\local\\programs\\python\\python37\\lib\\site-packages\\ipykernel_launcher.py:4: SettingWithCopyWarning: \n",
      "A value is trying to be set on a copy of a slice from a DataFrame.\n",
      "Try using .loc[row_indexer,col_indexer] = value instead\n",
      "\n",
      "See the caveats in the documentation: https://pandas.pydata.org/pandas-docs/stable/user_guide/indexing.html#returning-a-view-versus-a-copy\n",
      "  after removing the cwd from sys.path.\n"
     ]
    },
    {
     "data": {
      "text/html": [
       "<div>\n",
       "<style scoped>\n",
       "    .dataframe tbody tr th:only-of-type {\n",
       "        vertical-align: middle;\n",
       "    }\n",
       "\n",
       "    .dataframe tbody tr th {\n",
       "        vertical-align: top;\n",
       "    }\n",
       "\n",
       "    .dataframe thead th {\n",
       "        text-align: right;\n",
       "    }\n",
       "</style>\n",
       "<table border=\"1\" class=\"dataframe\">\n",
       "  <thead>\n",
       "    <tr style=\"text-align: right;\">\n",
       "      <th></th>\n",
       "      <th>NO2</th>\n",
       "      <th>NOX</th>\n",
       "      <th>PM10</th>\n",
       "      <th>PM2_5</th>\n",
       "      <th>predicted_NO2</th>\n",
       "      <th>predicted_NOX</th>\n",
       "      <th>predicted_PM10</th>\n",
       "      <th>predicted_PM2_5</th>\n",
       "    </tr>\n",
       "  </thead>\n",
       "  <tbody>\n",
       "    <tr>\n",
       "      <th>0</th>\n",
       "      <td>0.149436</td>\n",
       "      <td>0.047939</td>\n",
       "      <td>0.119731</td>\n",
       "      <td>0.277778</td>\n",
       "      <td>0.151786</td>\n",
       "      <td>0.049160</td>\n",
       "      <td>0.057117</td>\n",
       "      <td>0.111111</td>\n",
       "    </tr>\n",
       "    <tr>\n",
       "      <th>1</th>\n",
       "      <td>0.151786</td>\n",
       "      <td>0.049160</td>\n",
       "      <td>0.057117</td>\n",
       "      <td>0.111111</td>\n",
       "      <td>0.121711</td>\n",
       "      <td>0.036845</td>\n",
       "      <td>0.052841</td>\n",
       "      <td>0.106481</td>\n",
       "    </tr>\n",
       "    <tr>\n",
       "      <th>2</th>\n",
       "      <td>0.121711</td>\n",
       "      <td>0.036845</td>\n",
       "      <td>0.052841</td>\n",
       "      <td>0.106481</td>\n",
       "      <td>0.169643</td>\n",
       "      <td>0.056590</td>\n",
       "      <td>0.051313</td>\n",
       "      <td>0.083333</td>\n",
       "    </tr>\n",
       "    <tr>\n",
       "      <th>3</th>\n",
       "      <td>0.169643</td>\n",
       "      <td>0.056590</td>\n",
       "      <td>0.051313</td>\n",
       "      <td>0.083333</td>\n",
       "      <td>0.141917</td>\n",
       "      <td>0.048550</td>\n",
       "      <td>0.057728</td>\n",
       "      <td>0.092593</td>\n",
       "    </tr>\n",
       "    <tr>\n",
       "      <th>4</th>\n",
       "      <td>0.141917</td>\n",
       "      <td>0.048550</td>\n",
       "      <td>0.057728</td>\n",
       "      <td>0.092593</td>\n",
       "      <td>0.137688</td>\n",
       "      <td>0.044173</td>\n",
       "      <td>0.058644</td>\n",
       "      <td>0.093519</td>\n",
       "    </tr>\n",
       "  </tbody>\n",
       "</table>\n",
       "</div>"
      ],
      "text/plain": [
       "        NO2       NOX      PM10     PM2_5  predicted_NO2  predicted_NOX  \\\n",
       "0  0.149436  0.047939  0.119731  0.277778       0.151786       0.049160   \n",
       "1  0.151786  0.049160  0.057117  0.111111       0.121711       0.036845   \n",
       "2  0.121711  0.036845  0.052841  0.106481       0.169643       0.056590   \n",
       "3  0.169643  0.056590  0.051313  0.083333       0.141917       0.048550   \n",
       "4  0.141917  0.048550  0.057728  0.092593       0.137688       0.044173   \n",
       "\n",
       "   predicted_PM10  predicted_PM2_5  \n",
       "0        0.057117         0.111111  \n",
       "1        0.052841         0.106481  \n",
       "2        0.051313         0.083333  \n",
       "3        0.057728         0.092593  \n",
       "4        0.058644         0.093519  "
      ]
     },
     "execution_count": 128,
     "metadata": {},
     "output_type": "execute_result"
    }
   ],
   "source": [
    "train['predicted_NO2'] = train['NO2'].shift(-1)\n",
    "train['predicted_NOX'] = train['NOX'].shift(-1)\n",
    "train['predicted_PM10'] = train['PM10'].shift(-1)\n",
    "train['predicted_PM2_5'] = train['PM2_5'].shift(-1)\n",
    "\n",
    "# Drop the last row (it has no value for predicted pollution)\n",
    "train = train.drop(train.tail(1).index)\n",
    "train=train.drop('Start',axis=1)\n",
    "train=train.drop('Stop',axis=1)\n",
    "\n",
    "train.head()"
   ]
  },
  {
   "cell_type": "code",
   "execution_count": 129,
   "metadata": {},
   "outputs": [
    {
     "name": "stderr",
     "output_type": "stream",
     "text": [
      "c:\\users\\jad\\appdata\\local\\programs\\python\\python37\\lib\\site-packages\\ipykernel_launcher.py:1: SettingWithCopyWarning: \n",
      "A value is trying to be set on a copy of a slice from a DataFrame.\n",
      "Try using .loc[row_indexer,col_indexer] = value instead\n",
      "\n",
      "See the caveats in the documentation: https://pandas.pydata.org/pandas-docs/stable/user_guide/indexing.html#returning-a-view-versus-a-copy\n",
      "  \"\"\"Entry point for launching an IPython kernel.\n",
      "c:\\users\\jad\\appdata\\local\\programs\\python\\python37\\lib\\site-packages\\ipykernel_launcher.py:2: SettingWithCopyWarning: \n",
      "A value is trying to be set on a copy of a slice from a DataFrame.\n",
      "Try using .loc[row_indexer,col_indexer] = value instead\n",
      "\n",
      "See the caveats in the documentation: https://pandas.pydata.org/pandas-docs/stable/user_guide/indexing.html#returning-a-view-versus-a-copy\n",
      "  \n",
      "c:\\users\\jad\\appdata\\local\\programs\\python\\python37\\lib\\site-packages\\ipykernel_launcher.py:3: SettingWithCopyWarning: \n",
      "A value is trying to be set on a copy of a slice from a DataFrame.\n",
      "Try using .loc[row_indexer,col_indexer] = value instead\n",
      "\n",
      "See the caveats in the documentation: https://pandas.pydata.org/pandas-docs/stable/user_guide/indexing.html#returning-a-view-versus-a-copy\n",
      "  This is separate from the ipykernel package so we can avoid doing imports until\n",
      "c:\\users\\jad\\appdata\\local\\programs\\python\\python37\\lib\\site-packages\\ipykernel_launcher.py:4: SettingWithCopyWarning: \n",
      "A value is trying to be set on a copy of a slice from a DataFrame.\n",
      "Try using .loc[row_indexer,col_indexer] = value instead\n",
      "\n",
      "See the caveats in the documentation: https://pandas.pydata.org/pandas-docs/stable/user_guide/indexing.html#returning-a-view-versus-a-copy\n",
      "  after removing the cwd from sys.path.\n"
     ]
    },
    {
     "data": {
      "text/html": [
       "<div>\n",
       "<style scoped>\n",
       "    .dataframe tbody tr th:only-of-type {\n",
       "        vertical-align: middle;\n",
       "    }\n",
       "\n",
       "    .dataframe tbody tr th {\n",
       "        vertical-align: top;\n",
       "    }\n",
       "\n",
       "    .dataframe thead th {\n",
       "        text-align: right;\n",
       "    }\n",
       "</style>\n",
       "<table border=\"1\" class=\"dataframe\">\n",
       "  <thead>\n",
       "    <tr style=\"text-align: right;\">\n",
       "      <th></th>\n",
       "      <th>NO2</th>\n",
       "      <th>NOX</th>\n",
       "      <th>PM10</th>\n",
       "      <th>PM2_5</th>\n",
       "      <th>predicted_NO2</th>\n",
       "      <th>predicted_NOX</th>\n",
       "      <th>predicted_PM10</th>\n",
       "      <th>predicted_PM2_5</th>\n",
       "    </tr>\n",
       "  </thead>\n",
       "  <tbody>\n",
       "    <tr>\n",
       "      <th>26304</th>\n",
       "      <td>0.072368</td>\n",
       "      <td>0.029924</td>\n",
       "      <td>0.105376</td>\n",
       "      <td>0.301852</td>\n",
       "      <td>0.000000</td>\n",
       "      <td>0.000000</td>\n",
       "      <td>0.060476</td>\n",
       "      <td>0.112963</td>\n",
       "    </tr>\n",
       "    <tr>\n",
       "      <th>26305</th>\n",
       "      <td>0.000000</td>\n",
       "      <td>0.000000</td>\n",
       "      <td>0.060476</td>\n",
       "      <td>0.112963</td>\n",
       "      <td>0.062030</td>\n",
       "      <td>0.022087</td>\n",
       "      <td>0.037874</td>\n",
       "      <td>0.046296</td>\n",
       "    </tr>\n",
       "    <tr>\n",
       "      <th>26306</th>\n",
       "      <td>0.062030</td>\n",
       "      <td>0.022087</td>\n",
       "      <td>0.037874</td>\n",
       "      <td>0.046296</td>\n",
       "      <td>0.081297</td>\n",
       "      <td>0.033181</td>\n",
       "      <td>0.033903</td>\n",
       "      <td>0.043519</td>\n",
       "    </tr>\n",
       "    <tr>\n",
       "      <th>26307</th>\n",
       "      <td>0.081297</td>\n",
       "      <td>0.033181</td>\n",
       "      <td>0.033903</td>\n",
       "      <td>0.043519</td>\n",
       "      <td>0.051222</td>\n",
       "      <td>0.020560</td>\n",
       "      <td>0.041234</td>\n",
       "      <td>0.029630</td>\n",
       "    </tr>\n",
       "    <tr>\n",
       "      <th>26308</th>\n",
       "      <td>0.051222</td>\n",
       "      <td>0.020560</td>\n",
       "      <td>0.041234</td>\n",
       "      <td>0.029630</td>\n",
       "      <td>0.064850</td>\n",
       "      <td>0.029109</td>\n",
       "      <td>0.037569</td>\n",
       "      <td>0.046296</td>\n",
       "    </tr>\n",
       "  </tbody>\n",
       "</table>\n",
       "</div>"
      ],
      "text/plain": [
       "            NO2       NOX      PM10     PM2_5  predicted_NO2  predicted_NOX  \\\n",
       "26304  0.072368  0.029924  0.105376  0.301852       0.000000       0.000000   \n",
       "26305  0.000000  0.000000  0.060476  0.112963       0.062030       0.022087   \n",
       "26306  0.062030  0.022087  0.037874  0.046296       0.081297       0.033181   \n",
       "26307  0.081297  0.033181  0.033903  0.043519       0.051222       0.020560   \n",
       "26308  0.051222  0.020560  0.041234  0.029630       0.064850       0.029109   \n",
       "\n",
       "       predicted_PM10  predicted_PM2_5  \n",
       "26304        0.060476         0.112963  \n",
       "26305        0.037874         0.046296  \n",
       "26306        0.033903         0.043519  \n",
       "26307        0.041234         0.029630  \n",
       "26308        0.037569         0.046296  "
      ]
     },
     "execution_count": 129,
     "metadata": {},
     "output_type": "execute_result"
    }
   ],
   "source": [
    "test['predicted_NO2'] = test['NO2'].shift(-1)\n",
    "test['predicted_NOX'] = test['NOX'].shift(-1)\n",
    "test['predicted_PM10'] = test['PM10'].shift(-1)\n",
    "test['predicted_PM2_5'] = test['PM2_5'].shift(-1)\n",
    "# Drop the last row (it has no value for predicted pollution)\n",
    "test = test.drop(test.tail(1).index)\n",
    "test=test.drop('Start',axis=1)\n",
    "test=test.drop('Stop',axis=1)\n",
    "test.head()"
   ]
  },
  {
   "cell_type": "code",
   "execution_count": 130,
   "metadata": {},
   "outputs": [],
   "source": [
    "train_values=train.values\n",
    "test_values=test.values\n",
    "test_X, test_y = test_values[:, 0:4], test_values[:, 4:8]\n",
    "train_X, train_y = train_values[:, 0:4], train_values[:, 4:8]"
   ]
  },
  {
   "cell_type": "code",
   "execution_count": 131,
   "metadata": {},
   "outputs": [
    {
     "data": {
      "text/plain": [
       "array([[0.14943609, 0.04793893, 0.11973122, 0.27777778],\n",
       "       [0.15178571, 0.04916031, 0.05711668, 0.11111111],\n",
       "       [0.12171053, 0.03684478, 0.05284056, 0.10648148],\n",
       "       ...,\n",
       "       [0.0662594 , 0.02768448, 0.03848503, 0.10740741],\n",
       "       [0.06203008, 0.02340967, 0.04031765, 0.08055556],\n",
       "       [0.08740602, 0.03226463, 0.03543067, 0.07777778]])"
      ]
     },
     "execution_count": 131,
     "metadata": {},
     "output_type": "execute_result"
    }
   ],
   "source": [
    "train_X"
   ]
  },
  {
   "cell_type": "code",
   "execution_count": 132,
   "metadata": {},
   "outputs": [
    {
     "data": {
      "text/plain": [
       "array([[0.15178571, 0.04916031, 0.05711668, 0.11111111],\n",
       "       [0.12171053, 0.03684478, 0.05284056, 0.10648148],\n",
       "       [0.16964286, 0.05659033, 0.05131338, 0.08333333],\n",
       "       ...,\n",
       "       [0.06203008, 0.02340967, 0.04031765, 0.08055556],\n",
       "       [0.08740602, 0.03226463, 0.03543067, 0.07777778],\n",
       "       [0.09680451, 0.0421374 , 0.04551008, 0.10555556]])"
      ]
     },
     "execution_count": 132,
     "metadata": {},
     "output_type": "execute_result"
    }
   ],
   "source": [
    "train_y"
   ]
  },
  {
   "cell_type": "code",
   "execution_count": 133,
   "metadata": {},
   "outputs": [
    {
     "data": {
      "text/plain": [
       "((26303, 1, 4), (26303, 4), (8759, 1, 4), (8759, 4))"
      ]
     },
     "execution_count": 133,
     "metadata": {},
     "output_type": "execute_result"
    }
   ],
   "source": [
    "train_X = train_X.reshape((train_X.shape[0], 1, train_X.shape[1]))\n",
    "test_X = test_X.reshape((test_X.shape[0], 1, test_X.shape[1]))\n",
    "train_X.shape, train_y.shape, test_X.shape, test_y.shape"
   ]
  },
  {
   "cell_type": "code",
   "execution_count": 134,
   "metadata": {},
   "outputs": [
    {
     "name": "stdout",
     "output_type": "stream",
     "text": [
      "Epoch 1/30\n",
      "366/366 - 1s - loss: 0.0049 - val_loss: 0.0033\n",
      "Epoch 2/30\n",
      "366/366 - 0s - loss: 0.0045 - val_loss: 0.0033\n",
      "Epoch 3/30\n",
      "366/366 - 0s - loss: 0.0045 - val_loss: 0.0033\n",
      "Epoch 4/30\n",
      "366/366 - 0s - loss: 0.0045 - val_loss: 0.0033\n",
      "Epoch 5/30\n",
      "366/366 - 0s - loss: 0.0045 - val_loss: 0.0033\n",
      "Epoch 6/30\n",
      "366/366 - 1s - loss: 0.0045 - val_loss: 0.0033\n",
      "Epoch 7/30\n",
      "366/366 - 0s - loss: 0.0045 - val_loss: 0.0033\n",
      "Epoch 8/30\n",
      "366/366 - 1s - loss: 0.0045 - val_loss: 0.0033\n",
      "Epoch 9/30\n",
      "366/366 - 1s - loss: 0.0045 - val_loss: 0.0033\n",
      "Epoch 10/30\n",
      "366/366 - 1s - loss: 0.0045 - val_loss: 0.0033\n",
      "Epoch 11/30\n",
      "366/366 - 1s - loss: 0.0045 - val_loss: 0.0033\n",
      "Epoch 12/30\n",
      "366/366 - 1s - loss: 0.0045 - val_loss: 0.0033\n",
      "Epoch 13/30\n",
      "366/366 - 0s - loss: 0.0045 - val_loss: 0.0033\n",
      "Epoch 14/30\n",
      "366/366 - 1s - loss: 0.0045 - val_loss: 0.0033\n",
      "Epoch 15/30\n",
      "366/366 - 1s - loss: 0.0045 - val_loss: 0.0033\n",
      "Epoch 16/30\n",
      "366/366 - 1s - loss: 0.0045 - val_loss: 0.0033\n",
      "Epoch 17/30\n",
      "366/366 - 0s - loss: 0.0045 - val_loss: 0.0033\n",
      "Epoch 18/30\n",
      "366/366 - 1s - loss: 0.0045 - val_loss: 0.0033\n",
      "Epoch 19/30\n",
      "366/366 - 1s - loss: 0.0045 - val_loss: 0.0033\n",
      "Epoch 20/30\n",
      "366/366 - 1s - loss: 0.0045 - val_loss: 0.0033\n",
      "Epoch 21/30\n",
      "366/366 - 1s - loss: 0.0045 - val_loss: 0.0033\n",
      "Epoch 22/30\n",
      "366/366 - 1s - loss: 0.0045 - val_loss: 0.0033\n",
      "Epoch 23/30\n",
      "366/366 - 0s - loss: 0.0045 - val_loss: 0.0033\n",
      "Epoch 24/30\n",
      "366/366 - 1s - loss: 0.0045 - val_loss: 0.0033\n",
      "Epoch 25/30\n",
      "366/366 - 1s - loss: 0.0045 - val_loss: 0.0033\n",
      "Epoch 26/30\n",
      "366/366 - 1s - loss: 0.0045 - val_loss: 0.0033\n",
      "Epoch 27/30\n",
      "366/366 - 1s - loss: 0.0045 - val_loss: 0.0033\n",
      "Epoch 28/30\n",
      "366/366 - 1s - loss: 0.0045 - val_loss: 0.0033\n",
      "Epoch 29/30\n",
      "366/366 - 1s - loss: 0.0045 - val_loss: 0.0033\n",
      "Epoch 30/30\n",
      "366/366 - 1s - loss: 0.0045 - val_loss: 0.0033\n"
     ]
    }
   ],
   "source": [
    "from keras.models import Sequential\n",
    "from keras.layers import LSTM, Dense\n",
    "model = Sequential()\n",
    "model.add(LSTM(100, input_shape=(train_X.shape[1], train_X.shape[2])))\n",
    "model.add(Dense(1))\n",
    "model.compile(loss='MSE', optimizer='adam')\n",
    "\n",
    "history = model.fit(train_X, train_y, epochs=30,\n",
    "                    batch_size=72, validation_data=(test_X, test_y),\n",
    "                    verbose=2, shuffle=False)"
   ]
  },
  {
   "cell_type": "code",
   "execution_count": 122,
   "metadata": {},
   "outputs": [
    {
     "data": {
      "text/plain": [
       "[<matplotlib.lines.Line2D at 0x1a0d1d1e288>]"
      ]
     },
     "execution_count": 122,
     "metadata": {},
     "output_type": "execute_result"
    },
    {
     "data": {
      "image/png": "[encoded data removed]",
      "text/plain": [
       "<Figure size 432x288 with 1 Axes>"
      ]
     },
     "metadata": {
      "needs_background": "light"
     },
     "output_type": "display_data"
    }
   ],
   "source": [
    "# plot history\n",
    "plt.plot(history.history['loss'], label='train')\n",
    "plt.plot(history.history['val_loss'], label='test')#orange is validation loss"
   ]
  },
  {
   "cell_type": "code",
   "execution_count": 123,
   "metadata": {},
   "outputs": [
    {
     "ename": "ValueError",
     "evalue": "Found input variables with inconsistent numbers of samples: [35040, 8760]",
     "output_type": "error",
     "traceback": [
      "\u001b[1;31m---------------------------------------------------------------------------\u001b[0m",
      "\u001b[1;31mValueError\u001b[0m                                Traceback (most recent call last)",
      "\u001b[1;32m<ipython-input-123-e17173105536>\u001b[0m in \u001b[0;36m<module>\u001b[1;34m\u001b[0m\n\u001b[0;32m     12\u001b[0m \u001b[1;33m\u001b[0m\u001b[0m\n\u001b[0;32m     13\u001b[0m \u001b[1;31m# Calculate RMSE\u001b[0m\u001b[1;33m\u001b[0m\u001b[1;33m\u001b[0m\u001b[1;33m\u001b[0m\u001b[0m\n\u001b[1;32m---> 14\u001b[1;33m \u001b[0mrmse\u001b[0m \u001b[1;33m=\u001b[0m \u001b[0mmath\u001b[0m\u001b[1;33m.\u001b[0m\u001b[0msqrt\u001b[0m\u001b[1;33m(\u001b[0m\u001b[0mmean_squared_error\u001b[0m\u001b[1;33m(\u001b[0m\u001b[0minv_y\u001b[0m\u001b[1;33m,\u001b[0m \u001b[0minv_yhat\u001b[0m\u001b[1;33m)\u001b[0m\u001b[1;33m)\u001b[0m\u001b[1;33m\u001b[0m\u001b[1;33m\u001b[0m\u001b[0m\n\u001b[0m\u001b[0;32m     15\u001b[0m \u001b[1;34m'{:.3f}'\u001b[0m\u001b[1;33m.\u001b[0m\u001b[0mformat\u001b[0m\u001b[1;33m(\u001b[0m\u001b[0mrmse\u001b[0m\u001b[1;33m)\u001b[0m\u001b[1;33m\u001b[0m\u001b[1;33m\u001b[0m\u001b[0m\n",
      "\u001b[1;32mc:\\users\\jad\\appdata\\local\\programs\\python\\python37\\lib\\site-packages\\sklearn\\utils\\validation.py\u001b[0m in \u001b[0;36minner_f\u001b[1;34m(*args, **kwargs)\u001b[0m\n\u001b[0;32m     70\u001b[0m                           FutureWarning)\n\u001b[0;32m     71\u001b[0m         \u001b[0mkwargs\u001b[0m\u001b[1;33m.\u001b[0m\u001b[0mupdate\u001b[0m\u001b[1;33m(\u001b[0m\u001b[1;33m{\u001b[0m\u001b[0mk\u001b[0m\u001b[1;33m:\u001b[0m \u001b[0marg\u001b[0m \u001b[1;32mfor\u001b[0m \u001b[0mk\u001b[0m\u001b[1;33m,\u001b[0m \u001b[0marg\u001b[0m \u001b[1;32min\u001b[0m \u001b[0mzip\u001b[0m\u001b[1;33m(\u001b[0m\u001b[0msig\u001b[0m\u001b[1;33m.\u001b[0m\u001b[0mparameters\u001b[0m\u001b[1;33m,\u001b[0m \u001b[0margs\u001b[0m\u001b[1;33m)\u001b[0m\u001b[1;33m}\u001b[0m\u001b[1;33m)\u001b[0m\u001b[1;33m\u001b[0m\u001b[1;33m\u001b[0m\u001b[0m\n\u001b[1;32m---> 72\u001b[1;33m         \u001b[1;32mreturn\u001b[0m \u001b[0mf\u001b[0m\u001b[1;33m(\u001b[0m\u001b[1;33m**\u001b[0m\u001b[0mkwargs\u001b[0m\u001b[1;33m)\u001b[0m\u001b[1;33m\u001b[0m\u001b[1;33m\u001b[0m\u001b[0m\n\u001b[0m\u001b[0;32m     73\u001b[0m     \u001b[1;32mreturn\u001b[0m \u001b[0minner_f\u001b[0m\u001b[1;33m\u001b[0m\u001b[1;33m\u001b[0m\u001b[0m\n\u001b[0;32m     74\u001b[0m \u001b[1;33m\u001b[0m\u001b[0m\n",
      "\u001b[1;32mc:\\users\\jad\\appdata\\local\\programs\\python\\python37\\lib\\site-packages\\sklearn\\metrics\\_regression.py\u001b[0m in \u001b[0;36mmean_squared_error\u001b[1;34m(y_true, y_pred, sample_weight, multioutput, squared)\u001b[0m\n\u001b[0;32m    254\u001b[0m     \"\"\"\n\u001b[0;32m    255\u001b[0m     y_type, y_true, y_pred, multioutput = _check_reg_targets(\n\u001b[1;32m--> 256\u001b[1;33m         y_true, y_pred, multioutput)\n\u001b[0m\u001b[0;32m    257\u001b[0m     \u001b[0mcheck_consistent_length\u001b[0m\u001b[1;33m(\u001b[0m\u001b[0my_true\u001b[0m\u001b[1;33m,\u001b[0m \u001b[0my_pred\u001b[0m\u001b[1;33m,\u001b[0m \u001b[0msample_weight\u001b[0m\u001b[1;33m)\u001b[0m\u001b[1;33m\u001b[0m\u001b[1;33m\u001b[0m\u001b[0m\n\u001b[0;32m    258\u001b[0m     output_errors = np.average((y_true - y_pred) ** 2, axis=0,\n",
      "\u001b[1;32mc:\\users\\jad\\appdata\\local\\programs\\python\\python37\\lib\\site-packages\\sklearn\\metrics\\_regression.py\u001b[0m in \u001b[0;36m_check_reg_targets\u001b[1;34m(y_true, y_pred, multioutput, dtype)\u001b[0m\n\u001b[0;32m     82\u001b[0m \u001b[1;33m\u001b[0m\u001b[0m\n\u001b[0;32m     83\u001b[0m     \"\"\"\n\u001b[1;32m---> 84\u001b[1;33m     \u001b[0mcheck_consistent_length\u001b[0m\u001b[1;33m(\u001b[0m\u001b[0my_true\u001b[0m\u001b[1;33m,\u001b[0m \u001b[0my_pred\u001b[0m\u001b[1;33m)\u001b[0m\u001b[1;33m\u001b[0m\u001b[1;33m\u001b[0m\u001b[0m\n\u001b[0m\u001b[0;32m     85\u001b[0m     \u001b[0my_true\u001b[0m \u001b[1;33m=\u001b[0m \u001b[0mcheck_array\u001b[0m\u001b[1;33m(\u001b[0m\u001b[0my_true\u001b[0m\u001b[1;33m,\u001b[0m \u001b[0mensure_2d\u001b[0m\u001b[1;33m=\u001b[0m\u001b[1;32mFalse\u001b[0m\u001b[1;33m,\u001b[0m \u001b[0mdtype\u001b[0m\u001b[1;33m=\u001b[0m\u001b[0mdtype\u001b[0m\u001b[1;33m)\u001b[0m\u001b[1;33m\u001b[0m\u001b[1;33m\u001b[0m\u001b[0m\n\u001b[0;32m     86\u001b[0m     \u001b[0my_pred\u001b[0m \u001b[1;33m=\u001b[0m \u001b[0mcheck_array\u001b[0m\u001b[1;33m(\u001b[0m\u001b[0my_pred\u001b[0m\u001b[1;33m,\u001b[0m \u001b[0mensure_2d\u001b[0m\u001b[1;33m=\u001b[0m\u001b[1;32mFalse\u001b[0m\u001b[1;33m,\u001b[0m \u001b[0mdtype\u001b[0m\u001b[1;33m=\u001b[0m\u001b[0mdtype\u001b[0m\u001b[1;33m)\u001b[0m\u001b[1;33m\u001b[0m\u001b[1;33m\u001b[0m\u001b[0m\n",
      "\u001b[1;32mc:\\users\\jad\\appdata\\local\\programs\\python\\python37\\lib\\site-packages\\sklearn\\utils\\validation.py\u001b[0m in \u001b[0;36mcheck_consistent_length\u001b[1;34m(*arrays)\u001b[0m\n\u001b[0;32m    254\u001b[0m     \u001b[1;32mif\u001b[0m \u001b[0mlen\u001b[0m\u001b[1;33m(\u001b[0m\u001b[0muniques\u001b[0m\u001b[1;33m)\u001b[0m \u001b[1;33m>\u001b[0m \u001b[1;36m1\u001b[0m\u001b[1;33m:\u001b[0m\u001b[1;33m\u001b[0m\u001b[1;33m\u001b[0m\u001b[0m\n\u001b[0;32m    255\u001b[0m         raise ValueError(\"Found input variables with inconsistent numbers of\"\n\u001b[1;32m--> 256\u001b[1;33m                          \" samples: %r\" % [int(l) for l in lengths])\n\u001b[0m\u001b[0;32m    257\u001b[0m \u001b[1;33m\u001b[0m\u001b[0m\n\u001b[0;32m    258\u001b[0m \u001b[1;33m\u001b[0m\u001b[0m\n",
      "\u001b[1;31mValueError\u001b[0m: Found input variables with inconsistent numbers of samples: [35040, 8760]"
     ]
    }
   ],
   "source": [
    "# For Data Preprocessing\n",
    "from sklearn.preprocessing import LabelEncoder, MinMaxScaler\n",
    "yhat = model.predict(test_X)\n",
    "\n",
    "\n",
    "inv_yhat = sc.inverse_transform(yhat)\n",
    "\n",
    "\n",
    "\n",
    "inv_y = sc.inverse_transform(test_y.reshape(-1, 1))\n",
    "\n",
    "\n",
    "# Calculate RMSE\n",
    "rmse = math.sqrt(mean_squared_error(inv_y, inv_yhat))\n",
    "'{:.3f}'.format(rmse)"
   ]
  },
  {
   "cell_type": "code",
   "execution_count": null,
   "metadata": {},
   "outputs": [],
   "source": [
    "inv_yhat.shape"
   ]
  },
  {
   "cell_type": "code",
   "execution_count": null,
   "metadata": {},
   "outputs": [],
   "source": [
    "test_y.shape"
   ]
  },
  {
   "cell_type": "code",
   "execution_count": null,
   "metadata": {},
   "outputs": [],
   "source": [
    "test_X.shape"
   ]
  },
  {
   "cell_type": "code",
   "execution_count": null,
   "metadata": {},
   "outputs": [],
   "source": [
    "train_X.shape[2]"
   ]
  },
  {
   "cell_type": "code",
   "execution_count": null,
   "metadata": {},
   "outputs": [],
   "source": [
    "inv_yhat"
   ]
  },
  {
   "cell_type": "code",
   "execution_count": null,
   "metadata": {},
   "outputs": [],
   "source": [
    "test_y"
   ]
  },
  {
   "cell_type": "code",
   "execution_count": null,
   "metadata": {},
   "outputs": [],
   "source": [
    "train_X.shape[1]"
   ]
  },
  {
   "cell_type": "code",
   "execution_count": null,
   "metadata": {},
   "outputs": [],
   "source": []
  }
 ],
 "metadata": {
  "kernelspec": {
   "display_name": "Python 3",
   "language": "python",
   "name": "python3"
  },
  "language_info": {
   "codemirror_mode": {
    "name": "ipython",
    "version": 3
   },
   "file_extension": ".py",
   "mimetype": "text/x-python",
   "name": "python",
   "nbconvert_exporter": "python",
   "pygments_lexer": "ipython3",
   "version": "3.7.8"
  }
 },
 "nbformat": 4,
 "nbformat_minor": 4
}
