{
 "cells": [
  {
   "cell_type": "code",
   "execution_count": 1,
   "metadata": {},
   "outputs": [],
   "source": [
    "import os\n",
    "import pandas as pd\n",
    "import numpy as np\n",
    "import re\n",
    "import seaborn as sns\n",
    "import matplotlib.pyplot as plt\n",
    "from matplotlib import pyplot\n",
    "from scipy import stats"
   ]
  },
  {
   "cell_type": "code",
   "execution_count": null,
   "metadata": {},
   "outputs": [],
   "source": [
    "dataPath = 'Data/2016-2019(NO2, NOX, PM2.5)'\n",
    "listOfDataFrames=[]\n",
    "stations=os.listdir(dataPath)\n",
    "for station in stations:\n",
    "    print(\"Processing year: \"+ dataPath +\" station: \"+station)\n",
    "    airQualityData=pd.read_csv(dataPath+'\\\\'+station, header=12,sep=';').rename(columns={'Start':'Start','Slut':'Stop'})\n",
    "    airQualityData.rename(columns = lambda x: re.sub('NOX.*','NOX',x), inplace = True)\n",
    "    airQualityData.rename(columns = lambda x: re.sub('PM10.*','PM10',x), inplace = True)\n",
    "    airQualityData.rename(columns = lambda x: re.sub('PM2.5.*','PM2_5',x), inplace = True)\n",
    "    airQualityData.rename(columns = lambda x: re.sub('NO2.*','NO2',x), inplace = True)\n",
    "    listOfDataFrames.append(airQualityData)\n",
    "airQualityData= pd.DataFrame(columns= [])\n",
    "for airData in listOfDataFrames:\n",
    "    airQualityData=airQualityData.append(airData)\n",
    "    \n",
    "airQualityData['Start'] = pd.to_datetime(airQualityData['Start'])\n",
    "print(airQualityData.head(5))\n",
    "print(airQualityData.shape)"
   ]
  }
 ],
 "metadata": {
  "kernelspec": {
   "display_name": "Python 3",
   "language": "python",
   "name": "python3"
  },
  "language_info": {
   "codemirror_mode": {
    "name": "ipython",
    "version": 3
   },
   "file_extension": ".py",
   "mimetype": "text/x-python",
   "name": "python",
   "nbconvert_exporter": "python",
   "pygments_lexer": "ipython3",
   "version": "3.7.8"
  }
 },
 "nbformat": 4,
 "nbformat_minor": 4
}
